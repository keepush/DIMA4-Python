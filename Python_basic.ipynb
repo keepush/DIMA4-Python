{
 "cells": [
  {
   "cell_type": "markdown",
   "id": "ed66e41a-0795-44a5-bc94-c3ff0f226864",
   "metadata": {},
   "source": [
    "# 주석문"
   ]
  },
  {
   "cell_type": "markdown",
   "id": "8b761b62-674e-48e4-9d54-0f991b7b5b4e",
   "metadata": {},
   "source": [
    "- **주석**은 코드의 실행과 무관한 문장을 기록하기 위한 기능이다"
   ]
  },
  {
   "cell_type": "code",
   "execution_count": 1,
   "id": "6a6f4f54-977f-4a0c-8565-514bbe628043",
   "metadata": {},
   "outputs": [
    {
     "name": "stdout",
     "output_type": "stream",
     "text": [
      "10\n"
     ]
    }
   ],
   "source": [
    "# 변수 선언\n",
    "a = 10\n",
    "print(a)"
   ]
  },
  {
   "cell_type": "markdown",
   "id": "004732bb-338c-4447-bcb6-1304bbf37738",
   "metadata": {},
   "source": [
    "# Mark Down 실습"
   ]
  },
  {
   "cell_type": "markdown",
   "id": "331b9fa9-337a-499f-86af-1f0258138184",
   "metadata": {},
   "source": [
    "## 블록 인용문"
   ]
  },
  {
   "cell_type": "markdown",
   "id": "17995167-a9ea-4e53-a3c8-35c29d04122f",
   "metadata": {},
   "source": [
    "- 블록 인용문 실습\n",
    "> 첫 번째 블록 인용문\n",
    "> > 두 번째 블록 인용문"
   ]
  },
  {
   "cell_type": "markdown",
   "id": "54c311ec-43eb-4738-a3a3-973481dfb951",
   "metadata": {},
   "source": [
    "## 순서 있는 목록\n",
    "- 숫자와 마침표 사용"
   ]
  },
  {
   "cell_type": "markdown",
   "id": "8617547b-61ee-4a48-8c43-c1c6f459aebe",
   "metadata": {},
   "source": [
    "1. 첫 번째 목록\n",
    "2. 두 번째 목록"
   ]
  },
  {
   "cell_type": "markdown",
   "id": "49b704d7-4a6a-4895-88c2-67a05b153c50",
   "metadata": {},
   "source": [
    "## 줄바꿈\n",
    "- \\<br\\> 태그 또는 공백 두 칸 다음에 엔터"
   ]
  },
  {
   "cell_type": "markdown",
   "id": "b5ff224a-34a3-4195-a4ac-7884131aea3f",
   "metadata": {},
   "source": [
    "문장1  \n",
    "문장2"
   ]
  },
  {
   "cell_type": "markdown",
   "id": "088d9038-54ad-44bf-ab38-328857dc0b79",
   "metadata": {},
   "source": [
    "## 기울여 쓰기\n",
    "- '*' ,  '_' 로 감싼 텍스트"
   ]
  },
  {
   "cell_type": "markdown",
   "id": "d4edae8b-9c1e-435a-bc85-67defdd72ae0",
   "metadata": {},
   "source": [
    "- 문장 *기울여* 쓰기"
   ]
  },
  {
   "cell_type": "markdown",
   "id": "94c57ac5-c48d-405c-9c7d-466c6e9581dd",
   "metadata": {},
   "source": [
    "## 취소선\n",
    "- '~~'로 감싼 텍스트"
   ]
  },
  {
   "cell_type": "markdown",
   "id": "8b87aeb1-a683-4548-b79f-ac9cdfafb1f2",
   "metadata": {},
   "source": [
    "- ~~취소 문장~~"
   ]
  },
  {
   "cell_type": "markdown",
   "id": "34b5c182-cfdf-43fb-a8cc-5dba1c8fa692",
   "metadata": {},
   "source": [
    "## 글상자\n",
    "- '`'로 감싼 텍스트"
   ]
  },
  {
   "cell_type": "markdown",
   "id": "eb128f03-0896-4414-9e12-b0a74fbcfad1",
   "metadata": {},
   "source": [
    "- `글상자` 테스트"
   ]
  },
  {
   "cell_type": "markdown",
   "id": "8d388ca8-0be7-46fc-8793-bc575781a89c",
   "metadata": {},
   "source": [
    "## 링크\n",
    "- 사이트 및 이메일 링크, \\[제목](주소)"
   ]
  },
  {
   "cell_type": "markdown",
   "id": "14f07f74-b149-4aab-a07b-686d0f8f2391",
   "metadata": {},
   "source": [
    "[네이버](https://www.naver.com)"
   ]
  },
  {
   "cell_type": "markdown",
   "id": "e4997875-9b54-427d-8ec2-dab3b1f1b2a5",
   "metadata": {},
   "source": [
    "## 내부 링크\n",
    "- 내부 헤더로 이동하는 링크\n",
    "- \\[제목](#이동할 헤더 제목)\n",
    "- 제목에 띄어쓰기가 있는 경우, '-'로 연결"
   ]
  },
  {
   "cell_type": "markdown",
   "id": "9f03ed79-d1e7-4981-a707-cb38adfdd3ce",
   "metadata": {},
   "source": [
    "[마크다운 실습](#Mark-Down-실습)"
   ]
  },
  {
   "cell_type": "markdown",
   "id": "9fd95dd4-ca91-4039-897c-80d48b758cc9",
   "metadata": {},
   "source": [
    "## 이미지 삽입\n",
    "- \\![제목](파일 이름 또는 웹 주소)"
   ]
  },
  {
   "cell_type": "markdown",
   "id": "4abe6d40-45be-4f53-954f-cfae01c5cab6",
   "metadata": {},
   "source": [
    "![파이썬 로고](python.jpg)"
   ]
  },
  {
   "cell_type": "markdown",
   "id": "b3a66421-b301-49a0-a495-770310ec86f1",
   "metadata": {},
   "source": [
    "<img"
   ]
  },
  {
   "cell_type": "markdown",
   "id": "7d4fc9c0-94f6-4a12-8edb-cf5d9dddddca",
   "metadata": {},
   "source": [
    "## 코드 삽입\n",
    "- \\```코드이름``` 사이에 코드 블록 삽입\n",
    "- 코드이름: python, html, javascript, java...."
   ]
  },
  {
   "cell_type": "markdown",
   "id": "f7fc43c7-d939-4593-8ae6-edb4e84cb9af",
   "metadata": {},
   "source": [
    "- 파이썬 코드 삽입\n",
    "```python\n",
    "import time\n",
    "print('hello')\n",
    "```"
   ]
  },
  {
   "cell_type": "markdown",
   "id": "60c9b0aa-9701-4e9f-a011-d1712842527c",
   "metadata": {},
   "source": [
    "## 표\n",
    "- 헤더 셀을 구분할 때 3개 이상의 --- 기호 사용\n",
    "- 콜론(:)으로 정렬 방식을 지정"
   ]
  },
  {
   "cell_type": "markdown",
   "id": "7bf7acf2-a01e-4f20-8573-f4d6f74ce24f",
   "metadata": {},
   "source": [
    "|Type-A|Predict|Type-B|\n",
    "|:---:|:---:|:---:|\n",
    "|Kind|Positive|Negative|\n",
    "|Positive|10|20|\n",
    "|Negative|10|20|"
   ]
  },
  {
   "cell_type": "markdown",
   "id": "9a0bd3e1-7ea1-4dd2-80db-9c15f1a991ce",
   "metadata": {},
   "source": [
    "# 연산자와 데이터"
   ]
  },
  {
   "cell_type": "code",
   "execution_count": 9,
   "id": "9790fb6e-ff4a-42fd-bc30-333c03326b15",
   "metadata": {},
   "outputs": [
    {
     "name": "stdout",
     "output_type": "stream",
     "text": [
      "45\n",
      "-25\n",
      "350\n",
      "0.2857142857142857\n",
      "0\n",
      "3\n"
     ]
    }
   ],
   "source": [
    "# 산술 연산자\n",
    "\n",
    "a = 10\n",
    "b = 35\n",
    "\n",
    "print(a+b)\n",
    "print(a-b)\n",
    "print(a*b)\n",
    "print(a/b)\n",
    "print(a//b)\n",
    "print(b//a)"
   ]
  },
  {
   "cell_type": "code",
   "execution_count": 11,
   "id": "05058d8b-c9d4-4bc9-95e9-0e2099383c97",
   "metadata": {},
   "outputs": [
    {
     "name": "stdout",
     "output_type": "stream",
     "text": [
      "사과10\n"
     ]
    }
   ],
   "source": [
    "# + 연산자 오버로딩: 문자 결합. 단! 숫자와 문자열 결합은 불가\n",
    "c = '사과'\n",
    "d = 10\n",
    "\n",
    "print(c+str(d))  # str(d): d변수의 데이터 타입을 문자열로 변환"
   ]
  },
  {
   "cell_type": "code",
   "execution_count": 12,
   "id": "77351a51-c455-4637-8a97-6b647bf79543",
   "metadata": {},
   "outputs": [
    {
     "name": "stdout",
     "output_type": "stream",
     "text": [
      "하하하하하\n"
     ]
    }
   ],
   "source": [
    "# * 연산자 오버로딩: 문자열 반복\n",
    "e = '하'\n",
    "print(e*5)"
   ]
  },
  {
   "cell_type": "code",
   "execution_count": 13,
   "id": "48c0fd58-191f-4611-9cc3-445c117a9299",
   "metadata": {},
   "outputs": [
    {
     "name": "stdout",
     "output_type": "stream",
     "text": [
      "1.5\n"
     ]
    }
   ],
   "source": [
    "# 나머지 연산자(mod): %\n",
    "f = 25.5\n",
    "g = 3\n",
    "\n",
    "print(f % g)"
   ]
  },
  {
   "cell_type": "code",
   "execution_count": 14,
   "id": "36ff7d07-2d16-4409-8c97-bebd6f1c8117",
   "metadata": {},
   "outputs": [
    {
     "name": "stdout",
     "output_type": "stream",
     "text": [
      "9\n"
     ]
    }
   ],
   "source": [
    "# 거듭제곱 연산자: **\n",
    "print(g ** 2)"
   ]
  },
  {
   "cell_type": "code",
   "execution_count": 16,
   "id": "cae543df-c2c9-4cf6-8fc7-d111d2926422",
   "metadata": {},
   "outputs": [
    {
     "name": "stdout",
     "output_type": "stream",
     "text": [
      "0\n",
      "1\n"
     ]
    }
   ],
   "source": [
    "# 논리 연산자\n",
    "\n",
    "x = 1   #True\n",
    "y = 0   #False\n",
    "print(x and y)\n",
    "print(x or y)"
   ]
  },
  {
   "cell_type": "code",
   "execution_count": 79,
   "id": "4a01f6e5-e8f1-441c-b6d2-fc3d815ef912",
   "metadata": {},
   "outputs": [
    {
     "name": "stdout",
     "output_type": "stream",
     "text": [
      "10 20\n",
      "10,20\n",
      "10 20\n"
     ]
    }
   ],
   "source": [
    "a = 10\n",
    "b = 20\n",
    "print(a,b)\n",
    "print(a,b, sep=',')   # sep 파라미터: 하나의 프린트 함수에 여러 값을 출력할 때 사용할 구분 문자열\n",
    "print(a, end=' ')    # end 파라미터: 값을 출력 후 끝에 출력할 문자열, 기본 값은 '\\n' (new line)이다.\n",
    "print(b)"
   ]
  },
  {
   "cell_type": "markdown",
   "id": "0081e48e-55ce-428a-935a-13daa2c72057",
   "metadata": {},
   "source": [
    "[문제] A 회사의 주가가 56,000원이고 B 회사의 주가가 125,000원이라고 할 때, 어떤 사람이 A 주식 100주와 B 주식 35주를 가지고 있다면 그사람이 가지고 있는 주식의 총액을 계산하는 코드를 변수 선언 및 연산자를 사용하여 작성하시오."
   ]
  },
  {
   "cell_type": "code",
   "execution_count": 29,
   "id": "8b3f0427-becc-4c79-8a54-05880e3e3024",
   "metadata": {},
   "outputs": [
    {
     "name": "stdout",
     "output_type": "stream",
     "text": [
      "총 주식액: 9,975,000\n"
     ]
    }
   ],
   "source": [
    "A = 56000\n",
    "B = 125000\n",
    "total_money = (A * 100) + (B * 35)\n",
    "# print('총 주식액: ', total_money)\n",
    "print(f'총 주식액: {total_money:,}')"
   ]
  },
  {
   "cell_type": "markdown",
   "id": "629aa10c-7876-43e6-b4b8-547754f379ba",
   "metadata": {},
   "source": [
    "[문제] 화시 온도(F)를 섭씨 온도(C)로 변환하는 다음 공식을 이용하여 화씨 온도가 50일 때, 섭씨 온도를 계산하시오.\n",
    "- C = (F - 32) / 1.8"
   ]
  },
  {
   "cell_type": "code",
   "execution_count": 34,
   "id": "5f03d4af-70e0-43f7-aaad-90ec169ac0c3",
   "metadata": {},
   "outputs": [
    {
     "name": "stdout",
     "output_type": "stream",
     "text": [
      "화씨 온도가 50일 때 섭씨 온도는 10.0이다.\n"
     ]
    }
   ],
   "source": [
    "F = 50\n",
    "C = (F - 32) / 1.8\n",
    "print(f'화씨 온도가 {F}일 때 섭씨 온도는 {C}이다.')"
   ]
  },
  {
   "cell_type": "markdown",
   "id": "2d038e67-e291-498f-9335-5b57fb051cbf",
   "metadata": {},
   "source": [
    "# 표준 입출력"
   ]
  },
  {
   "cell_type": "code",
   "execution_count": 35,
   "id": "a68dafb5-f033-4fd8-bbaf-d4df240a9349",
   "metadata": {},
   "outputs": [
    {
     "name": "stdin",
     "output_type": "stream",
     "text": [
      "밑변의 길이 입력:  10\n",
      "높이의 길이 입력:  20\n"
     ]
    },
    {
     "name": "stdout",
     "output_type": "stream",
     "text": [
      "밑변의 길이가 10 이고 높이가 20 인 사각형의 넓이:  200\n"
     ]
    }
   ],
   "source": [
    "a = int(input('밑변의 길이 입력: '))\n",
    "b = int(input('높이의 길이 입력: '))\n",
    "print('밑변의 길이가', a, '이고 높이가', b, '인 사각형의 넓이: ', a*b)"
   ]
  },
  {
   "cell_type": "markdown",
   "id": "b412043d-9ff8-4516-afc8-1c2a0c76efe8",
   "metadata": {},
   "source": [
    "# 제어문"
   ]
  },
  {
   "cell_type": "code",
   "execution_count": 36,
   "id": "c9220c40-30b7-415a-acc8-d825333ca9bb",
   "metadata": {},
   "outputs": [
    {
     "name": "stdin",
     "output_type": "stream",
     "text": [
      "점수 입력:  88\n"
     ]
    },
    {
     "name": "stdout",
     "output_type": "stream",
     "text": [
      "재시험\n"
     ]
    }
   ],
   "source": [
    "score = float(input('점수 입력: '))\n",
    "if score >= 90:\n",
    "    print('합격')\n",
    "elif 70 <= score < 90:\n",
    "    print('재시험')\n",
    "else:\n",
    "    print('탈락')"
   ]
  },
  {
   "cell_type": "code",
   "execution_count": 39,
   "id": "d33e64a2-8b33-4a5e-8293-bdf9ed20ed32",
   "metadata": {},
   "outputs": [
    {
     "name": "stdout",
     "output_type": "stream",
     "text": [
      "문자열이 비어 있지 않습니다.\n"
     ]
    }
   ],
   "source": [
    "notEmptyString = 'test'\n",
    "\n",
    "if notEmptyString:\n",
    "    print('문자열이 비어 있지 않습니다.')\n",
    "else:\n",
    "    print('문자열이 비어 있습니다.')"
   ]
  },
  {
   "cell_type": "code",
   "execution_count": 41,
   "id": "d0b7e9f5-abbd-4d1a-82cc-2c36257d0b42",
   "metadata": {},
   "outputs": [
    {
     "name": "stdout",
     "output_type": "stream",
     "text": [
      "짝수\n"
     ]
    }
   ],
   "source": [
    "i = 20\n",
    "\n",
    "if not i % 2:    #i % 2 == 0:\n",
    "    print('짝수')\n",
    "else:\n",
    "    print('홀수')"
   ]
  },
  {
   "cell_type": "markdown",
   "id": "56ec458a-e5c9-4a8c-9076-0a9a0ac4e4e8",
   "metadata": {},
   "source": [
    "[문제] 정수 하나를 입력 받아 5의 배수인지를 조사하여 그 결과를 출력하시오."
   ]
  },
  {
   "cell_type": "code",
   "execution_count": 43,
   "id": "70a6fe0a-83d0-4e9a-a1d7-86d010ec3ca8",
   "metadata": {},
   "outputs": [
    {
     "name": "stdin",
     "output_type": "stream",
     "text": [
      "정수를 입력하세요:  8\n"
     ]
    },
    {
     "name": "stdout",
     "output_type": "stream",
     "text": [
      "5의 배수가 아닙니다.\n"
     ]
    }
   ],
   "source": [
    "i = int(input('정수를 입력하세요: '))\n",
    "\n",
    "if i % 5 == 0:\n",
    "    print('5의 배수입니다.')\n",
    "else:\n",
    "    print('5의 배수가 아닙니다.')"
   ]
  },
  {
   "cell_type": "markdown",
   "id": "40d949c5-9ec0-4cc0-83ad-a8ef928feda3",
   "metadata": {},
   "source": [
    "[문제] 화폐 단위 계산\n",
    "사용자로부터 금액을 입력받아 화폐의 단위별 개수를 출력하는 프로그램을 작성하시오.\n",
    "조건) 화폐의 종류: 만원, 천원, 백원, 십원\n",
    "<실행 예>\n",
    "금액을 입력하세요: 45630\n",
    "만원: 4개\n",
    "천원: 5개\n",
    "백원: 6개\n",
    "십원: 3개"
   ]
  },
  {
   "cell_type": "code",
   "execution_count": 54,
   "id": "0fa29780-061a-4112-851e-8e65a5c978bc",
   "metadata": {},
   "outputs": [
    {
     "name": "stdin",
     "output_type": "stream",
     "text": [
      "금액을 입력하세요:  41520\n"
     ]
    },
    {
     "name": "stdout",
     "output_type": "stream",
     "text": [
      "만원: 4개\n",
      "천원: 1개\n",
      "백원: 5개\n",
      "십원: 2개\n"
     ]
    }
   ],
   "source": [
    "money = int(input('금액을 입력하세요: '))\n",
    "만원 = money // 10000\n",
    "천원 = (money % 10000) // 1000 # (money - 만원*10000) // 1000\n",
    "백원 = (money % 1000) // 100\n",
    "십원 = (money % 100) // 10\n",
    "\n",
    "print(f'만원: {만원}개')\n",
    "print(f'천원: {천원}개')\n",
    "print(f'백원: {백원}개')\n",
    "print(f'십원: {십원}개')"
   ]
  },
  {
   "cell_type": "code",
   "execution_count": 55,
   "id": "174e4820-4b5f-41b1-bf7d-7af84be65955",
   "metadata": {},
   "outputs": [
    {
     "name": "stdin",
     "output_type": "stream",
     "text": [
      "금액을 입력하시오:  97415\n"
     ]
    },
    {
     "name": "stdout",
     "output_type": "stream",
     "text": [
      "만원:  9 개\n",
      "천원:  7 개\n",
      "백원:  4 개\n",
      "십원:  1 개\n"
     ]
    }
   ],
   "source": [
    "num = int(input('금액을 입력하시오: '))\n",
    "\n",
    "print('만원: ',  num // 10000 , '개')\n",
    "print('천원: ', num%10000 // 1000, '개')\n",
    "print('백원: ', num%1000 // 100, '개')\n",
    "print('십원: ', num%100 // 10, '개')"
   ]
  },
  {
   "cell_type": "markdown",
   "id": "b8ef698f-c030-4bf1-a8f4-ac19789df35e",
   "metadata": {},
   "source": [
    "## 삼항 연산자\n",
    "- 결과값 변수 = 참인 경우 선택될 값 if 조건식 else 거짓인 경우 선택될 값"
   ]
  },
  {
   "cell_type": "code",
   "execution_count": 56,
   "id": "3f61f867-fab4-42b0-8a20-599f182af99a",
   "metadata": {},
   "outputs": [
    {
     "name": "stdout",
     "output_type": "stream",
     "text": [
      "a와 b는 같지 않다\n"
     ]
    }
   ],
   "source": [
    "a = 10\n",
    "b = 20\n",
    "result = \"a와 b는 같지 않다\" if a != b else \"a와 b는 같다\"\n",
    "print(result)"
   ]
  },
  {
   "cell_type": "markdown",
   "id": "3ee0fc00-af86-495e-9e91-e2bc4e950d99",
   "metadata": {},
   "source": [
    "[문제] 대도시 판단 여부\n",
    "[판단 조건] \n",
    "수도이면서 인구가 100만 이상인 도시\n",
    "또는, 부자가 200만 이상인 도시\n",
    "\n",
    "[실행 예시]\n",
    "수도입니까? (수도: 1, 수도 아님: 0)  1\n",
    "인구(단위:만) 150\n",
    "부자의 수(단위:만) 50\n",
    "대도시 여부: True\n",
    "\n",
    "수도입니까? (수도: 1, 수도 아님: 0)  0\n",
    "인구(단위:만) 90\n",
    "부자의 수(단위:만) 210\n",
    "대도시 여부: True\n",
    "\n",
    "** 처리조건: 삼항 연산자 이용"
   ]
  },
  {
   "cell_type": "code",
   "execution_count": 67,
   "id": "c067230b-1133-42b6-a26a-b87df15b22fa",
   "metadata": {},
   "outputs": [
    {
     "name": "stdin",
     "output_type": "stream",
     "text": [
      "수도입니까? (수도:1, 수도아님:0  0\n",
      "인구(단위:만):  100\n",
      "부자의 수(단위:만):  230\n"
     ]
    },
    {
     "name": "stdout",
     "output_type": "stream",
     "text": [
      "True\n"
     ]
    }
   ],
   "source": [
    "isCapital = int(input('수도입니까? (수도:1, 수도아님:0 '))\n",
    "citizens = int(input('인구(단위:만): '))\n",
    "riches = int(input('부자의 수(단위:만): '))\n",
    "\n",
    "result = True if (isCapital == 1, citizens >= 100) or riches >= 200 else False\n",
    "print('대도시 여부', result)"
   ]
  },
  {
   "cell_type": "code",
   "execution_count": 66,
   "id": "715a06c5-c273-4f7a-b983-e9035cdfd5a3",
   "metadata": {},
   "outputs": [
    {
     "name": "stdin",
     "output_type": "stream",
     "text": [
      "수도입니까? 1\n",
      "총 인구(단위:만):  170\n",
      "부자의 수(단위:만):  30\n"
     ]
    },
    {
     "name": "stdout",
     "output_type": "stream",
     "text": [
      "대도시 여부: True\n"
     ]
    }
   ],
   "source": [
    "city = int(input('수도입니까?'))\n",
    "population = int(input('총 인구(단위:만): '))\n",
    "rich = int(input('부자의 수(단위:만): '))\n",
    "\n",
    "rule1 = city == 1 and population >= 150\n",
    "rule2 = rich >= 200\n",
    "\n",
    "result = \"True\" if rule1 or rule2 else \"False\"\n",
    "print(f'대도시 여부: {result}')"
   ]
  },
  {
   "cell_type": "markdown",
   "id": "32f8ffa3-ed54-4a89-b4ce-7af830f4a34c",
   "metadata": {},
   "source": [
    "[문제] 시간제 임금 계산\n",
    "근무한 시간을 입력받아 다음과 같은 규칙에 맞게 임금을 계산하시오.\n",
    "- 8시간까지는 시간당 9,900원이고, 8시간 초과분에 대해서는 1.5배를 지급한다.\n",
    "\n",
    "[실행 예시]\n",
    "근무시간을 입력하세요:  25\n",
    "임금은 331,650원 입니다."
   ]
  },
  {
   "cell_type": "code",
   "execution_count": 74,
   "id": "bbab126e-4c68-4921-aed2-c5b88b70cabf",
   "metadata": {},
   "outputs": [
    {
     "name": "stdin",
     "output_type": "stream",
     "text": [
      "근무 시간을 입력하세요:  25\n"
     ]
    },
    {
     "name": "stdout",
     "output_type": "stream",
     "text": [
      "임금은 331650.0원입니다.\n"
     ]
    }
   ],
   "source": [
    "base_pay = 9900\n",
    "hour = int(input('근무 시간을 입력하세요: '))\n",
    "pay = 0  # 최종 임금을 저장할 변수\n",
    "\n",
    "if hour > 8:\n",
    "    pay = 8 * base_pay + (hour - 8) * base_pay * 1.5\n",
    "else:\n",
    "    pay = hour * base_pay\n",
    "print(f'임금은 {pay}원입니다.')"
   ]
  },
  {
   "cell_type": "code",
   "execution_count": 78,
   "id": "077cc20d-4cac-47c8-a2e4-ffe3f4efeb67",
   "metadata": {},
   "outputs": [
    {
     "name": "stdin",
     "output_type": "stream",
     "text": [
      "근무 시간을 입력하세요:  25\n"
     ]
    },
    {
     "name": "stdout",
     "output_type": "stream",
     "text": [
      "임금은 331,650원입니다.\n"
     ]
    }
   ],
   "source": [
    "time = int(input('근무 시간을 입력하세요: '))\n",
    "over = (time - 8) * 9900 * 1.5\n",
    "pay = 0\n",
    "if time > 8:\n",
    "    pay = (8 * 9900) + over\n",
    "else:\n",
    "    pay = time * 9900\n",
    "print(f'임금은 {pay:,.0f}원입니다.')"
   ]
  },
  {
   "cell_type": "markdown",
   "id": "ce5fd342-1a32-4208-aba3-f469dabf17d2",
   "metadata": {},
   "source": [
    "# 반복문"
   ]
  },
  {
   "cell_type": "code",
   "execution_count": 3,
   "id": "c75db893-a1c7-4980-9d88-6afb552cc433",
   "metadata": {},
   "outputs": [
    {
     "name": "stdout",
     "output_type": "stream",
     "text": [
      "1 2 3 4 5 end\n"
     ]
    }
   ],
   "source": [
    "c = 1\n",
    "while c <= 5:\n",
    "    print(c, end=' ')\n",
    "    c += 1\n",
    "print('end')"
   ]
  },
  {
   "cell_type": "code",
   "execution_count": 4,
   "id": "6c83a43d-e239-494b-98ca-e1d1d9f6b011",
   "metadata": {},
   "outputs": [
    {
     "name": "stdout",
     "output_type": "stream",
     "text": [
      "55\n"
     ]
    }
   ],
   "source": [
    "sum = 0\n",
    "for i in range(1,11):\n",
    "    sum += i  # sum = sum + i\n",
    "print(sum)"
   ]
  },
  {
   "cell_type": "code",
   "execution_count": 5,
   "id": "5a3a7472-bb3e-48d3-9dd9-f76e0380d95a",
   "metadata": {},
   "outputs": [
    {
     "name": "stdin",
     "output_type": "stream",
     "text": [
      "영어 단어를 입력하세요. (종료:q hello\n"
     ]
    },
    {
     "name": "stdout",
     "output_type": "stream",
     "text": [
      "HELLO\n"
     ]
    },
    {
     "name": "stdin",
     "output_type": "stream",
     "text": [
      "영어 단어를 입력하세요. (종료:q q\n"
     ]
    },
    {
     "name": "stdout",
     "output_type": "stream",
     "text": [
      "end\n"
     ]
    }
   ],
   "source": [
    "while True:  # 무한 반복\n",
    "    s = input('영어 단어를 입력하세요. (종료:q)')\n",
    "    if s == 'q': break    # if로 실행되는 문장이 1줄이면 옆에 이어서 쓰기 可\n",
    "    print(s.upper())\n",
    "print('end')"
   ]
  },
  {
   "cell_type": "markdown",
   "id": "ce940217-0988-4b42-adff-d4c175bf08ab",
   "metadata": {},
   "source": [
    "[문제] 1-100 사이의 값 중 짝수에 해당하는 값의 총 합을 구하는 프로그램을 작성하시오"
   ]
  },
  {
   "cell_type": "code",
   "execution_count": 21,
   "id": "1e10d39e-24e6-4a30-93fd-8d8772cf0abe",
   "metadata": {},
   "outputs": [
    {
     "name": "stdout",
     "output_type": "stream",
     "text": [
      "2550\n"
     ]
    }
   ],
   "source": [
    "sum = 0\n",
    "for i in range(1, 101):\n",
    "    if i % 2 != 0: continue\n",
    "    sum += i\n",
    "print(sum)"
   ]
  },
  {
   "cell_type": "code",
   "execution_count": 24,
   "id": "050ca821-c56e-4e54-a883-5a365afefa72",
   "metadata": {},
   "outputs": [
    {
     "name": "stdout",
     "output_type": "stream",
     "text": [
      "a,b,c,d,e,f\n"
     ]
    }
   ],
   "source": [
    "# 파이썬에서 문자열은 집합형 데이터 [리스트]로 관리한다.\n",
    "for s in 'abcdef':\n",
    "    print(s, end=',')\n",
    "print('\\b')   #백스페이스"
   ]
  },
  {
   "cell_type": "code",
   "execution_count": 25,
   "id": "651a15b2-61f4-47d3-a8aa-b3f2f0c6bc99",
   "metadata": {},
   "outputs": [
    {
     "name": "stdout",
     "output_type": "stream",
     "text": [
      "[3, 6, 9, 12]\n"
     ]
    }
   ],
   "source": [
    "a = [1,2,3,4]  # a는 list 객체\n",
    "result = []\n",
    "for i in a:\n",
    "    result.append(i*3)  #append()는 리스트 객체에 값을 추가하는 함수\n",
    "print(result)"
   ]
  },
  {
   "cell_type": "code",
   "execution_count": 26,
   "id": "c7d435ed-d6a8-4120-a6f4-06f65dcd9ed1",
   "metadata": {},
   "outputs": [
    {
     "name": "stdout",
     "output_type": "stream",
     "text": [
      "[3, 6, 9, 12]\n"
     ]
    }
   ],
   "source": [
    "# List comprehensiom\n",
    "result = [i*3 for i in a ]\n",
    "print(result)"
   ]
  },
  {
   "cell_type": "code",
   "execution_count": 27,
   "id": "52d2d8d0-60ab-4548-b0d5-d1a4ec6c9292",
   "metadata": {},
   "outputs": [
    {
     "name": "stdout",
     "output_type": "stream",
     "text": [
      "[6, 12]\n"
     ]
    }
   ],
   "source": [
    "# List comprehension with if\n",
    "result = [i*3 for i in a if not i%2]\n",
    "print(result)"
   ]
  },
  {
   "cell_type": "code",
   "execution_count": 30,
   "id": "fe85a4e1-f5e7-427b-bbc8-3b40e7824677",
   "metadata": {},
   "outputs": [
    {
     "name": "stdout",
     "output_type": "stream",
     "text": [
      "[1, 6, 3, 12]\n"
     ]
    }
   ],
   "source": [
    "# a 원소 중 짝수는 3배수하고 홀수는 원래의 값을 갖는 리스트를 생성\n",
    "result = [i * 3 if not i%2 else i for i in a]      # 삼항 연산자 쓸 경우, if는 for의 왼쪽에 위치\n",
    "print(result)"
   ]
  },
  {
   "cell_type": "code",
   "execution_count": null,
   "id": "593261fb-0856-4867-ad19-1484f0b96115",
   "metadata": {},
   "outputs": [],
   "source": [
    "for i in range(5):\n",
    "    for j in range(5):\n",
    "        print(f'i={i}, j={j}')"
   ]
  },
  {
   "cell_type": "markdown",
   "id": "1de03e45-0395-4e4f-8314-dc11f255c2f9",
   "metadata": {},
   "source": [
    "## for - else 문\n",
    "- while - else / for - else: 반복문이 break 등으로 중간에 빠져나오지 않고 끝까지 실행됐을 경우, else 문이 실행된다."
   ]
  },
  {
   "cell_type": "code",
   "execution_count": 36,
   "id": "de3639d0-bde3-459a-9063-2a722767fb7a",
   "metadata": {},
   "outputs": [
    {
     "name": "stdin",
     "output_type": "stream",
     "text": [
      "검색 단어를 입력하세요.  word\n"
     ]
    },
    {
     "name": "stdout",
     "output_type": "stream",
     "text": [
      "검색 결과가 없습니다.\n"
     ]
    }
   ],
   "source": [
    "word_list = ['java', 'python', 'c++', 'pascal']\n",
    "keyword = input('검색 단어를 입력하세요. ')\n",
    "for word in word_list:\n",
    "    if word == keyword:\n",
    "        print('검색 결과:', word)\n",
    "        break\n",
    "else: print('검색 결과가 없습니다.')"
   ]
  },
  {
   "cell_type": "markdown",
   "id": "d9bb2c95-4a5c-4f15-a0fd-6e33f6541665",
   "metadata": {},
   "source": [
    "[문제] for문과 문자열 반복을 이용하여 다음 문자열을 출력하세요.\n",
    "---------+---------+---------+---------+---------+"
   ]
  },
  {
   "cell_type": "code",
   "execution_count": 59,
   "id": "74a4ab03-23a8-485b-b9aa-707b00c35fdc",
   "metadata": {},
   "outputs": [
    {
     "name": "stdout",
     "output_type": "stream",
     "text": [
      "---------+---------+---------+---------+---------+"
     ]
    }
   ],
   "source": [
    "for i in range(5):\n",
    "    print('-' * 9, end = '+')"
   ]
  },
  {
   "cell_type": "code",
   "execution_count": 60,
   "id": "57688466-9577-4429-bbb6-4eb341dcf19f",
   "metadata": {},
   "outputs": [
    {
     "name": "stdout",
     "output_type": "stream",
     "text": [
      "---------+---------+---------+---------+---------+"
     ]
    }
   ],
   "source": [
    "for i in range(5):\n",
    "    print('-' * 9, end = '')\n",
    "    print('+', end='')"
   ]
  },
  {
   "cell_type": "code",
   "execution_count": 62,
   "id": "fc75e92d-3e11-4060-b792-26dbb85b597c",
   "metadata": {},
   "outputs": [
    {
     "name": "stdout",
     "output_type": "stream",
     "text": [
      "---------+---------+---------+---------+---------+"
     ]
    }
   ],
   "source": [
    "for i in range(5):\n",
    "    for j in range(9):\n",
    "        print('-', end='')\n",
    "    print('+', end='')"
   ]
  },
  {
   "cell_type": "markdown",
   "id": "9e957a0d-0f2a-46e7-b0fb-7145136823ad",
   "metadata": {},
   "source": [
    "[문제] 사용자로부터 입력받은 단의 구구단을 출력하는 프로그램을 작성하세요.\n",
    "[실행예시]\n",
    "단을 입력하세요: 3\n",
    "3 x 1 = 3\n",
    "3 x 2 = 6\n",
    "...\n",
    "3 x 9 = 27"
   ]
  },
  {
   "cell_type": "code",
   "execution_count": null,
   "id": "c8e98fb0-5474-4933-9e39-c47471d2969b",
   "metadata": {},
   "outputs": [],
   "source": [
    "number = int(input('단을 입력하세요: '))\n",
    "for i in range(1, 10, 1):\n",
    "    result = number * i\n",
    "    print(f'{number} x {i} = {result}')"
   ]
  },
  {
   "cell_type": "code",
   "execution_count": null,
   "id": "1463ff77-e1ab-43fd-b95e-0aceeba99343",
   "metadata": {},
   "outputs": [],
   "source": [
    "# 답 1\n",
    "dan = int(input('단을 입력하세요: '))\n",
    "for i in range(1, 10):\n",
    "    print(dan, 'x', i, '=', dan * i)"
   ]
  },
  {
   "cell_type": "code",
   "execution_count": 83,
   "id": "fc1c15f6-8efc-410e-a510-795a56f22348",
   "metadata": {},
   "outputs": [
    {
     "name": "stdin",
     "output_type": "stream",
     "text": [
      "단을 입력하세요:  3\n"
     ]
    },
    {
     "name": "stdout",
     "output_type": "stream",
     "text": [
      "3 x 1 = 3 \n",
      "3 x 2 = 6 \n",
      "3 x 3 = 9 \n",
      "3 x 4 = 12\n",
      "3 x 5 = 15\n",
      "3 x 6 = 18\n",
      "3 x 7 = 21\n",
      "3 x 8 = 24\n",
      "3 x 9 = 27\n"
     ]
    }
   ],
   "source": [
    "# 답 2\n",
    "dan = int(input('단을 입력하세요: '))\n",
    "for i in range(1, 10):\n",
    "    print(f'{dan} x {i} = {dan * i:<2d}')       # 자릿수 :2d, 02d (빈자리 0 채움), < 왼쪽 정렬"
   ]
  },
  {
   "cell_type": "markdown",
   "id": "5351a4f1-3b45-4901-88e2-c831a976bbdd",
   "metadata": {},
   "source": [
    "[문제] 합계 구하기\n",
    "정수를 입력받아 1부터 입력받은 정수까지의 합을 구하여 출력하는 프로그램을 작성하세요.\n",
    "단, 반복문은 while을 이용할 것"
   ]
  },
  {
   "cell_type": "code",
   "execution_count": 92,
   "id": "439e3f65-3627-44b4-ac34-25f687d7fe45",
   "metadata": {},
   "outputs": [
    {
     "name": "stdin",
     "output_type": "stream",
     "text": [
      "정수를 입력하세요:  3\n"
     ]
    },
    {
     "name": "stdout",
     "output_type": "stream",
     "text": [
      "1부터 3까지의 합: 6\n"
     ]
    }
   ],
   "source": [
    "num = int(input('정수를 입력하세요: '))\n",
    "sum = 0   # 전체 합계를 저장\n",
    "cnt = 0  # 반복 횟수를 저장\n",
    "while True:\n",
    "    cnt += 1\n",
    "    if cnt > num: break\n",
    "    sum += cnt\n",
    "print(f'1부터 {num}까지의 합: {sum}')"
   ]
  },
  {
   "cell_type": "code",
   "execution_count": 93,
   "id": "8e8a013b-bae6-4b01-9727-5893e28910f3",
   "metadata": {},
   "outputs": [
    {
     "name": "stdin",
     "output_type": "stream",
     "text": [
      "정수를 입력하세요:  3\n"
     ]
    },
    {
     "name": "stdout",
     "output_type": "stream",
     "text": [
      "1부터 3까지의 합: 6\n"
     ]
    }
   ],
   "source": [
    "num = int(input('정수를 입력하세요: '))\n",
    "sum = 0   # 전체 합계를 저장\n",
    "cnt = 0  # 반복 횟수를 저장\n",
    "while cnt < num:\n",
    "    cnt += 1\n",
    "    sum += cnt\n",
    "print(f'1부터 {num}까지의 합: {sum}')"
   ]
  },
  {
   "cell_type": "markdown",
   "id": "94b6bf8c-5023-49c4-b507-9a924d9b7a13",
   "metadata": {},
   "source": [
    "[문제] 년도를 입력받아 윤년인지 평년인지를 판단하는 프로그램을 작성하세요.\n",
    "프로그램은 반복적으로 수행되며 0을 입력 받으면 프로그램을 종료한다.\n",
    "윤년 조건: 4로 나누어 떨어지고 100으로 나누어 떨어지지 않는 해, 또는 400으로 나누어 떨어지는 해\n",
    "[실행 예시]\n",
    "연도를 입력하세요(종료: 0)  2023\n",
    "2023년은 평년입니다.\n",
    "\n",
    "연도를 입력하세요(종료: 0) 2024\n",
    "2024년은 윤년입니다."
   ]
  },
  {
   "cell_type": "code",
   "execution_count": 129,
   "id": "d9554f59-91f1-431d-8763-61681033bebd",
   "metadata": {},
   "outputs": [
    {
     "name": "stdin",
     "output_type": "stream",
     "text": [
      "연도를 입력하세요(종료: 0) 2024\n"
     ]
    },
    {
     "name": "stdout",
     "output_type": "stream",
     "text": [
      "2024년은 윤년입니다.\n"
     ]
    },
    {
     "name": "stdin",
     "output_type": "stream",
     "text": [
      "연도를 입력하세요(종료: 0) 2023\n"
     ]
    },
    {
     "name": "stdout",
     "output_type": "stream",
     "text": [
      "2023년은 평년입니다.\n"
     ]
    },
    {
     "name": "stdin",
     "output_type": "stream",
     "text": [
      "연도를 입력하세요(종료: 0) 0\n"
     ]
    },
    {
     "name": "stdout",
     "output_type": "stream",
     "text": [
      "end\n"
     ]
    }
   ],
   "source": [
    "while True:\n",
    "    year = int(input('연도를 입력하세요(종료: 0)'))\n",
    "    if year == 0: break\n",
    "    result = '윤년' if (year % 4 == 0 and year % 100 != 0) or (year % 400 == 0) else '평년'\n",
    "    print(f'{year}년은 {result}입니다.')\n",
    "print('end')"
   ]
  },
  {
   "cell_type": "code",
   "execution_count": 127,
   "id": "57268845-c5bd-42c0-b96d-02fedf0c0697",
   "metadata": {},
   "outputs": [
    {
     "name": "stdin",
     "output_type": "stream",
     "text": [
      "연도를 입력하세요(종료: 0) 2024\n"
     ]
    },
    {
     "name": "stdout",
     "output_type": "stream",
     "text": [
      "2024년은 윤년입니다.\n"
     ]
    },
    {
     "name": "stdin",
     "output_type": "stream",
     "text": [
      "연도를 입력하세요(종료: 0) 2025\n"
     ]
    },
    {
     "name": "stdout",
     "output_type": "stream",
     "text": [
      "2025년은 평년입니다.\n"
     ]
    },
    {
     "name": "stdin",
     "output_type": "stream",
     "text": [
      "연도를 입력하세요(종료: 0) 0\n"
     ]
    }
   ],
   "source": [
    "while True:\n",
    "    year = int(input('연도를 입력하세요(종료: 0)'))\n",
    "    if year == 0: break\n",
    "    if (year % 4 == 0 and year % 100 != 0) or (year % 400 == 0): \n",
    "        print(f'{year}년은 윤년입니다.')\n",
    "    else: \n",
    "        print(f'{year}년은 평년입니다.')"
   ]
  },
  {
   "cell_type": "markdown",
   "id": "3c337fdc-7ddc-4a4a-ad09-42c160df11ae",
   "metadata": {},
   "source": [
    "[문제]  BMI 측정 프로그램\n",
    "키와 몸무게를 입력받아 BMI 측정 결과를 출력하는 프로그램을 작성하세요.\n",
    "\n",
    "[BMI 계산식]\n",
    "BMI = 몸무게(kg) / 키(m)의 제곱\n",
    "** BMI 비만도 판단 결과 지표\n",
    "18.5 미만: 저체중\n",
    "18.5 ~ 22.9: 정상\n",
    "23 ~ 29.9: 비만 1단계\n",
    "29.9 초과: 비만 2단계\n",
    "\n",
    "[실행 예시]\n",
    "키를 입력하세요(cm): 170\n",
    "몸무게를 입력하세요(kg): 85\n",
    "당신의 BMI는 비만 1단계 입니다."
   ]
  },
  {
   "cell_type": "code",
   "execution_count": 144,
   "id": "253b722c-5864-4ce4-afef-e1b1d4f27f34",
   "metadata": {},
   "outputs": [
    {
     "name": "stdin",
     "output_type": "stream",
     "text": [
      "키를 입력하세요(cm):  170\n",
      "몸무게를 입력하세요(kg) 85\n"
     ]
    },
    {
     "name": "stdout",
     "output_type": "stream",
     "text": [
      "당신의 BMI는 비만 1단계 입니다.\n"
     ]
    }
   ],
   "source": [
    "height = int(input('키를 입력하세요(cm): '))\n",
    "weight = int(input('몸무게를 입력하세요(kg)'))\n",
    "BMI = weight / ((height/100) ** 2)\n",
    "result = ''\n",
    "if BMI < 18.5:\n",
    "    result = '저체중'\n",
    "elif 18.5 <= BMI <= 22.9:\n",
    "    result = '정상'\n",
    "elif 23 <= BMI <= 29.9:\n",
    "    result = '비만 1단계'\n",
    "else: result = '비만 2단계'\n",
    "print(f'당신의 BMI는 {result} 입니다.')"
   ]
  },
  {
   "cell_type": "code",
   "execution_count": 143,
   "id": "2a73692d-3b00-4464-abf8-3480c1293149",
   "metadata": {},
   "outputs": [
    {
     "name": "stdin",
     "output_type": "stream",
     "text": [
      "키를 입력하세요(cm):  170\n",
      "몸무게를 입력하세요(kg) 85\n"
     ]
    },
    {
     "name": "stdout",
     "output_type": "stream",
     "text": [
      "당신의 BMI는 비만 1단계 입니다.\n"
     ]
    }
   ],
   "source": [
    "height = int(input('키를 입력하세요(cm): '))\n",
    "weight = int(input('몸무게를 입력하세요(kg)'))\n",
    "BMI = weight / ((height/100) ** 2)\n",
    "\n",
    "if BMI < 18.5:\n",
    "    print('당신의 BMI는 저체중 입니다.')\n",
    "elif 18.5 <= BMI <= 22.9:\n",
    "    print('당신의 BMI는 정상 입니다.')\n",
    "elif 23 <= BMI <= 29.9:\n",
    "    print('당신의 BMI는 비만 1단계 입니다.')\n",
    "else:\n",
    "    print('당신의 BMI는 비만 2단계 입니다.')"
   ]
  },
  {
   "cell_type": "markdown",
   "id": "6244a08c-a457-46c8-8ad7-982e22866260",
   "metadata": {},
   "source": [
    "# 문자열 처리"
   ]
  },
  {
   "cell_type": "code",
   "execution_count": 5,
   "id": "56b8fc63-52e4-4402-a21c-e031a2975188",
   "metadata": {},
   "outputs": [
    {
     "name": "stdout",
     "output_type": "stream",
     "text": [
      "학\n",
      "땡\n",
      "학\n",
      "교\n",
      "종\n",
      "이\n",
      " \n",
      "땡\n",
      "땡\n",
      "땡\n"
     ]
    }
   ],
   "source": [
    "mystr = '학교종이 땡땡땡'\n",
    "print(mystr[0])\n",
    "print(mystr[-1])\n",
    "# mystr[1] = '원'\n",
    "for s in mystr:\n",
    "    print(s)        # 한 글자씩 뽑아 냄"
   ]
  },
  {
   "cell_type": "code",
   "execution_count": 6,
   "id": "ac5e0ef3-47cd-4ba6-8b7f-bf25c6cb7262",
   "metadata": {},
   "outputs": [
    {
     "name": "stdout",
     "output_type": "stream",
     "text": [
      "동해물과 백두산이 마르고 닳도록\n",
      "하느님이 보우하사 우리나라 만세\n",
      "무궁화 삼천리 화려 강산\n",
      "대한 사람 대한으로 길이 보전하세\n"
     ]
    }
   ],
   "source": [
    "mystr = '''동해물과 백두산이 마르고 닳도록\n",
    "하느님이 보우하사 우리나라 만세\n",
    "무궁화 삼천리 화려 강산\n",
    "대한 사람 대한으로 길이 보전하세'''\n",
    "print(mystr)"
   ]
  },
  {
   "cell_type": "code",
   "execution_count": 9,
   "id": "6477e501-b084-472f-ad15-e3c9ef2bc490",
   "metadata": {},
   "outputs": [
    {
     "name": "stdout",
     "output_type": "stream",
     "text": [
      "나는 '안녕하세요'라고 인사합니다\n",
      "나는 '안녕하세요'라고 인사합니다\n",
      "철수\t영희\n"
     ]
    }
   ],
   "source": [
    "hello = \"나는 '안녕하세요'라고 인사합니다\"\n",
    "print(hello)\n",
    "hello2 = \"나는 \\'안녕하세요\\'라고 인사합니다\"\n",
    "print(hello2)\n",
    "print('철수\\t영희')"
   ]
  },
  {
   "cell_type": "markdown",
   "id": "29f41420-2544-403e-bc5c-de18377302cf",
   "metadata": {},
   "source": [
    "[문제] 파일 이름 슬라이싱\n",
    "- 파일 이름: \"20240315-163750.jpg\"\n",
    "[출력 결과]\n",
    "촬영 날짜: 2024년 03월 15일\n",
    "촬영 시간: 16시 37분\n",
    "확장자: jpg"
   ]
  },
  {
   "cell_type": "code",
   "execution_count": 41,
   "id": "c38c2c91-1589-4336-abac-e49a4a2ca153",
   "metadata": {},
   "outputs": [
    {
     "name": "stdout",
     "output_type": "stream",
     "text": [
      "촬영 날짜: 2024년 03월 15일\n",
      "촬영 시간: 16시 37분\n",
      "확장자: jpg\n",
      ".jpg\n"
     ]
    }
   ],
   "source": [
    "file = \"20240315-163750.jpg\"\n",
    "print(f'촬영 날짜: {file[:4]}년 {file[4:6]}월 {file[6:8]}일')\n",
    "print(f'촬영 시간: {file[9:11]}시 {file[11:13]}분')\n",
    "print(f'확장자: {file[-3:len(file)]}')      # = {file[-3:]}\n",
    "print(file[file.find('.'):])"
   ]
  },
  {
   "cell_type": "code",
   "execution_count": 42,
   "id": "3196bdaa-ac22-4c49-888a-1d0786eed177",
   "metadata": {},
   "outputs": [
    {
     "name": "stdout",
     "output_type": "stream",
     "text": [
      "olleh\n"
     ]
    }
   ],
   "source": [
    "# 문자열 뒤집기\n",
    "str = 'hello'\n",
    "print(str[::-1])"
   ]
  },
  {
   "cell_type": "markdown",
   "id": "c16adeb7-462d-4904-b607-f77f2c8b83fa",
   "metadata": {},
   "source": [
    "## 문자열 함수"
   ]
  },
  {
   "cell_type": "code",
   "execution_count": 44,
   "id": "e47d9b2e-6213-4d8a-91f5-59391a7dea7d",
   "metadata": {},
   "outputs": [
    {
     "name": "stdout",
     "output_type": "stream",
     "text": [
      "9\n"
     ]
    }
   ],
   "source": [
    "s = '''생각이란 생각할수록 생각나므로\n",
    "생각하지 말아야 할 생각은 생각하지 않으려고 하는 생각이\n",
    "옳은 생각이라고 생각합니다.'''\n",
    "print(s.count('생각'))"
   ]
  },
  {
   "cell_type": "code",
   "execution_count": 45,
   "id": "a19beca9-ac27-429c-bb55-7d948dc7e79c",
   "metadata": {},
   "outputs": [
    {
     "name": "stdout",
     "output_type": "stream",
     "text": [
      "True\n",
      "False\n"
     ]
    }
   ],
   "source": [
    "s = 'Python Programming'\n",
    "print('a' in s) \n",
    "print('z' in s)"
   ]
  },
  {
   "cell_type": "code",
   "execution_count": 50,
   "id": "abe1a9f9-206f-4c6c-aca2-4bd73b77fa7e",
   "metadata": {},
   "outputs": [
    {
     "name": "stdout",
     "output_type": "stream",
     "text": [
      "['짜장', '짬뽕', '탕수육']\n",
      "['서울', '대전', '대구', '부산']\n"
     ]
    }
   ],
   "source": [
    "s = '짜장 짬뽕 탕수육'\n",
    "print(s.split())                  # 기본적으로 공백 기준\n",
    "\n",
    "s2 = '서울->대전->대구->부산'\n",
    "print(s2.split('->'))"
   ]
  },
  {
   "cell_type": "code",
   "execution_count": 51,
   "id": "10d1a74f-31d0-4926-9927-2587234686a0",
   "metadata": {},
   "outputs": [
    {
     "name": "stdout",
     "output_type": "stream",
     "text": [
      "서울,대전,대구,부산\n"
     ]
    }
   ],
   "source": [
    "city_list = ['서울', '대전', '대구', '부산']\n",
    "city_string = ','.join(city_list)\n",
    "print(city_string)"
   ]
  },
  {
   "cell_type": "code",
   "execution_count": 54,
   "id": "9ef117b6-bd31-44e1-840b-123c0251ec62",
   "metadata": {},
   "outputs": [
    {
     "name": "stdout",
     "output_type": "stream",
     "text": [
      "대.한.민.국\n"
     ]
    }
   ],
   "source": [
    "s = '대한민국'\n",
    "print('.'.join(s))      # 문자열 전체를 묶을 경우, 각 글자 = 원소"
   ]
  },
  {
   "cell_type": "markdown",
   "id": "88b9a7c2-3d9e-48c1-ab60-f17141c2b6d0",
   "metadata": {},
   "source": [
    "[문제] 주민등록번호 분석하기\n",
    "- 임의의 주민등록번호를 입력받아 다음과 같이 생년과 성별을 추출하는 프로그램을 작성하세요.\n",
    "- 성별 값은 1~4 사이의 값만 유효   성별오류\n",
    "[실행 예시]\n",
    "주민등록번호: 881231-1234567\n",
    "88년생 남자"
   ]
  },
  {
   "cell_type": "code",
   "execution_count": 75,
   "id": "b13df2ff-4bc5-4de2-93f6-fdfde3c0a556",
   "metadata": {},
   "outputs": [
    {
     "name": "stdin",
     "output_type": "stream",
     "text": [
      "주민등록번호:  001227-0000000\n"
     ]
    },
    {
     "name": "stdout",
     "output_type": "stream",
     "text": [
      "00년생 \n"
     ]
    }
   ],
   "source": [
    "human = input('주민등록번호: ')\n",
    "year = human[:2]\n",
    "gender = human[7]\n",
    "s_gender = ''\n",
    "if gender in ['1','3']:\n",
    "    s_gender = '남자'\n",
    "elif gender in ['2','4']:\n",
    "    s_gender = '여자'\n",
    "else: gender = '성별오류'\n",
    "print(f'{year}년생 {s_gender}')"
   ]
  },
  {
   "cell_type": "code",
   "execution_count": 76,
   "id": "77d26752-539f-4391-ac23-d22f9ff428bd",
   "metadata": {},
   "outputs": [
    {
     "name": "stdin",
     "output_type": "stream",
     "text": [
      "주민등록번호:  001227-3512647\n"
     ]
    },
    {
     "name": "stdout",
     "output_type": "stream",
     "text": [
      "00 년생  남자\n"
     ]
    }
   ],
   "source": [
    "human = input('주민등록번호: ')\n",
    "if human[7] in ['1' , '3']:\n",
    "    result = '남자'\n",
    "elif human[7] in ['2','4']:\n",
    "    result = '여자'\n",
    "else: result = '성별오류'\n",
    "print(f'{human[:2]} 년생  {result}')"
   ]
  },
  {
   "cell_type": "markdown",
   "id": "e90f9b6a-5201-4e6c-92fc-a308b70b14c3",
   "metadata": {},
   "source": [
    "## 문자열 대입"
   ]
  },
  {
   "cell_type": "code",
   "execution_count": 10,
   "id": "0b5f8a41-d788-455c-abd0-543835e4734b",
   "metadata": {},
   "outputs": [
    {
     "name": "stdout",
     "output_type": "stream",
     "text": [
      "I eat 3 apples\n",
      "I eat five apples\n",
      "I eat 95% apples\n"
     ]
    }
   ],
   "source": [
    "str = \"I eat %d apples\"\n",
    "print(\"I eat %d apples\" %3)\n",
    "print(\"I eat %s apples\"%\"five\")\n",
    "print(\"I eat %d%% apples\" %95)"
   ]
  },
  {
   "cell_type": "code",
   "execution_count": 11,
   "id": "54ffdd7a-4bf8-49fe-ba22-df654f223835",
   "metadata": {},
   "outputs": [
    {
     "name": "stdout",
     "output_type": "stream",
     "text": [
      "8월 15일은 광복절이다\n"
     ]
    }
   ],
   "source": [
    "month = 8\n",
    "day = 15\n",
    "anni = '광복절'\n",
    "print('%d월 %d일은 %s이다' %(month, day, anni))"
   ]
  },
  {
   "cell_type": "code",
   "execution_count": 18,
   "id": "daaa8384-5a79-4026-957f-4f70e758b209",
   "metadata": {},
   "outputs": [
    {
     "name": "stdout",
     "output_type": "stream",
     "text": [
      "나는 사과4개를 먹고 삼일 동안 아팠다\n",
      "나는 사과4개를 먹고 삼일 동안 아팠다\n",
      "나는 사과7개를 먹고 3일 동안 아팠다\n"
     ]
    }
   ],
   "source": [
    "number = 4\n",
    "day = '삼'\n",
    "print('나는 사과{}개를 먹고 {}일 동안 아팠다'.format(number, day))                #순서대로\n",
    "print('나는 사과{0}개를 먹고 {1}일 동안 아팠다'.format(number, day))              #위치값\n",
    "print('나는 사과{number}개를 먹고 {day}일 동안 아팠다'.format(number=7, day=3))   #key 값"
   ]
  },
  {
   "cell_type": "code",
   "execution_count": 22,
   "id": "615a938e-66f8-4cff-aa31-1d375eafab10",
   "metadata": {},
   "outputs": [
    {
     "name": "stdout",
     "output_type": "stream",
     "text": [
      "내 이름은 홍길동입니다.\n",
      "내 이름은 홍길동  입니다.\n",
      "내 이름은 --홍길동입니다.\n"
     ]
    }
   ],
   "source": [
    "print('내 이름은 {}입니다.'.format('홍길동'))\n",
    "print('내 이름은 {:5s}입니다.'.format('홍길동'))    #{} 안에 삽입해 정렬 및 띄움\n",
    "print('내 이름은 {:->5s}입니다.'.format('홍길동'))  #기호 삽입 시 띄우는 부분 기호로 채움"
   ]
  },
  {
   "cell_type": "markdown",
   "id": "68b1fcb1-ae40-4058-8e5a-2cd1d8d5330f",
   "metadata": {},
   "source": [
    "[문제] 단어 수 세기\n",
    "- 문자열 내 전체 단어가 몇 개인가?\n",
    "- 문자열 내 'like' 단어의 개수가 몇 개인가?\n",
    "- 문자열 내 가장 많이 포함되어 있는 단어는 무엇인가?\n",
    ">- 1. 문자열 끝에 개행(\\n) 문자를 공백 문자로 치환한다.   #replace 함수\n",
    ">  2. 문자열을 단어로 나눈다.   #split 함수\n",
    ">  3. 모든 단어를 소문자로 수정한다. #lower 함수"
   ]
  },
  {
   "cell_type": "code",
   "execution_count": 31,
   "id": "294d2377-e7eb-4d03-9c53-3de3afce74dd",
   "metadata": {},
   "outputs": [
    {
     "name": "stdout",
     "output_type": "stream",
     "text": [
      "like 단어의 개수: 1\n",
      "전체 단어의 개수: 333\n",
      "가장 많이 나온 단어는 you이며, 횟수는 15이다.\n"
     ]
    }
   ],
   "source": [
    "song = \"\"\"Hello, it's me \n",
    "I was wondering if after all these years you'd like to meet\n",
    "To go over everything\n",
    "They say that time's supposed to heal ya\n",
    "But I ain't done much healing\n",
    "Hello, can you hear me?\n",
    "I'm in California dreaming about who we used to be\n",
    "When we were younger and free\n",
    "I've forgotten how it felt before the world fell at our feet\n",
    "There's such a difference between us\n",
    "And a million miles\n",
    "Hello from the other side\n",
    "I must've called a thousand times\n",
    "To tell you I'm sorry for everything that I've done\n",
    "But when I call, you never seem to be home\n",
    "Hello from the outside\n",
    "At least I can say that I've tried\n",
    "To tell you I'm sorry for breaking your heart\n",
    "But it don't matter, it clearly doesn't tear you apart anymore\n",
    "Hello, how are you?\n",
    "It's so typical of me to talk about myself, I'm sorry\n",
    "I hope that you're well\n",
    "Did you ever make it out of that town where nothing ever happened?\n",
    "It's no secret that the both of us are running out of time\n",
    "So hello from the other side (Other side)\n",
    "I must've called a thousand times (Thousand times)\n",
    "To tell you I'm sorry for everything that I've done\n",
    "But when I call, you never seem to be home\n",
    "Hello from the outside (Outside)\n",
    "At least I can say that I've tried (I've tried)\n",
    "To tell you I'm sorry for breaking your heart\n",
    "But it don't matter, it clearly doesn't tear you apart anymore\n",
    "Ooh-ooh, anymore\n",
    "Ooh-ooh-ooh, anymore\n",
    "Ooh-ooh, anymore\n",
    "Anymore\n",
    "Hello from the other side (Other side)\n",
    "I must've called a thousand times (Thousand times)\n",
    "To tell you I'm sorry for everything that I've done\n",
    "But when I call, you never seem to be home\n",
    "Hello from the outside (Outside)\n",
    "At least I can say that I've tried (I've tried)\n",
    "To tell you I'm sorry for breaking your heart\n",
    "But it don't matter, it clearly doesn't tear you apart anymore\"\"\"\n",
    "\n",
    "song = song.lower().replace('\\n',' ')\n",
    "punctuation = \".,'`?!-()\"\n",
    "for p in punctuation:\n",
    "    song = song.replace(p, '')\n",
    "print('like 단어의 개수:' , song.count('like'))\n",
    "word_list = song.split()             #매개 변수 넣지 않으면 기본적으로 공백 기준\n",
    "print('전체 단어의 개수:' , len(word_list))\n",
    "\n",
    "max_word_count = 0\n",
    "max_word = ''\n",
    "for word in word_list:\n",
    "    word_count = word_list.count(word)\n",
    "    if word_count > max_word_count:\n",
    "        max_word_count = word_count\n",
    "        max_word = word\n",
    "print('가장 많이 나온 단어는 %s이며, 횟수는 %d이다.' %(max_word, max_word_count))"
   ]
  },
  {
   "cell_type": "markdown",
   "id": "f565f4a7-cdbc-4c33-b303-63ba077a8cf0",
   "metadata": {},
   "source": [
    "<pre></pre>\n",
    "    [문제] 영화 예매\n",
    "    10개 좌석만 있는 극장의 예매 프로그램 만들기\n",
    "    비어 있는 좌석은 0으로 표기하고, 예매가 된 좌석은 1로 표기한다.\n",
    "    만약, 예약되어 있는 좌석을 예약하려고 했을 때 적절한 오류 메시지를 출력하고 다시 예약을 받는다.\n",
    "    \n",
    "    [실행 예시] \n",
    "    좌석을 예약하시겠습니까? (예약: 1, 종료: 0)\n",
    "    현재의 예약 상태는 다음과 같습니다.\n",
    "    --------------------------------------\n",
    "     1 2 3 4 5 6 7 8 9 10\n",
    "     -------------------------------------\n",
    "     0 0 0 0 0 0 0 0 0 0\n",
    "     \n",
    "    몇 번째 좌석을 예약하시겠습니까? 2\n",
    "    예약되었습니다.\n",
    "    \n",
    "    좌석을 예약하시겠습니까? (예약: 1, 종료: 0)\n",
    "    --------------------------------------\n",
    "     1 2 3 4 5 6 7 8 9 10\n",
    "     -------------------------------------\n",
    "     0 1 0 0 0 0 0 0 0 0\n",
    " <pre></pre>"
   ]
  },
  {
   "cell_type": "code",
   "execution_count": 73,
   "id": "1320321a-7cb5-4e3b-8445-795b618bc3c0",
   "metadata": {},
   "outputs": [
    {
     "name": "stdin",
     "output_type": "stream",
     "text": [
      "좌석을 예약하시겠습니까? (예약: 1, 종료: 0) 0\n"
     ]
    }
   ],
   "source": [
    "# 좌석 정보를 저장하는 리스트abs\n",
    "# 2번 좌석 예약 : seats[1] = 1\n",
    "seats = [0,0,0,0,0,0,0,0,0,0]\n",
    "while True:\n",
    "    isContinue = int(input('좌석을 예약하시겠습니까? (예약: 1, 종료: 0)'))\n",
    "    if isContinue == 0:\n",
    "        break\n",
    "    elif isContinue == 1:\n",
    "        print('현재의 예약 상태는 다음과 같습니다.')\n",
    "        print('------------------------')\n",
    "        print(' 1 2 3 4 5 6 7 8 9 10 ')\n",
    "        print('------------------------')\n",
    "        for s in seats:\n",
    "            print('%2d'%s, end='')\n",
    "        while True:\n",
    "            seat_num = int(input('몇 번째 좌석을 예약하시겠습니까?'))\n",
    "            if seats[seat_num - 1] == 1:\n",
    "                print('해당 좌석은 이미 예약된 좌석입니다.')\n",
    "            else:\n",
    "                seats[seat_num - 1] = 1\n",
    "                print('예약되었습니다.')\n",
    "                break"
   ]
  },
  {
   "cell_type": "markdown",
   "id": "70c8a624-d190-405e-bca7-c7e1b683020f",
   "metadata": {},
   "source": [
    "# 리스트 (List)"
   ]
  },
  {
   "cell_type": "code",
   "execution_count": 76,
   "id": "67cdfda2-001e-4e1e-ab72-27e29cb8af81",
   "metadata": {},
   "outputs": [],
   "source": [
    "# 리스트 선언\n",
    "a = []\n",
    "b = list()                # 다른 데이터 타입을 리스트로 변환할 경우 함수 사용\n",
    "c = [1,2,3]"
   ]
  },
  {
   "cell_type": "code",
   "execution_count": 78,
   "id": "ad435235-512f-4c67-89e6-707b73fd11c6",
   "metadata": {},
   "outputs": [
    {
     "name": "stdout",
     "output_type": "stream",
     "text": [
      "[1, 2]\n",
      "[1, 2, 3, 4, 5, 6, 7]\n"
     ]
    }
   ],
   "source": [
    "# 슬라이싱\n",
    "a = [1,2,3,4,5,6,7]\n",
    "b = a[:2]\n",
    "print(b)\n",
    "c = a[:]\n",
    "print(c)"
   ]
  },
  {
   "cell_type": "code",
   "execution_count": 83,
   "id": "9768256a-fda3-4541-b7d0-e7fdcd631dfb",
   "metadata": {
    "scrolled": true
   },
   "outputs": [
    {
     "name": "stdout",
     "output_type": "stream",
     "text": [
      "[1, 2, 3, 4, 5, 6, 7]\n",
      "[1, 2, 20, 4, 5, 6, 7]\n",
      "[1, 2, 20, 4, 5, 6, 7]\n",
      "True\n",
      "False\n"
     ]
    }
   ],
   "source": [
    "# 리스트 복사\n",
    "a = [1,2,3,4,5,6,7]\n",
    "\n",
    "# 얕은 복사\n",
    "b = a\n",
    "print(b)\n",
    "b[2] = 20\n",
    "print(a)\n",
    "\n",
    "#깊은 복사\n",
    "c = a[:]\n",
    "c[0] = 200\n",
    "print(a)\n",
    "\n",
    "print(a is b)\n",
    "print(a is c)"
   ]
  },
  {
   "cell_type": "code",
   "execution_count": 85,
   "id": "6f05be4d-6004-4b50-b085-4053b7671d82",
   "metadata": {},
   "outputs": [
    {
     "name": "stdout",
     "output_type": "stream",
     "text": [
      "[1, 2, 3, 4, 5, 6]\n",
      "[1, 2, 3, 1, 2, 3, 1, 2, 3]\n"
     ]
    }
   ],
   "source": [
    "# 리스트의 연결(+), 반복(*)\n",
    "a = [1,2,3]\n",
    "b = [4,5,6]\n",
    "print(a + b)\n",
    "print(a * 3)"
   ]
  },
  {
   "cell_type": "code",
   "execution_count": 90,
   "id": "b507d0f1-9bbc-4d0d-aeff-e1c34cb103f7",
   "metadata": {},
   "outputs": [
    {
     "name": "stdout",
     "output_type": "stream",
     "text": [
      "[1, 2, 3, 40, 5]\n",
      "[1, 40, 5]\n",
      "[1, 5]\n"
     ]
    }
   ],
   "source": [
    "# 리스트에 들어 있는 요소를 삭제하거나 수정하는 방법\n",
    "a = [1,2,3,4,5]\n",
    "a[3] = 40\n",
    "print(a)\n",
    "\n",
    "a[1:3] = []\n",
    "print(a)\n",
    "\n",
    "del a[1]\n",
    "print(a)"
   ]
  },
  {
   "cell_type": "markdown",
   "id": "c2f2e8b5-2851-4753-9597-e0e789dec5bf",
   "metadata": {},
   "source": [
    "## 리스트의 함수들"
   ]
  },
  {
   "cell_type": "code",
   "execution_count": 93,
   "id": "7079407c-1024-473a-9ec7-b5b3c596cc02",
   "metadata": {},
   "outputs": [
    {
     "name": "stdout",
     "output_type": "stream",
     "text": [
      "[1, 3, 5, 6, 7]\n",
      "[7, 6, 5, 3, 1]\n"
     ]
    }
   ],
   "source": [
    "a = [1, 5, 3, 6, 7]\n",
    "a.sort()                    # sort 함수는 어떤 변수에 대입 X , 정렬의 결과 반환 X, 그저 정렬만 함\n",
    "print(a)\n",
    "a.sort(reverse=True)        # 내림차순\n",
    "print(a)"
   ]
  },
  {
   "cell_type": "code",
   "execution_count": 96,
   "id": "76297b35-0c52-4b0e-96c0-0af8481c3f2a",
   "metadata": {
    "scrolled": true
   },
   "outputs": [
    {
     "name": "stdout",
     "output_type": "stream",
     "text": [
      "[1, 3, 2, 8, 9, 15, 29]\n",
      "29\n",
      "[1, 3, 2, 8, 9, 15]\n"
     ]
    }
   ],
   "source": [
    "a = [1, 3, 5, 2, 8, 9, 15, 29]\n",
    "a.remove(5)                 # index로 삭제가 아닌 실제 값을 삭제하는 것\n",
    "print(a)\n",
    "temp = a.pop()              # 가장 마지막 데이터를 꺼낸 후 삭제\n",
    "print(temp)\n",
    "print(a)"
   ]
  },
  {
   "cell_type": "code",
   "execution_count": 100,
   "id": "43217a0a-c64a-4c18-bd7e-f55b0767ad0c",
   "metadata": {},
   "outputs": [
    {
     "name": "stdout",
     "output_type": "stream",
     "text": [
      "7\n",
      "22\n",
      "1\n",
      "51\n",
      "7.285714285714286\n"
     ]
    }
   ],
   "source": [
    "a = [1, 3, 4, 2, 1, 18, 22]\n",
    "# 다음 함수는 리스트 객체의 함수가 아닌 파이썬의 내장 함수\n",
    "print(len(a))\n",
    "print(max(a))\n",
    "print(min(a))\n",
    "print(sum(a))\n",
    "print(sum(a)/len(a))       # 평균값"
   ]
  },
  {
   "cell_type": "code",
   "execution_count": 102,
   "id": "bce0850f-1600-426c-9003-3c5748c444e9",
   "metadata": {},
   "outputs": [
    {
     "name": "stdin",
     "output_type": "stream",
     "text": [
      "결제를 하시겠습니까? y\n"
     ]
    },
    {
     "name": "stdout",
     "output_type": "stream",
     "text": [
      "구매해 주셔서 감사합니다.\n"
     ]
    }
   ],
   "source": [
    "ans = input('결제를 하시겠습니까?')\n",
    "if ans in ['yes', 'y', 'ok', '네', '예']:\n",
    "    print('구매해 주셔서 감사합니다.')\n",
    "else:\n",
    "    print('안녕히 가세요!')"
   ]
  },
  {
   "cell_type": "markdown",
   "id": "e8a8ebbb-ea4d-4e1c-a194-5ae941848d6e",
   "metadata": {},
   "source": [
    "## 이중 리스트\n",
    "- 리스트의 요소로 리스트를 갖는 형태"
   ]
  },
  {
   "cell_type": "code",
   "execution_count": 107,
   "id": "f23c6b19-8a48-4644-b25c-abb5ddf5af7e",
   "metadata": {},
   "outputs": [
    {
     "name": "stdout",
     "output_type": "stream",
     "text": [
      "[1, 2, 3]\n",
      "1\n",
      "1 2 3 \n",
      "4 5 6 \n",
      "7 8 9 \n"
     ]
    }
   ],
   "source": [
    "l = [[1,2,3],\n",
    "     [4,5,6],\n",
    "     [7,8,9]]\n",
    "print(l[0])\n",
    "print(l[0][0])\n",
    "\n",
    "for x in l:\n",
    "    for y in x:\n",
    "        print(y, end = ' ')\n",
    "    print()                     # 줄바꿈"
   ]
  },
  {
   "cell_type": "markdown",
   "id": "5129ea6c-84d5-4e8a-be4d-0a81e23f60e3",
   "metadata": {},
   "source": [
    "## [:]과 deepcopy()의 차이"
   ]
  },
  {
   "cell_type": "code",
   "execution_count": 110,
   "id": "0c7c88cb-31e2-4e00-9943-e84aa83928d3",
   "metadata": {},
   "outputs": [
    {
     "name": "stdout",
     "output_type": "stream",
     "text": [
      "2246603231872\n",
      "2246599756736\n"
     ]
    }
   ],
   "source": [
    "import copy   # 원하는 패키지를 사용하기 위함\n",
    "\n",
    "matrix = [[1,2,3],\n",
    "         [4,5,6],\n",
    "         [7,8,9]]\n",
    "# [:] 이용한 깊은 복사는 서브 리스트까지 깊은 복사를 수행하지 않는다.\n",
    "# copy_m = matrix[:]\n",
    "# 반면 deepcopy() 함수는 모든 요소에 대한 깊은 복사를 수행한다.\n",
    "copy_m = copy.deepcopy(matrix)\n",
    "print(id(matrix[0]))\n",
    "print(id(copy_m[0]))"
   ]
  },
  {
   "cell_type": "markdown",
   "id": "482a7896-5f03-4adf-8bdd-21f682159919",
   "metadata": {},
   "source": [
    "[문제] 성적 총점과 평균 구하기\n",
    "학생 3명의 성적에 대해 각각 총점과 평균을 구하고, 전체 평균을 구하세요.\n",
    "[실행 결과]\n",
    "1번 학생: 총점: , 평균:\n",
    "2번 학생: 총점: , 평균:\n",
    "3번 학생: 총점: , 평균:\n",
    "전체 평균:"
   ]
  },
  {
   "cell_type": "code",
   "execution_count": 131,
   "id": "c2db10bc-a1bf-4dd2-bd43-321b15c3a361",
   "metadata": {},
   "outputs": [
    {
     "name": "stdout",
     "output_type": "stream",
     "text": [
      "1번 학생: 총점: 354, 평균: 88.50\n",
      "2번 학생: 총점: 275, 평균: 68.75\n",
      "3번 학생: 총점: 328, 평균: 82.00\n",
      "전체 평균: 79.75\n"
     ]
    }
   ],
   "source": [
    "score = [[88, 76, 92, 98],\n",
    "         [65, 70, 58, 82],\n",
    "         [82, 80, 78, 88]]\n",
    "index = 1\n",
    "total = 0  # 전체 모든 학생의 총점을 저장\n",
    "all_subject = 0  # 전체 과목 수\n",
    "for student in score:\n",
    "    print(f'{index}번 학생: 총점: {sum(student)}, 평균: {sum(student) / len(student):.2f}')\n",
    "    index += 1\n",
    "    total += sum(student)\n",
    "    all_subject += len(student)\n",
    "print(f'전체 평균: {total/all_subject}')"
   ]
  },
  {
   "cell_type": "code",
   "execution_count": 1,
   "id": "02c1a421-48b8-469e-b270-ee23865cacd4",
   "metadata": {},
   "outputs": [
    {
     "name": "stdout",
     "output_type": "stream",
     "text": [
      "1번 학생: 총점: 354, 평균: 88.5\n",
      "2번 학생: 총점: 275, 평균: 68.75\n",
      "3번 학생: 총점: 328, 평균: 82.0\n",
      "전체 평균:  79.75\n"
     ]
    }
   ],
   "source": [
    "score = [[88, 76, 92, 98],\n",
    "         [65, 70, 58, 82],\n",
    "         [82, 80, 78, 88]]\n",
    "\n",
    "stu = 0\n",
    "stu_all = 0\n",
    "for stu in score:\n",
    "    stu_sum = sum(stu)\n",
    "    stu_avg = sum(stu) / len(stu)\n",
    "    stu_all += stu_avg\n",
    "    print(f'{score.index(stu) + 1}번 학생: 총점: {stu_sum}, 평균: {stu_avg}')\n",
    "print('전체 평균: ', stu_all / len(score))"
   ]
  },
  {
   "cell_type": "markdown",
   "id": "74e340c1-d673-42c7-9c11-a44fc54b36c9",
   "metadata": {},
   "source": [
    "[문제] 일수 계산\n",
    "1-12월 중 입력 받은 월이 몇 일까지 있는지를 계산하는 프로그램을 작성하세요.\n",
    "\n",
    "[실행예시]\n",
    "년도를 입력하세요: 2024\n",
    "월을 입력하세요: 2\n",
    "2024년 2월은 29일까지 있습니다.\n",
    "\n",
    "[참고]\n",
    "윤년 조건: 4로 나눠지고, 100으로 나워지지 않는 해 또는 400으로 나눠지는 해"
   ]
  },
  {
   "cell_type": "code",
   "execution_count": 146,
   "id": "21c5c26c-08f5-4244-aab5-eb7c3038f45e",
   "metadata": {},
   "outputs": [
    {
     "name": "stdin",
     "output_type": "stream",
     "text": [
      "년도를 입력하세요:  2023\n",
      "월을 입력하세요:  2\n"
     ]
    },
    {
     "name": "stdout",
     "output_type": "stream",
     "text": [
      "2023년 2월은 28일까지 있습니다.\n"
     ]
    }
   ],
   "source": [
    "daysInMonth = [31, 28, 31, 30, 31, 30, 31, 31, 30, 31, 30, 31]\n",
    "\n",
    "year = int(input('년도를 입력하세요: '))\n",
    "month = int(input('월을 입력하세요: '))\n",
    "days = 0\n",
    "if month == 2:\n",
    "    days = 29 if (not year % 4 and year % 100) or (not year % 400) else 28\n",
    "else:\n",
    "    days = daysInMonth[month-1]\n",
    "print(f'{year}년 {month}월은 {days}일까지 있습니다.')"
   ]
  },
  {
   "cell_type": "code",
   "execution_count": 143,
   "id": "e2dfa0db-e6d8-4ced-95d9-6e6095f5f65d",
   "metadata": {
    "scrolled": true
   },
   "outputs": [
    {
     "name": "stdin",
     "output_type": "stream",
     "text": [
      "년도를 입력하세요:  2025\n",
      "월을 입력하세요:  2\n"
     ]
    },
    {
     "name": "stdout",
     "output_type": "stream",
     "text": [
      "2025년 2월은 28일까지 있습니다.\n"
     ]
    }
   ],
   "source": [
    "daysInMonth = [31, 28, 31, 30, 31, 30, 31, 31, 30, 31, 30, 31]\n",
    "\n",
    "year = int(input('년도를 입력하세요: '))\n",
    "month = int(input('월을 입력하세요: '))\n",
    "if month == 2:\n",
    "    if (year % 4 == 0 and year % 100 != 0) or (year % 400 == 0):\n",
    "        print(f'{year}년 {month}월은 29일까지 있습니다.')\n",
    "    else: print(f'{year}년 {month}월은 {daysInMonth[month-1]}일까지 있습니다.')\n",
    "else:\n",
    "    print(f'{year}년 {month}월은 {daysInMonth[month-1]}일까지 있습니다.')"
   ]
  },
  {
   "cell_type": "markdown",
   "id": "46905a2f-b691-435e-9bdf-de145b64d504",
   "metadata": {},
   "source": [
    "# 딕셔너리 (Dictionary)"
   ]
  },
  {
   "cell_type": "code",
   "execution_count": 152,
   "id": "5e915387-6c30-4283-aff8-ae4b46e24699",
   "metadata": {},
   "outputs": [
    {
     "name": "stdout",
     "output_type": "stream",
     "text": [
      "홍길동\n",
      "서울시 강남구\n",
      "{'name': '홍길동', 'age': '32', 'address': '서울시 강서구'}\n",
      "생일 미등록\n"
     ]
    }
   ],
   "source": [
    "# 딕셔너리 생성\n",
    "x = {'name':'홍길동', 'age':'32'}\n",
    "print(x['name'])\n",
    "x['address'] = '서울시 강남구'\n",
    "print(x['address'])\n",
    "x['address'] = '서울시 강서구'\n",
    "print(x)\n",
    "print(x.get('birth', '생일 미등록'))"
   ]
  },
  {
   "cell_type": "code",
   "execution_count": 157,
   "id": "52be43df-8f49-472a-b8df-363b9a0b7771",
   "metadata": {},
   "outputs": [
    {
     "name": "stdout",
     "output_type": "stream",
     "text": [
      "dict_keys(['name', 'age', 'address'])\n",
      "dict_items([('name', '홍길동'), ('age', '32'), ('address', '서울시 강서구')])\n",
      "name 전우치\n",
      "phone 010-1234-5678\n",
      "age 28\n",
      "---------------\n",
      "name 전우치\n",
      "phone 010-1234-5678\n",
      "age 28\n"
     ]
    }
   ],
   "source": [
    "# 딕셔너리 데이터 순회\n",
    "y = {'name':'전우치', 'phone':'010-1234-5678', 'age':28}\n",
    "print(x.keys())\n",
    "print(x.items())\n",
    "\n",
    "for key in y.keys():\n",
    "    print(key, y[key])\n",
    "print('-'*15)\n",
    "for key, value in y.items():\n",
    "    print(key, value)"
   ]
  },
  {
   "cell_type": "code",
   "execution_count": 163,
   "id": "9efe4147-202a-4ae4-9795-d09f574d4b3a",
   "metadata": {},
   "outputs": [
    {
     "name": "stdout",
     "output_type": "stream",
     "text": [
      "합계:  324\n",
      "[('전우치', 67), ('손오공', 80), ('임꺽정', 88), ('홍길동', 89)]\n"
     ]
    }
   ],
   "source": [
    "score = {'홍길동':89, '임꺽정':88, '손오공':80, '전우치':67}\n",
    "print('합계: ', sum(score.values()))\n",
    "print(sorted(score.items(), key = lambda x:x[1]))  # lambda 변수:표현식   => 이름 없는 함수 정의 방식"
   ]
  },
  {
   "cell_type": "markdown",
   "id": "e7f1d1cf-f71a-4b28-86c8-4f0cd5f3da60",
   "metadata": {},
   "source": [
    "[문제] 단어 빈도수 구하기\n",
    "text 문장 안에 포함된 각 단어의 빈도수를 구하여 dictionary 형태로 결과를 출력하세요.\n",
    "단어는 key가 되고, 빈도수는 value가 된다."
   ]
  },
  {
   "cell_type": "code",
   "execution_count": 1,
   "id": "812c6766-dec7-4159-943f-2593b0b60519",
   "metadata": {},
   "outputs": [
    {
     "name": "stdout",
     "output_type": "stream",
     "text": [
      "[('you', 15), ('to', 14), ('i', 12), ('that', 10), ('hello', 9), (\"i've\", 9), (\"i'm\", 8), ('it', 8), ('the', 8), ('but', 7), ('sorry', 7), ('anymore', 7), ('from', 6), ('tell', 6), ('for', 6), ('a', 5), ('other', 5), ('side', 5), ('thousand', 5), ('times', 5), ('outside', 5), ('tried', 5), ('everything', 4), ('say', 4), ('done', 4), ('can', 4), ('be', 4), ('when', 4), ('at', 4), ('of', 4), (\"it's\", 3), ('me', 3), (\"must've\", 3), ('called', 3), ('call', 3), ('never', 3), ('seem', 3), ('home', 3), ('least', 3), ('breaking', 3), ('your', 3), ('heart', 3), (\"don't\", 3), ('matter', 3), ('clearly', 3), (\"doesn't\", 3), ('tear', 3), ('apart', 3), ('about', 2), ('we', 2), ('and', 2), ('how', 2), ('us', 2), ('are', 2), ('so', 2), ('ever', 2), ('out', 2), ('oohooh', 2), ('was', 1), ('wondering', 1), ('if', 1), ('after', 1), ('all', 1), ('these', 1), ('years', 1), (\"you'd\", 1), ('like', 1), ('meet', 1), ('go', 1), ('over', 1), ('they', 1), (\"time's\", 1), ('supposed', 1), ('heal', 1), ('ya', 1), (\"ain't\", 1), ('much', 1), ('healing', 1), ('hear', 1), ('in', 1), ('california', 1), ('dreaming', 1), ('who', 1), ('used', 1), ('were', 1), ('younger', 1), ('free', 1), ('forgotten', 1), ('felt', 1), ('before', 1), ('world', 1), ('fell', 1), ('our', 1), ('feet', 1), (\"there's\", 1), ('such', 1), ('difference', 1), ('between', 1), ('million', 1), ('miles', 1), ('typical', 1), ('talk', 1), ('myself', 1), ('hope', 1), (\"you're\", 1), ('well', 1), ('did', 1), ('make', 1), ('town', 1), ('where', 1), ('nothing', 1), ('happened', 1), ('no', 1), ('secret', 1), ('both', 1), ('running', 1), ('time', 1), ('oohoohooh', 1)]\n"
     ]
    }
   ],
   "source": [
    "song = \"\"\"Hello, it's me \n",
    "I was wondering if after all these years you'd like to meet\n",
    "To go over everything\n",
    "They say that time's supposed to heal ya\n",
    "But I ain't done much healing\n",
    "Hello, can you hear me?\n",
    "I'm in California dreaming about who we used to be\n",
    "When we were younger and free\n",
    "I've forgotten how it felt before the world fell at our feet\n",
    "There's such a difference between us\n",
    "And a million miles\n",
    "Hello from the other side\n",
    "I must've called a thousand times\n",
    "To tell you I'm sorry for everything that I've done\n",
    "But when I call, you never seem to be home\n",
    "Hello from the outside\n",
    "At least I can say that I've tried\n",
    "To tell you I'm sorry for breaking your heart\n",
    "But it don't matter, it clearly doesn't tear you apart anymore\n",
    "Hello, how are you?\n",
    "It's so typical of me to talk about myself, I'm sorry\n",
    "I hope that you're well\n",
    "Did you ever make it out of that town where nothing ever happened?\n",
    "It's no secret that the both of us are running out of time\n",
    "So hello from the other side (Other side)\n",
    "I must've called a thousand times (Thousand times)\n",
    "To tell you I'm sorry for everything that I've done\n",
    "But when I call, you never seem to be home\n",
    "Hello from the outside (Outside)\n",
    "At least I can say that I've tried (I've tried)\n",
    "To tell you I'm sorry for breaking your heart\n",
    "But it don't matter, it clearly doesn't tear you apart anymore\n",
    "Ooh-ooh, anymore\n",
    "Ooh-ooh-ooh, anymore\n",
    "Ooh-ooh, anymore\n",
    "Anymore\n",
    "Hello from the other side (Other side)\n",
    "I must've called a thousand times (Thousand times)\n",
    "To tell you I'm sorry for everything that I've done\n",
    "But when I call, you never seem to be home\n",
    "Hello from the outside (Outside)\n",
    "At least I can say that I've tried (I've tried)\n",
    "To tell you I'm sorry for breaking your heart\n",
    "But it don't matter, it clearly doesn't tear you apart anymore\"\"\"\n",
    "\n",
    "song = song.lower().replace('\\n',' ')\n",
    "punctuation = ',!()`?-.'\n",
    "for p in punctuation:\n",
    "    song = song.replace(p, '')                  # replace는 반환만 하기 때문에 같은 변수인 song에 대입\n",
    "word_list = song.split()                        # split() = 공백 기준\n",
    "result = {}                                     # = dict() 비어 있는 dictionary 생성 \n",
    "for word in word_list:\n",
    "    if  result.get(word) == None:\n",
    "        result[word] = 1\n",
    "    else: \n",
    "        result[word]  += 1                      #  result[word] = result[word] + 1\n",
    "print(sorted(result.items(), key=lambda x:x[1], reverse = True))\n",
    "\n",
    "#2\n",
    "# f or word in word_list:\n",
    "#    result[word] = result.get(word, 0) + 1\n",
    "# print(sorted(result.items(), key=lambda x:x[1], reverse = True)) "
   ]
  },
  {
   "cell_type": "code",
   "execution_count": null,
   "id": "c01ae660-4a01-4499-9770-d6bfbd64dea8",
   "metadata": {},
   "outputs": [],
   "source": [
    "song = \"\"\"Hello, it's me \n",
    "I was wondering if after all these years you'd like to meet\n",
    "To go over everything\n",
    "They say that time's supposed to heal ya\n",
    "But I ain't done much healing\n",
    "Hello, can you hear me?\n",
    "I'm in California dreaming about who we used to be\n",
    "When we were younger and free\n",
    "I've forgotten how it felt before the world fell at our feet\n",
    "There's such a difference between us\n",
    "And a million miles\n",
    "Hello from the other side\n",
    "I must've called a thousand times\n",
    "To tell you I'm sorry for everything that I've done\n",
    "But when I call, you never seem to be home\n",
    "Hello from the outside\n",
    "At least I can say that I've tried\n",
    "To tell you I'm sorry for breaking your heart\n",
    "But it don't matter, it clearly doesn't tear you apart anymore\n",
    "Hello, how are you?\n",
    "It's so typical of me to talk about myself, I'm sorry\n",
    "I hope that you're well\n",
    "Did you ever make it out of that town where nothing ever happened?\n",
    "It's no secret that the both of us are running out of time\n",
    "So hello from the other side (Other side)\n",
    "I must've called a thousand times (Thousand times)\n",
    "To tell you I'm sorry for everything that I've done\n",
    "But when I call, you never seem to be home\n",
    "Hello from the outside (Outside)\n",
    "At least I can say that I've tried (I've tried)\n",
    "To tell you I'm sorry for breaking your heart\n",
    "But it don't matter, it clearly doesn't tear you apart anymore\n",
    "Ooh-ooh, anymore\n",
    "Ooh-ooh-ooh, anymore\n",
    "Ooh-ooh, anymore\n",
    "Anymore\n",
    "Hello from the other side (Other side)\n",
    "I must've called a thousand times (Thousand times)\n",
    "To tell you I'm sorry for everything that I've done\n",
    "But when I call, you never seem to be home\n",
    "Hello from the outside (Outside)\n",
    "At least I can say that I've tried (I've tried)\n",
    "To tell you I'm sorry for breaking your heart\n",
    "But it don't matter, it clearly doesn't tear you apart anymore\"\"\"\n",
    "\n",
    "song = song.lower().replace('\\n',' ')\n",
    "punctuation = \".,'`?!-()\"\n",
    "for p in punctuation:\n",
    "    song = song.replace(p, '')\n",
    "word = song.split(' ')\n",
    "all = dict()\n",
    "for i in word:\n",
    "    if all.get(i) == None:\n",
    "        all[i] = 1\n",
    "    else:\n",
    "        all[i] += 1\n",
    "    all.get(i,[word.count(i)])\n",
    "print(sorted(all.items(), key = lambda x:x[1], reverse = True))"
   ]
  },
  {
   "cell_type": "markdown",
   "id": "77f2ba64-1229-4c36-a1dd-e378b14f52fe",
   "metadata": {},
   "source": [
    "# 집합(Set)"
   ]
  },
  {
   "cell_type": "code",
   "execution_count": 31,
   "id": "a3851fd1-ee17-47ef-9f59-bd06c0465b8e",
   "metadata": {},
   "outputs": [
    {
     "name": "stdout",
     "output_type": "stream",
     "text": [
      "{' ', 'h', 'l', 'H', 'e', 'y', 'n', 'o', 'P', 't'}\n"
     ]
    }
   ],
   "source": [
    "print(set('Hello Python'))"
   ]
  },
  {
   "cell_type": "code",
   "execution_count": 34,
   "id": "f5e7f760-e823-436c-a73e-eacbb3b91f09",
   "metadata": {},
   "outputs": [
    {
     "name": "stdout",
     "output_type": "stream",
     "text": [
      "합집합:  {1, 2, 3, 4, 5, 6, 7, 8}\n",
      "교집합:  {5, 6}\n",
      "차집합:  {1, 2, 3, 4}\n"
     ]
    }
   ],
   "source": [
    "a = {1,2,3,4,5,6}\n",
    "b = {5,6,7,8}\n",
    "print('합집합: ', a.union(b))\n",
    "print('교집합: ', a.intersection(b))\n",
    "print('차집합: ', a.difference(b))"
   ]
  },
  {
   "cell_type": "markdown",
   "id": "35bd88e3-d08a-40d8-bf01-1177f2c75dc8",
   "metadata": {},
   "source": [
    "# Comprehension"
   ]
  },
  {
   "cell_type": "code",
   "execution_count": 41,
   "id": "a514031f-c567-43e3-9c98-5e9555ced44d",
   "metadata": {},
   "outputs": [
    {
     "name": "stdout",
     "output_type": "stream",
     "text": [
      "[1, 2, 4, 6, 7, 33, 63, 7, 5, 10, 43]\n",
      "[3, 6, 12, 18, 21, 99, 189, 21, 15, 30, 129]\n",
      "[2, 4, 6, 10]\n",
      "[[0, 0, 0, 0, 0, 0, 0], [0, 0, 0, 0, 0, 0, 0], [0, 0, 0, 0, 0, 0, 0], [0, 0, 0, 0, 0, 0, 0]]\n"
     ]
    }
   ],
   "source": [
    "tmp = [1,2, 4, 6, 7, 33, 63, 7, 5, 10, 43]\n",
    "a = [i for i in tmp]\n",
    "print(a)\n",
    "\n",
    "b = [i*3 for i in tmp]\n",
    "print(b)\n",
    "\n",
    "c = [i for i in tmp if not i%2]\n",
    "print(c)\n",
    "\n",
    "# 4행 7열 형태의 이중 리스트\n",
    "double_list = [[0,0,0,0,0,0,0],\n",
    "               [0,0,0,0,0,0,0],\n",
    "               [0,0,0,0,0,0,0],\n",
    "               [0,0,0,0,0,0,0]]\n",
    "# print(len(double_list))\n",
    "double_list = [ [0 for col in range(7)] for row in range(4)]\n",
    "print(double_list)"
   ]
  },
  {
   "cell_type": "code",
   "execution_count": 42,
   "id": "3464e717-14f7-4474-b260-177102fd88d7",
   "metadata": {},
   "outputs": [
    {
     "name": "stdout",
     "output_type": "stream",
     "text": [
      "[1, 2, 3, 4, 5, 6, 7, 8, 9, 10]\n"
     ]
    }
   ],
   "source": [
    "# set comprehension\n",
    "s = [i for i in range(1,11)]\n",
    "print(s)"
   ]
  },
  {
   "cell_type": "code",
   "execution_count": null,
   "id": "c366b81b-c66f-49d2-820b-1170b6a123e3",
   "metadata": {},
   "outputs": [],
   "source": [
    "# dictionary comprehension\n",
    "result = [word:word_list.count(word) for word in word_list]\n",
    "print(result)"
   ]
  },
  {
   "cell_type": "markdown",
   "id": "2c3f13be-7ebc-4b30-8c8f-8fdf56e31d70",
   "metadata": {},
   "source": [
    "[문제] 1-100까지 1씩 증가하는 데이터를 생성해서 3의 배수이거나 5의 배수인 데이터만 리스트에 포함시키는 프로그램을 작성하세요."
   ]
  },
  {
   "cell_type": "code",
   "execution_count": 49,
   "id": "b395626b-30bb-48e3-866e-77bf4801e7c2",
   "metadata": {},
   "outputs": [
    {
     "name": "stdout",
     "output_type": "stream",
     "text": [
      "[3, 5, 6, 9, 10, 12, 15, 18, 20, 21, 24, 25, 27, 30, 33, 35, 36, 39, 40, 42, 45, 48, 50, 51, 54, 55, 57, 60, 63, 65, 66, 69, 70, 72, 75, 78, 80, 81, 84, 85, 87, 90, 93, 95, 96, 99, 100]\n"
     ]
    }
   ],
   "source": [
    "a = [ i for i in range(1,101) if not i%3 or not i%5 ]\n",
    "print(a)"
   ]
  },
  {
   "cell_type": "code",
   "execution_count": 47,
   "id": "df8c3bcf-636c-45f9-b166-278a7aa89acc",
   "metadata": {},
   "outputs": [
    {
     "name": "stdout",
     "output_type": "stream",
     "text": [
      "[3, 5, 6, 9, 10, 12, 15, 18, 20, 21, 24, 25, 27, 30, 33, 35, 36, 39, 40, 42, 45, 48, 50, 51, 54, 55, 57, 60, 63, 65, 66, 69, 70, 72, 75, 78, 80, 81, 84, 85, 87, 90, 93, 95, 96, 99, 100]\n"
     ]
    }
   ],
   "source": [
    "a = [ i for i in range(1,101) if (i%3 == 0 or i%5 == 0) ]\n",
    "print(a)"
   ]
  },
  {
   "cell_type": "markdown",
   "id": "5812520e-8973-49b1-b28f-5bfde21c2413",
   "metadata": {},
   "source": [
    "# zip()"
   ]
  },
  {
   "cell_type": "code",
   "execution_count": 51,
   "id": "c4ac5fa2-d626-4b43-9eb7-30786467e069",
   "metadata": {},
   "outputs": [
    {
     "name": "stdout",
     "output_type": "stream",
     "text": [
      "[(1, 10), (2, 20), (3, 30), (4, 40), (5, 50)]\n",
      "[111, 222, 333, 444, 555]\n"
     ]
    }
   ],
   "source": [
    "data1 = [1,2,3,4,5]\n",
    "data2 = [10,20,30,40,50]\n",
    "data3 = [100,200,300,400,500]\n",
    "\n",
    "result = [ x for x in zip(data1, data2)]\n",
    "print(result)\n",
    "\n",
    "result2 = [ sum(x) for x in zip(data1, data2, data3)]\n",
    "print(result2)"
   ]
  },
  {
   "cell_type": "code",
   "execution_count": 54,
   "id": "32550fbd-b9bd-410d-8a86-1eea221efb51",
   "metadata": {},
   "outputs": [
    {
     "name": "stdout",
     "output_type": "stream",
     "text": [
      "월요일 메뉴:갈비탕\n",
      "화요일 메뉴:순대국\n",
      "수요일 메뉴:칼국수\n",
      "목요일 메뉴:삼겹살\n"
     ]
    }
   ],
   "source": [
    "yoil = ['월', '화', '수', '목','금', '토', '일']\n",
    "food = ['갈비탕','순대국','칼국수','삼겹살']\n",
    "for y, f in zip(yoil,food):\n",
    "    print(f'{y}요일 메뉴:{f}')"
   ]
  },
  {
   "cell_type": "code",
   "execution_count": 55,
   "id": "a512efb3-f1cb-4f74-ab62-2dbc30e3e2c9",
   "metadata": {},
   "outputs": [
    {
     "name": "stdout",
     "output_type": "stream",
     "text": [
      "{'월': '갈비탕', '화': '순대국', '수': '칼국수', '목': '삼겹살'}\n"
     ]
    }
   ],
   "source": [
    "d = dict(zip(yoil, food))\n",
    "print(d)"
   ]
  },
  {
   "cell_type": "markdown",
   "id": "a837b007-9d51-404f-aadf-db4a83654ac7",
   "metadata": {},
   "source": [
    "# enumerate()"
   ]
  },
  {
   "cell_type": "code",
   "execution_count": 58,
   "id": "61dec45e-bae2-4fa7-8726-c75207b60805",
   "metadata": {},
   "outputs": [
    {
     "name": "stdout",
     "output_type": "stream",
     "text": [
      "[(0, '월'), (1, '화'), (2, '수'), (3, '목'), (4, '금'), (5, '토'), (6, '일')]\n",
      "1 월\n",
      "2 화\n",
      "3 수\n",
      "4 목\n",
      "5 금\n",
      "6 토\n",
      "7 일\n"
     ]
    }
   ],
   "source": [
    "yoil = ['월', '화', '수', '목','금', '토', '일']\n",
    "print(list(enumerate(yoil)))\n",
    "\n",
    "for i, item in enumerate(yoil, 1):\n",
    "    print(i, item)"
   ]
  },
  {
   "cell_type": "code",
   "execution_count": 62,
   "id": "81d09a80-57eb-4360-b4fa-e144231d9688",
   "metadata": {},
   "outputs": [
    {
     "name": "stdout",
     "output_type": "stream",
     "text": [
      "{'빨강': 0, '주황': 1, '노랑': 2, '초록': 3, '파랑': 4}\n"
     ]
    }
   ],
   "source": [
    "color = ['빨강','주황','노랑','초록','파랑']            # 명목형 (범주형) 데이터\n",
    "maping = {v:i for i, v in enumerate(color)}\n",
    "print(maping)"
   ]
  },
  {
   "cell_type": "markdown",
   "id": "4d25395c-486e-4542-8c89-01231f2d425d",
   "metadata": {},
   "source": [
    "# 함수"
   ]
  },
  {
   "cell_type": "code",
   "execution_count": 2,
   "id": "2438124b-7557-4fa8-a4fb-d888561d5aac",
   "metadata": {},
   "outputs": [
    {
     "name": "stdout",
     "output_type": "stream",
     "text": [
      "{'food': '스테이크', 'drink': '포도주', 'desert': '치즈케익'}\n",
      "{'food': '잔치국수', 'drink': '막걸리', 'desert': '파전'}\n"
     ]
    }
   ],
   "source": [
    "def restaurant(food, drink, desert):\n",
    "    return {'food':food, 'drink':drink, 'desert':desert}\n",
    "\n",
    "# 위치 인자를 이용한 함수의 호출\n",
    "first = restaurant('스테이크', '포도주', '치즈케익')\n",
    "print(first)\n",
    "\n",
    "# 키워드 인자를 이용한 함수의 호출 (정의된 매개변수 순서에 상관없이 호출 가능)\n",
    "second = restaurant(drink = '막걸리', desert = '파전', food = '잔치국수')\n",
    "print(second)"
   ]
  },
  {
   "cell_type": "code",
   "execution_count": 4,
   "id": "211c711e-68ab-4501-ae63-fdc4351c7753",
   "metadata": {},
   "outputs": [
    {
     "name": "stdout",
     "output_type": "stream",
     "text": [
      "{'food': '연어초밥', 'drink': '사케', 'desert': '아이스크림'}\n",
      "{'food': '돈부리', 'drink': '사케', 'desert': '아이스크림'}\n"
     ]
    }
   ],
   "source": [
    "def restaurant(food = '연어초밥', drink = '사케', desert = '아이스크림'):      # 초기값 가지도록\n",
    "    return {'food':food, 'drink':drink, 'desert':desert}\n",
    "print(restaurant())\n",
    "print(restaurant('돈부리'))"
   ]
  },
  {
   "cell_type": "code",
   "execution_count": 6,
   "id": "20282d5f-91cc-44e5-9792-60e1627ab040",
   "metadata": {},
   "outputs": [
    {
     "name": "stdout",
     "output_type": "stream",
     "text": [
      "1~10까지의 합 = 55\n"
     ]
    }
   ],
   "source": [
    "def calcstep(begin, end, step=1):\n",
    "    hap = 0\n",
    "    for num in range(begin, end+1, step):\n",
    "        hap += num\n",
    "    return hap\n",
    "print('1~10까지의 합 =',  calcstep(1,10))"
   ]
  },
  {
   "cell_type": "code",
   "execution_count": 10,
   "id": "24e767b2-9873-41e4-ac53-d24d777e6490",
   "metadata": {},
   "outputs": [
    {
     "name": "stdout",
     "output_type": "stream",
     "text": [
      "sales() 함수 호출 후 price 값:  5000\n"
     ]
    }
   ],
   "source": [
    "price = 1000   # 전역변수\n",
    "\n",
    "def sales():\n",
    "    global price   # 전역변수 사용\n",
    "    price = 5000   # 지역변수\n",
    "    b_price = 500  # 지역변수\n",
    "\n",
    "sales()   # 함수의 호출 (사용)\n",
    "print('sales() 함수 호출 후 price 값: ', price)\n",
    "# print(b_price)   # 지역변수는 함수 밖에서 호출 불가능"
   ]
  },
  {
   "cell_type": "markdown",
   "id": "f47054ab-a9d5-4cfe-bffd-cc1ed9eb510b",
   "metadata": {},
   "source": [
    "[문제] 다음과 같은 결과를 출력하는 함수를 정의하세요.\n",
    "<pre>\n",
    "    print_star(5)\n",
    "    *\n",
    "    **\n",
    "    ***\n",
    "    ****\n",
    "    *****\n",
    "</pre>"
   ]
  },
  {
   "cell_type": "code",
   "execution_count": 27,
   "id": "2273c6c7-da2a-4c7a-8c10-2600b0dbf090",
   "metadata": {
    "scrolled": true
   },
   "outputs": [
    {
     "name": "stdout",
     "output_type": "stream",
     "text": [
      "*\n",
      "**\n",
      "***\n",
      "****\n",
      "*****\n"
     ]
    }
   ],
   "source": [
    "def print_star(a):                           # return 값을 갖는 함수 = 처리 결과 받는 변수 선언 필요\n",
    "    for i in range(1,a+1):\n",
    "        print('*'*i)\n",
    "print_star(5)"
   ]
  },
  {
   "cell_type": "code",
   "execution_count": 28,
   "id": "45eca69c-8bc6-4576-9d72-56ed55b75cee",
   "metadata": {},
   "outputs": [
    {
     "name": "stdout",
     "output_type": "stream",
     "text": [
      "*\n",
      "**\n",
      "***\n",
      "****\n",
      "*****\n"
     ]
    }
   ],
   "source": [
    "def print_star(a):\n",
    "    result = []\n",
    "    for i in range(1,a+1):\n",
    "        result.append('*'*i)\n",
    "    return '\\n'.join(result)\n",
    "r = print_star(5)\n",
    "print(r)"
   ]
  },
  {
   "cell_type": "code",
   "execution_count": 30,
   "id": "6b3d8252-35d3-47a3-8e84-35333aff1efa",
   "metadata": {},
   "outputs": [
    {
     "name": "stdout",
     "output_type": "stream",
     "text": [
      "잔고 부족\n"
     ]
    }
   ],
   "source": [
    "balace = 100\n",
    "\n",
    "def deposit(amount):\n",
    "    global balace \n",
    "    balace += amount\n",
    "    return balace\n",
    "\n",
    "def withdraw(amount):\n",
    "    result = False  # 출금 결과 저장 (True: 성공, False: 실패)\n",
    "    global balace\n",
    "    if balace >= amount:\n",
    "        balace -= amount\n",
    "        result = True\n",
    "    return result\n",
    "\n",
    "# result = deposit(10)\n",
    "# print(result)\n",
    "\n",
    "success = withdraw(1000)\n",
    "if success: print('출금 성공')\n",
    "else: print('잔고 부족')"
   ]
  },
  {
   "cell_type": "markdown",
   "id": "af1ad8c3-028c-4d15-b2d0-b8c875eebc53",
   "metadata": {},
   "source": [
    "[문제] 함수를 이용한 계산기\n",
    "<pre>\n",
    "    이항사칙연산식을 매개변수로 받아 연산의 결과를 출력하는 함수를 정의하시오.\n",
    "    - 함수 형식: calculator(exp), 반환 값 없음\n",
    "    - exp: 사용자로부터 입력받은 문자열 형태의 연산식\n",
    "    - +, -, *, / 외 연산자 사용 시 오류 메시지 출력\n",
    "    - 나누기 연산에서 부모의 값이 0인 경우, 오류 메시지 출력\n",
    "    (실행 예시)\n",
    "    계산식을 입력하세요: 10+20     => 문자열 형태  input()   - 함수 안에서 분해해서 사칙연산식 만들어 줘야됨..\n",
    "    10+20=30.00\n",
    "\n",
    "    계산식을 입력하세요: 10a20\n",
    "    연산자 오류\n",
    "</pre>"
   ]
  },
  {
   "cell_type": "code",
   "execution_count": 84,
   "id": "86757122-881a-4fc3-b6a6-b216d751d916",
   "metadata": {},
   "outputs": [
    {
     "name": "stdin",
     "output_type": "stream",
     "text": [
      "계산식을 입력하세요:  10+20\n"
     ]
    },
    {
     "name": "stdout",
     "output_type": "stream",
     "text": [
      "10+20 = 30.00\n"
     ]
    }
   ],
   "source": [
    "# 함수의 정의\n",
    "def calculator(exp):\n",
    "    operator = ''  # 발견된 연산자 문자열을 저장\n",
    "    for op in ['+','-','*','/']:\n",
    "        op_index = exp.find(op)\n",
    "        if op_index != -1:  # 연산식 내에서 찾고자 하는 연산자가 발견이 됐을 경우\n",
    "            operator = op\n",
    "            break\n",
    "    if op_index != -1:\n",
    "        value1 = float(exp.split(operator)[0])\n",
    "        value2 = float(exp.split(operator)[1])\n",
    "\n",
    "        if operator == '+':\n",
    "            print(f'{exp} = {value1 + value2:.2f}')\n",
    "        elif operator == '-':\n",
    "            print(f'{exp} = {value1 - value2:.2f}')\n",
    "        elif operator == '*':\n",
    "            print(f'{exp} = {value1 * value2:.2f}')\n",
    "        elif operator == '/':\n",
    "            if value2 != 0:\n",
    "                print(f'{exp} = {value1 + value2:.2f}')\n",
    "            else: print('0으로 나눌 수 없습니다.')\n",
    "    else:\n",
    "        print('연산자 오류!')\n",
    "\n",
    "d = input('계산식을 입력하세요: ')\n",
    "# 함수의 사용(호출)\n",
    "calculator(d)"
   ]
  },
  {
   "cell_type": "code",
   "execution_count": 89,
   "id": "c5cbcadc-1119-4687-9d5c-7d8fdfcd612f",
   "metadata": {},
   "outputs": [
    {
     "name": "stdin",
     "output_type": "stream",
     "text": [
      "계산식을 입력하세요: 10+20\n"
     ]
    },
    {
     "name": "stdout",
     "output_type": "stream",
     "text": [
      "10+20=30.00\n"
     ]
    }
   ],
   "source": [
    "def calculator(exp):\n",
    "    operator = ''   # 발견된 연산자 문자열을 저장\n",
    "    for op in ['+','-','*','/'] :\n",
    "        op_index = exp.find(op)\n",
    "        if op_index != -1: # 연산식 내에서 찾고자 하는 연산자가 발견이 됐을 경우\n",
    "            operator = op\n",
    "            break\n",
    "    if op_index == -1:\n",
    "        print('연산자 오류')\n",
    "        return     # 함수의 실행을 끝내겠다.\n",
    "        \n",
    "    value1 = float(exp.split(operator)[0])\n",
    "    value2 = float(exp.split(operator)[1])\n",
    "\n",
    "    result = 0.0\n",
    "    \n",
    "    if operator == '+':\n",
    "        result = value1 + value2\n",
    "    elif operator == '-':\n",
    "        result = value1 - value2\n",
    "    elif operator == '*':\n",
    "        result = value1 * value2\n",
    "    elif operator == '/':\n",
    "        if value2 != 0:\n",
    "            result = value1 / value2\n",
    "        else:\n",
    "            print('0으로 나눌 수 없습니다.')\n",
    "            return\n",
    "\n",
    "    print(f'{exp}={result:.2f}')\n",
    "\n",
    "d = input('계산식을 입력하세요:')\n",
    "calculator(d)            "
   ]
  },
  {
   "cell_type": "code",
   "execution_count": 98,
   "id": "32feabc2-3201-4b89-9d8b-e8eb4b9bbf04",
   "metadata": {},
   "outputs": [
    {
     "name": "stdin",
     "output_type": "stream",
     "text": [
      "계산식을 입력하세요:  1a1\n"
     ]
    },
    {
     "name": "stdout",
     "output_type": "stream",
     "text": [
      "연산자 오류!\n"
     ]
    }
   ],
   "source": [
    "# 함수의 정의abs\n",
    "def calculator(exp):\n",
    "    pro = '+-*/'\n",
    "    for i in pro:\n",
    "        if i in exp:\n",
    "            num = d.split(i)\n",
    "            value1 = float(num[0])\n",
    "            value2 = float(num[1])\n",
    "            result = ''\n",
    "            if i == '+':\n",
    "                result = value1 + value2\n",
    "            elif i == '-':\n",
    "                result = value1 - value2\n",
    "            elif i == '*':\n",
    "                result = value1 * value2\n",
    "            else: \n",
    "                if value2 != 0:\n",
    "                    result = value1 / value2\n",
    "                else: print('0으로 나눌 수 없습니다.')\n",
    "            print(f\"{d}={result:.2f}\")\n",
    "            break\n",
    "    else: print('연산자 오류!')\n",
    "        \n",
    "d = input('계산식을 입력하세요: ')\n",
    "# 함수의 사용 (호출)\n",
    "calculator(d)"
   ]
  },
  {
   "cell_type": "markdown",
   "id": "4704a146-9c25-4750-8c93-76c830fa4739",
   "metadata": {},
   "source": [
    "## eval() - 동적 코드 실행\n",
    "- eval 함수는 문자열 형태로 된 파이썬 표현식을 평가하여 그 결과를 리턴한다."
   ]
  },
  {
   "cell_type": "code",
   "execution_count": 102,
   "id": "a7d6d3d2-127b-4402-818a-e4a522c2797f",
   "metadata": {},
   "outputs": [
    {
     "name": "stdout",
     "output_type": "stream",
     "text": [
      "7\n",
      "5\n",
      "서울\n",
      "대전\n",
      "광주\n"
     ]
    }
   ],
   "source": [
    "result = eval('1 + 2 * 3')\n",
    "print(result)\n",
    "\n",
    "a = 2\n",
    "print(eval('a + 3'))\n",
    "\n",
    "data = '[\"서울\", \"대전\", \"광주\"]'\n",
    "for c in eval(data):\n",
    "    print(c)"
   ]
  },
  {
   "cell_type": "markdown",
   "id": "58b553ce-3c72-40f2-937a-fe7ca05f474f",
   "metadata": {},
   "source": [
    "# *args와 **kwargs 매개변수"
   ]
  },
  {
   "cell_type": "code",
   "execution_count": 108,
   "id": "c9364838-8cff-44fb-8c4d-270ef09a07fe",
   "metadata": {},
   "outputs": [
    {
     "name": "stdout",
     "output_type": "stream",
     "text": [
      "매개변수 값: ()\n",
      "매개변수 값: (1,)\n",
      "매개변수 값: (1, 2, 3, 'a', 'b', 'c')\n"
     ]
    }
   ],
   "source": [
    "def test(*args):\n",
    "    print('매개변수 값:',args)\n",
    "\n",
    "test()\n",
    "test(1)\n",
    "test(1,2,3,'a','b','c')"
   ]
  },
  {
   "cell_type": "code",
   "execution_count": 107,
   "id": "01bb6eee-5fa1-4b6e-90dc-0c2d9f67f80d",
   "metadata": {},
   "outputs": [
    {
     "name": "stdout",
     "output_type": "stream",
     "text": [
      "<class 'int'>\n",
      "<class 'tuple'>\n"
     ]
    }
   ],
   "source": [
    "a = (1)\n",
    "print(type(a))\n",
    "b = (1,)                    # 튜플은 원소가 하나일 때 뒤에 반드시 ,로 찍어 줘야 함\n",
    "print(type(b))"
   ]
  },
  {
   "cell_type": "code",
   "execution_count": 111,
   "id": "5a3b5b6e-964e-4ea7-9fa4-0489973fd9f6",
   "metadata": {},
   "outputs": [
    {
     "name": "stdout",
     "output_type": "stream",
     "text": [
      "a-> 10\n",
      "b-> 20\n",
      "args-> ()\n",
      "a-> 10\n",
      "b-> 20\n",
      "args-> (30,)\n"
     ]
    }
   ],
   "source": [
    "def test(a, b, *args):      # 위치 인수, 가변 매개변수 같이 쓸 경우 가변을 위치 뒤로\n",
    "    print('a->', a)\n",
    "    print('b->', b)\n",
    "    print('args->',args)\n",
    "\n",
    "test(10, 20)\n",
    "test(10, 20, 30)"
   ]
  },
  {
   "cell_type": "code",
   "execution_count": 114,
   "id": "04612b7f-9b01-420d-90d6-d7e0cec597ea",
   "metadata": {},
   "outputs": [
    {
     "name": "stdout",
     "output_type": "stream",
     "text": [
      "10 {}\n",
      "10 {'b': 20}\n"
     ]
    }
   ],
   "source": [
    "def test(a, **kwargs):\n",
    "    print(a, kwargs)\n",
    "\n",
    "test(10)\n",
    "test(10, b=20)"
   ]
  },
  {
   "cell_type": "code",
   "execution_count": 4,
   "id": "db91500f-b5e7-495f-93de-ca04733fc34a",
   "metadata": {},
   "outputs": [
    {
     "name": "stdout",
     "output_type": "stream",
     "text": [
      "1-10 합계:  <function calcstep at 0x00000251C81E7880>\n"
     ]
    }
   ],
   "source": [
    "def calcstep(**kwargs):\n",
    "    begin = kwargs['begin']\n",
    "    end = kwargs['end']\n",
    "    step = kwargs['step']\n",
    "\n",
    "    tap = 0\n",
    "    for n in range(begin, end+1, step):\n",
    "        tap += n\n",
    "\n",
    "    return tap\n",
    "\n",
    "print('1-10 합계: ', calcstep)"
   ]
  },
  {
   "cell_type": "code",
   "execution_count": null,
   "id": "24d7c16f-2555-4af0-bb62-863dbe8b8c14",
   "metadata": {},
   "outputs": [],
   "source": [
    "dic = {}\n",
    "dic['a']\n",
    "dic,get('a')"
   ]
  },
  {
   "cell_type": "markdown",
   "id": "54c54a94-08c9-4ba9-8fa2-3defddd791a9",
   "metadata": {},
   "source": [
    "# Filert, Map, Reduce"
   ]
  },
  {
   "cell_type": "code",
   "execution_count": 115,
   "id": "42f9eeba-8ec5-42f1-9969-d63005e3728d",
   "metadata": {},
   "outputs": [
    {
     "name": "stdout",
     "output_type": "stream",
     "text": [
      "낙제 점수: 45\n",
      "낙제 점수: 53\n"
     ]
    }
   ],
   "source": [
    "def fluck(s):\n",
    "    return s < 60                           # s가 60 미만이면 True, 아니면 False\n",
    "\n",
    "score = [45, 89, 72, 53, 94]\n",
    "for s in filter(fluck, score):\n",
    "    print('낙제 점수:',s)"
   ]
  },
  {
   "cell_type": "code",
   "execution_count": 117,
   "id": "418537ce-96ba-4c26-a2c3-ee28e57a4715",
   "metadata": {},
   "outputs": [
    {
     "name": "stdout",
     "output_type": "stream",
     "text": [
      "22.5 44.5 36.0 26.5 47.0 "
     ]
    }
   ],
   "source": [
    "def half(s):\n",
    "    return s / 2\n",
    "\n",
    "score = [45, 89, 72, 53, 94]\n",
    "for s in map(half, score):\n",
    "    print(s, end=' ')"
   ]
  },
  {
   "cell_type": "code",
   "execution_count": 120,
   "id": "d735834f-e5df-470a-91d8-a39b8f595877",
   "metadata": {},
   "outputs": [
    {
     "name": "stdout",
     "output_type": "stream",
     "text": [
      "353\n",
      "Hello\n"
     ]
    }
   ],
   "source": [
    "from functools import reduce\n",
    "\n",
    "# reduce 함수에 사용할 집계 함수는 두 개의 인수를 받는다.\n",
    "# 첫 번째 매개변수는 누적자(accumulator)가 되고\n",
    "# 두 번째 매개변수는 현재 값이 넘어오게 된다.\n",
    "def hap(a, b):\n",
    "    return a + b\n",
    "    \n",
    "score = [45, 89, 72, 53, 94]\n",
    "print(reduce(hap, score))\n",
    "\n",
    "alphabat = ['H', 'e', 'l', 'l', 'o']\n",
    "print(reduce(hap, alphabat))"
   ]
  },
  {
   "cell_type": "markdown",
   "id": "43a3ca66-35e0-4aed-a457-e361529bd9b4",
   "metadata": {},
   "source": [
    "# Lambda"
   ]
  },
  {
   "cell_type": "code",
   "execution_count": 122,
   "id": "c42e0b4a-0120-4936-b822-b9f2de37d149",
   "metadata": {},
   "outputs": [
    {
     "name": "stdout",
     "output_type": "stream",
     "text": [
      "30\n"
     ]
    }
   ],
   "source": [
    "def myfunc(x, y):\n",
    "    return x + y\n",
    "\n",
    "result = myfunc(10, 20)\n",
    "print(result)"
   ]
  },
  {
   "cell_type": "code",
   "execution_count": 123,
   "id": "ba49cc29-04d5-42ee-8ee7-8bfe36def0de",
   "metadata": {},
   "outputs": [
    {
     "name": "stdout",
     "output_type": "stream",
     "text": [
      "30\n"
     ]
    }
   ],
   "source": [
    "result = lambda x, y : x+y\n",
    "print(result(10,20))"
   ]
  },
  {
   "cell_type": "code",
   "execution_count": 126,
   "id": "9c17ab6a-7b6c-4bb5-8f39-39cc9b1c9843",
   "metadata": {},
   "outputs": [
    {
     "name": "stdout",
     "output_type": "stream",
     "text": [
      "['a', 'b', 'c', 'd']\n",
      "[('b', 2), ('d', 7), ('a', 10), ('c', 13)]\n"
     ]
    }
   ],
   "source": [
    "data = {'a':10, 'b':2, 'c':13, 'd':7}\n",
    "print(sorted(data))               # dic key의 사전적 순서로 정렬\n",
    "print(sorted(data.items(), key = lambda x:x[1]))    # 값을 기준으로 정렬 (기본 오름차순)"
   ]
  },
  {
   "cell_type": "code",
   "execution_count": 129,
   "id": "e2cb1890-2a49-4bf8-beca-adf3331ee098",
   "metadata": {},
   "outputs": [
    {
     "name": "stdout",
     "output_type": "stream",
     "text": [
      "[1, 4, 9, 16, 25]\n",
      "[1, 4, 9, 16, 25]\n"
     ]
    }
   ],
   "source": [
    "def squared(s):\n",
    "    return s**2 \n",
    "\n",
    "a = [1, 2, 3, 4, 5]\n",
    "print(list(map(lambda x:x**2, a)))\n",
    "print(list(map(squared, a)))"
   ]
  },
  {
   "cell_type": "code",
   "execution_count": 130,
   "id": "9a2bd0e6-6c47-4bb8-b0a7-50f8f0dd0981",
   "metadata": {},
   "outputs": [
    {
     "name": "stdout",
     "output_type": "stream",
     "text": [
      "[3, 7, 11, 15, 19]\n"
     ]
    }
   ],
   "source": [
    "x = [1, 3, 5, 7, 9]\n",
    "y = [2, 4, 6, 8, 10]\n",
    "\n",
    "print(list(map(lambda x1, y1:x1+y1, x, y)))"
   ]
  },
  {
   "cell_type": "code",
   "execution_count": 132,
   "id": "475c65b9-d659-4768-bed2-b2d26ea1663c",
   "metadata": {},
   "outputs": [
    {
     "name": "stdout",
     "output_type": "stream",
     "text": [
      "[1, 4, 3, 16, 5, 36, 7, 64, 9, 100]\n"
     ]
    }
   ],
   "source": [
    "k = list(range(1, 11))\n",
    "\n",
    "print(list(map(lambda x: x**2 if not x%2 else x, k)))"
   ]
  },
  {
   "cell_type": "code",
   "execution_count": 142,
   "id": "86aedda7-74fc-4eec-b5d1-ceeb52c7717f",
   "metadata": {},
   "outputs": [
    {
     "name": "stdout",
     "output_type": "stream",
     "text": [
      "[45, 30]\n"
     ]
    }
   ],
   "source": [
    "score = [45, 30, 90, 100, 67]\n",
    "print(list(filter(lambda x:x<60, score))) # 모든 객체는 데이터 형태 아주 다양\n",
    "# print로 출력 시 그 형태에 맞게 자동 출력 불가능해, 함수가 정의가 되어 있지 않은 경우, 미리 기입해 줌"
   ]
  },
  {
   "cell_type": "code",
   "execution_count": 135,
   "id": "0202492a-64ee-4d95-83b7-33834131333c",
   "metadata": {},
   "outputs": [
    {
     "name": "stdout",
     "output_type": "stream",
     "text": [
      "3\n",
      "6\n"
     ]
    }
   ],
   "source": [
    "def calc(op, a, b):\n",
    "    op(a, b)\n",
    "\n",
    "def add(a, b):\n",
    "    print(a+b)\n",
    "\n",
    "def multi(a, b):\n",
    "    print(a*b)\n",
    "\n",
    "calc(add, 1, 2)\n",
    "calc(multi, 2, 3)"
   ]
  },
  {
   "cell_type": "code",
   "execution_count": 136,
   "id": "343c397b-5cd6-4ebf-bdd9-3494d1dcac5a",
   "metadata": {},
   "outputs": [
    {
     "name": "stdout",
     "output_type": "stream",
     "text": [
      "2.5\n"
     ]
    }
   ],
   "source": [
    "calc(lambda a,b:print(a/b), 5, 2)"
   ]
  },
  {
   "cell_type": "code",
   "execution_count": 140,
   "id": "4c7e2fb1-d621-40a3-abc8-2ee6a7329990",
   "metadata": {},
   "outputs": [
    {
     "name": "stdout",
     "output_type": "stream",
     "text": [
      "Help on built-in function join:\n",
      "\n",
      "join(iterable, /) method of builtins.str instance\n",
      "    Concatenate any number of strings.\n",
      "    \n",
      "    The string whose method is called is inserted in between each given string.\n",
      "    The result is returned as a new string.\n",
      "    \n",
      "    Example: '.'.join(['ab', 'pq', 'rs']) -> 'ab.pq.rs'\n",
      "\n"
     ]
    }
   ],
   "source": [
    "help('a'.join)"
   ]
  },
  {
   "cell_type": "markdown",
   "id": "6576dc5e-55a6-4bf3-a543-807724db32e1",
   "metadata": {},
   "source": [
    "# 표준 모듈"
   ]
  },
  {
   "cell_type": "code",
   "execution_count": 2,
   "id": "e59849de-f0a3-4970-8d6b-af274089adee",
   "metadata": {},
   "outputs": [
    {
     "name": "stdout",
     "output_type": "stream",
     "text": [
      "1711071025.737521\n",
      "Fri Mar 22 10:30:25 2024\n"
     ]
    }
   ],
   "source": [
    "import time\n",
    "\n",
    "t = time.time()\n",
    "print(t)                         # <- 1970.1.1.0.0부터 호출한 시간까지의 초\n",
    "print(time.ctime())              # 사람이 읽기 쉽게 ctime"
   ]
  },
  {
   "cell_type": "code",
   "execution_count": 5,
   "id": "fbd9f84e-1810-4e54-8cc6-cd8f2cc110e9",
   "metadata": {},
   "outputs": [
    {
     "name": "stdout",
     "output_type": "stream",
     "text": [
      "1-1억까지 합계 계산 총 소요시간: 11.576533794403076\n"
     ]
    }
   ],
   "source": [
    "import time\n",
    "\n",
    "start = time.time()\n",
    "sum = 0\n",
    "for i in range(1, 100000001):\n",
    "    sum += i\n",
    "end = time.time()\n",
    "print('1-1억까지 합계 계산 총 소요시간:', (end-start))"
   ]
  },
  {
   "cell_type": "code",
   "execution_count": 8,
   "id": "56b00fa2-1ca8-4d55-b331-f034da56e214",
   "metadata": {},
   "outputs": [
    {
     "name": "stdout",
     "output_type": "stream",
     "text": [
      "2024년 3월 22일\n",
      "10시 40분 59초\n"
     ]
    }
   ],
   "source": [
    "import time\n",
    "\n",
    "now = time.localtime()         # 현재 컴퓨터 위치 지역 정보의 시간\n",
    "# print(now)\n",
    "print('%d년 %d월 %d일'%(now.tm_year, now.tm_mon, now.tm_mday))\n",
    "print('%d시 %d분 %d초'%(now.tm_hour, now.tm_min, now.tm_sec))"
   ]
  },
  {
   "cell_type": "code",
   "execution_count": 9,
   "id": "d9b990dc-a998-45d0-9406-96074e81d6b6",
   "metadata": {},
   "outputs": [
    {
     "name": "stdout",
     "output_type": "stream",
     "text": [
      "이 문장은\n",
      "2초 단위로\n",
      "출력됩니다.\n"
     ]
    }
   ],
   "source": [
    "import time\n",
    "\n",
    "print('이 문장은')\n",
    "time.sleep(2)               # 매개변수 = 초 단위\n",
    "print('2초 단위로')\n",
    "time.sleep(2)\n",
    "print('출력됩니다.')"
   ]
  },
  {
   "cell_type": "code",
   "execution_count": 12,
   "id": "c7fd2cac-7720-4424-8641-db613eb4c930",
   "metadata": {},
   "outputs": [
    {
     "name": "stdout",
     "output_type": "stream",
     "text": [
      "7\n",
      "7\n",
      "1\n",
      "5\n",
      "9\n"
     ]
    }
   ],
   "source": [
    "import random\n",
    "\n",
    "random.seed(0)                             # 난수 발생 기존값 고정, 항상 같은 값 추출 \n",
    "for i in range(5):\n",
    "    print(random.randint(1,10))"
   ]
  },
  {
   "cell_type": "code",
   "execution_count": 13,
   "id": "a85b578a-b2d6-4201-a29b-0d81be64e938",
   "metadata": {},
   "outputs": [
    {
     "name": "stdout",
     "output_type": "stream",
     "text": [
      "['짜장면', '짬뽕', '탕수육', '군만두']\n",
      "['짜장면', '탕수육', '짬뽕', '군만두']\n"
     ]
    }
   ],
   "source": [
    "import random \n",
    "\n",
    "food = ['짜장면','짬뽕','탕수육','군만두']\n",
    "print(food)\n",
    "random.shuffle(food)\n",
    "print(food)"
   ]
  },
  {
   "cell_type": "code",
   "execution_count": 14,
   "id": "713983ca-bcfb-4aba-856a-af43817013b7",
   "metadata": {},
   "outputs": [
    {
     "name": "stdout",
     "output_type": "stream",
     "text": [
      "군만두\n"
     ]
    }
   ],
   "source": [
    "print(random.choice(food))"
   ]
  },
  {
   "cell_type": "code",
   "execution_count": 15,
   "id": "2c8fe375-3108-4336-9a7c-7aa814f52ed4",
   "metadata": {},
   "outputs": [
    {
     "name": "stdout",
     "output_type": "stream",
     "text": [
      "['짬뽕', '군만두']\n"
     ]
    }
   ],
   "source": [
    "print(random.sample(food, 2))"
   ]
  },
  {
   "cell_type": "markdown",
   "id": "a870372d-c051-46c1-9929-598a539c1eca",
   "metadata": {},
   "source": [
    "[문제] 숫자 맞추기 게임\n",
    "- 1-100 사이의 난수를 맞추는 게임\n",
    "- 입력 값과 난수 값을 비교하여 어떤 값이 더 큰지 힌트를 알려준다.\n",
    "- 난수를 맞추면 시도 횟수 출력과 함께 프로그램을 종료한다."
   ]
  },
  {
   "cell_type": "code",
   "execution_count": 20,
   "id": "43c46c86-5bc6-4da7-98f7-30492371ec1a",
   "metadata": {},
   "outputs": [
    {
     "name": "stdin",
     "output_type": "stream",
     "text": [
      "입력:  50\n"
     ]
    },
    {
     "name": "stdout",
     "output_type": "stream",
     "text": [
      "숫자가 더 작습니다.\n"
     ]
    },
    {
     "name": "stdin",
     "output_type": "stream",
     "text": [
      "입력:  30\n"
     ]
    },
    {
     "name": "stdout",
     "output_type": "stream",
     "text": [
      "숫자가 더 작습니다.\n"
     ]
    },
    {
     "name": "stdin",
     "output_type": "stream",
     "text": [
      "입력:  20\n"
     ]
    },
    {
     "name": "stdout",
     "output_type": "stream",
     "text": [
      "숫자가 더 작습니다.\n"
     ]
    },
    {
     "name": "stdin",
     "output_type": "stream",
     "text": [
      "입력:  10\n"
     ]
    },
    {
     "name": "stdout",
     "output_type": "stream",
     "text": [
      "숫자가 더 큽니다.\n"
     ]
    },
    {
     "name": "stdin",
     "output_type": "stream",
     "text": [
      "입력:  15\n"
     ]
    },
    {
     "name": "stdout",
     "output_type": "stream",
     "text": [
      "숫자가 더 큽니다.\n"
     ]
    },
    {
     "name": "stdin",
     "output_type": "stream",
     "text": [
      "입력:  17\n"
     ]
    },
    {
     "name": "stdout",
     "output_type": "stream",
     "text": [
      "숫자가 더 큽니다.\n"
     ]
    },
    {
     "name": "stdin",
     "output_type": "stream",
     "text": [
      "입력:  19\n"
     ]
    },
    {
     "name": "stdout",
     "output_type": "stream",
     "text": [
      "숫자가 더 작습니다.\n"
     ]
    },
    {
     "name": "stdin",
     "output_type": "stream",
     "text": [
      "입력:  18\n"
     ]
    },
    {
     "name": "stdout",
     "output_type": "stream",
     "text": [
      "정답입니다. 시도 횟수: 8\n"
     ]
    }
   ],
   "source": [
    "import random\n",
    "num = random.randint(1,100)\n",
    "time = 0\n",
    "while True:\n",
    "    guess = int(input('입력: '))\n",
    "    time = time + 1\n",
    "    if guess == num: break\n",
    "    else:\n",
    "        if guess > num:\n",
    "            print('숫자가 더 작습니다.')\n",
    "        else: print('숫자가 더 큽니다.')\n",
    "        continue\n",
    "print(f'정답입니다. 시도 횟수: {time}')"
   ]
  },
  {
   "cell_type": "markdown",
   "id": "cfcea97c-b702-43f9-b04b-12406b81b0b0",
   "metadata": {},
   "source": [
    "[문제] 로또 번호 생성기\n",
    "- 1-45 사이의 숫자 6개 뽑기\n",
    "- 단, 숫자를 뽑을 때 중복된 숫자는 사용할 수 없음\n",
    "- 결과는 오름차순으로 정렬해서 출력한다."
   ]
  },
  {
   "cell_type": "code",
   "execution_count": 23,
   "id": "e345b22a-c7b3-4529-9675-7a1ea9440d2b",
   "metadata": {},
   "outputs": [
    {
     "name": "stdout",
     "output_type": "stream",
     "text": [
      "[5, 7, 22, 31, 36, 44]\n"
     ]
    }
   ],
   "source": [
    "import random\n",
    "lotto = set()   # 원소의 중복을 허용하지 않는다.\n",
    "while True:\n",
    "    lotto.add(random.randint(1,45))\n",
    "    if len(lotto) == 6: break\n",
    "print(sorted(list(lotto)))"
   ]
  },
  {
   "cell_type": "code",
   "execution_count": 24,
   "id": "4b765246-e16e-426d-9c5f-7d191fe6364d",
   "metadata": {},
   "outputs": [
    {
     "name": "stdout",
     "output_type": "stream",
     "text": [
      "[7, 21, 23, 28, 40, 41]\n"
     ]
    }
   ],
   "source": [
    "lotto = []\n",
    "while True:\n",
    "    num = random.randint(1,45)\n",
    "    if num not in lotto:\n",
    "        lotto.append(num)\n",
    "    if len(lotto) == 6: break\n",
    "lotto.sort()\n",
    "print(lotto)"
   ]
  },
  {
   "cell_type": "code",
   "execution_count": 26,
   "id": "91043d85-ef4a-416b-9073-d73c79ff6658",
   "metadata": {},
   "outputs": [
    {
     "name": "stdout",
     "output_type": "stream",
     "text": [
      "[1, 4, 6, 26, 36, 43]\n"
     ]
    }
   ],
   "source": [
    "num_list = list(range(1,46))\n",
    "lotto = random.sample(num_list, 6)\n",
    "print(sorted(lotto))"
   ]
  },
  {
   "cell_type": "markdown",
   "id": "35010467-7aa2-4d6e-bd55-2c64d3736c14",
   "metadata": {},
   "source": [
    "# File I/O"
   ]
  },
  {
   "cell_type": "code",
   "execution_count": 27,
   "id": "ef70a69f-e3e0-4ca7-ac8c-170db4b4af08",
   "metadata": {},
   "outputs": [
    {
     "name": "stdout",
     "output_type": "stream",
     "text": [
      "End\n"
     ]
    }
   ],
   "source": [
    "# 파일 생성\n",
    "f = open('myfile.txt', 'w')\n",
    "f.close()\n",
    "print('End')"
   ]
  },
  {
   "cell_type": "code",
   "execution_count": 6,
   "id": "f1ef78d5-3cd1-4425-9272-b9d5906895f7",
   "metadata": {},
   "outputs": [
    {
     "name": "stdout",
     "output_type": "stream",
     "text": [
      "End\n"
     ]
    }
   ],
   "source": [
    "# 파일 생성 후 문자열 쓰기\n",
    "f = open('myfile.txt', 'w')\n",
    "f.write('Hello World')\n",
    "f.close()\n",
    "print('End')"
   ]
  },
  {
   "cell_type": "code",
   "execution_count": 8,
   "id": "69d812ed-d407-4dfd-b441-77069076e95f",
   "metadata": {},
   "outputs": [
    {
     "name": "stdout",
     "output_type": "stream",
     "text": [
      "End\n"
     ]
    }
   ],
   "source": [
    "# 파일 생성 후 한글이 포함된 문자열 쓰기\n",
    "f = open('myfile.txt', 'w', encoding = 'utf-8')\n",
    "f.write('안녕하세요!')\n",
    "f.close()\n",
    "print('End')"
   ]
  },
  {
   "cell_type": "code",
   "execution_count": null,
   "id": "f32c01c7-4cae-44b8-a01b-6d4a51b5214a",
   "metadata": {},
   "outputs": [],
   "source": [
    "f = open('song .txt', 'r')\n",
    "data = f.readlines()\n",
    "print(data)\n",
    "f.close()"
   ]
  },
  {
   "cell_type": "code",
   "execution_count": null,
   "id": "5850543a-052a-458f-9c4e-46ebb6c088e4",
   "metadata": {},
   "outputs": [],
   "source": [
    "f = open('song .txt', 'r')\n",
    "while True:\n",
    "    line = f.readline()\n",
    "    if not line: break\n",
    "    print(line, end='')\n",
    "f.close()"
   ]
  },
  {
   "cell_type": "code",
   "execution_count": 13,
   "id": "33892b6c-1673-4cd3-a701-37df6b183eeb",
   "metadata": {},
   "outputs": [
    {
     "name": "stdout",
     "output_type": "stream",
     "text": [
      "end\n"
     ]
    }
   ],
   "source": [
    "# 데이터 추가\n",
    "f = open('song .txt', 'a')\n",
    "f.write('======================')\n",
    "f.close()\n",
    "print('end')"
   ]
  },
  {
   "cell_type": "markdown",
   "id": "1776d515-9bda-49a2-8432-c1ccdd1f5b06",
   "metadata": {},
   "source": [
    "## with문 사용\n",
    "- with문을 사용하면 with 블럭을 벗어나는 순간 열린 파일 객체가 자동으로 닫힌다."
   ]
  },
  {
   "cell_type": "code",
   "execution_count": null,
   "id": "b78957db-ec19-43a3-8c7d-8d23d927b187",
   "metadata": {},
   "outputs": [],
   "source": [
    "with open('song .txt','r') as f:\n",
    "    print(f.read())"
   ]
  },
  {
   "cell_type": "code",
   "execution_count": 15,
   "id": "f945a068-f9f8-411f-977a-23b3610c37b1",
   "metadata": {},
   "outputs": [],
   "source": [
    "poem = \"\"\"Program is fun\n",
    "When the word is done\n",
    "If you wanna make your work also fun\n",
    "use Python!\n",
    "\"\"\"\n",
    "with open('poem.txt', 'w') as f:\n",
    "    f.write(poem)"
   ]
  },
  {
   "cell_type": "code",
   "execution_count": 16,
   "id": "b5e18aa7-6d56-4fba-8dfa-dd2823e0cbcc",
   "metadata": {},
   "outputs": [
    {
     "name": "stdout",
     "output_type": "stream",
     "text": [
      "gram is fun\n",
      "When the word is done\n",
      "If you wanna make your work also fun\n",
      "use Python!\n",
      "\n"
     ]
    }
   ],
   "source": [
    "f = open('poem.txt', 'r')\n",
    "f.seek(3,0)\n",
    "print(f.read())\n",
    "f.close()"
   ]
  },
  {
   "cell_type": "code",
   "execution_count": 18,
   "id": "1155b9e3-89fb-46f2-b46b-0ba434a70b2c",
   "metadata": {},
   "outputs": [
    {
     "name": "stdout",
     "output_type": "stream",
     "text": [
      "End\n"
     ]
    }
   ],
   "source": [
    "original = open('python.jpg','rb')\n",
    "target = open('copy_python.jpg','wb')\n",
    "data = original.read()\n",
    "target.write(data)\n",
    "original.close()\n",
    "target.close()\n",
    "print('End')"
   ]
  },
  {
   "cell_type": "markdown",
   "id": "2d49a4a0-7de9-4f11-9c10-f48d8f490b25",
   "metadata": {},
   "source": [
    "[문제] 학생들의 성적 합계 평균 구하여 저장하기\n",
    "- score.txt 파일에 저장되어 있는 학생들의 점수를 읽어서 합계와 평균을 구한 후, result.txt 파일에 결과를 저장하세요.\n",
    "- (저장 형식)\n",
    "  이름  합계  평균\n",
    "  홍길동 270 89.0\n",
    "  임꺽정 291 93.0"
   ]
  },
  {
   "cell_type": "code",
   "execution_count": 92,
   "id": "7032cce6-cb50-44f1-a91c-97475ca6580f",
   "metadata": {},
   "outputs": [
    {
     "name": "stdout",
     "output_type": "stream",
     "text": [
      "end\n"
     ]
    }
   ],
   "source": [
    "source = open('score.txt', 'r', encoding = 'utf-8')\n",
    "target = open('result.txt', 'w', encoding = 'utf-8')\n",
    "target.write('이름\\t합계\\t평균\\t\\n')\n",
    "while True:\n",
    "    score = source.readline()\n",
    "    if not score: break\n",
    "    data = score.split()\n",
    "    total = int(data[1]) + int(data[2]) + int(data[3])\n",
    "    avg = total / 3\n",
    "    target.write('%3s\\t%4d\\t%.2f\\n'%(data[0],total,avg))\n",
    "source.close()\n",
    "target.close()\n",
    "print('end')"
   ]
  },
  {
   "cell_type": "markdown",
   "id": "bdd40d48-ba7f-47fc-8671-5eede31801b9",
   "metadata": {},
   "source": [
    "# File 과 Dictionary"
   ]
  },
  {
   "cell_type": "markdown",
   "id": "6123b22c-5234-4ea3-b6bb-4e98fb8b751b",
   "metadata": {},
   "source": [
    "## os 모듈"
   ]
  },
  {
   "cell_type": "code",
   "execution_count": 107,
   "id": "08b3348b-bcd9-42a1-aa7c-d47541232906",
   "metadata": {},
   "outputs": [
    {
     "name": "stdout",
     "output_type": "stream",
     "text": [
      "G:\\내 드라이브\\DIMA4\\01.Python\n"
     ]
    }
   ],
   "source": [
    "import os\n",
    "\n",
    "path = r'G:\\내 드라이브\\DIMA4\\01.Python'\n",
    "os.chdir(path)\n",
    "print(path)"
   ]
  },
  {
   "cell_type": "code",
   "execution_count": 108,
   "id": "a8a23e21-246f-4488-8440-659a78d80754",
   "metadata": {},
   "outputs": [
    {
     "name": "stdout",
     "output_type": "stream",
     "text": [
      "현재 작업 디렉토리:  G:\\내 드라이브\\DIMA4\\01.Python\n",
      "상위 디렉토리 이동\n",
      "현재 작업 디렉토리:  G:\\내 드라이브\\DIMA4\n"
     ]
    }
   ],
   "source": [
    "# 현재 작업 디렉토리 및 경로 변경\n",
    "\n",
    "c_path = os.getcwd()\n",
    "print('현재 작업 디렉토리: ',c_path)\n",
    "os.chdir('..')\n",
    "print('상위 디렉토리 이동')\n",
    "c_path = os.getcwd()\n",
    "print('현재 작업 디렉토리: ',c_path)"
   ]
  },
  {
   "cell_type": "code",
   "execution_count": 110,
   "id": "6cd865b7-0a90-43af-83d4-2c555dba2933",
   "metadata": {},
   "outputs": [
    {
     "name": "stdout",
     "output_type": "stream",
     "text": [
      "Dir:  .ipynb_checkpoints\n",
      "File:  Python_basic.ipynb , 122304 bytes\n",
      "File:  python.jpg , 19117 bytes\n",
      "File:  Cording_test.ipynb , 32425 bytes\n",
      "File:  practice.ipynb , 17148 bytes\n",
      "File:  sysargv.py , 100 bytes\n",
      "File:  myfile.txt , 16 bytes\n",
      "File:  song .txt , 1818 bytes\n",
      "File:  poem.txt , 90 bytes\n",
      "File:  copy_python.jpg , 19117 bytes\n",
      "File:  score.txt , 96 bytes\n",
      "File:  result.txt , 133 bytes\n"
     ]
    }
   ],
   "source": [
    "# 파일 및 디렉토리 목록 확인\n",
    "path = r'g:\\내 드라이브\\DIMA4\\01.Python'\n",
    "os.chdir(path)\n",
    "\n",
    "list = os.listdir()\n",
    "for item in list:\n",
    "    if os.path.isfile(item):\n",
    "        print('File: ',item,',',os.path.getsize(item),'bytes')\n",
    "    else:\n",
    "        print('Dir: ',item)"
   ]
  },
  {
   "cell_type": "markdown",
   "id": "148b357e-3c7a-4e18-bd9c-fcccd9a819cd",
   "metadata": {},
   "source": [
    "## glob 모듈"
   ]
  },
  {
   "cell_type": "code",
   "execution_count": 113,
   "id": "0bd4a053-0a8a-4def-be2e-65cffa69f916",
   "metadata": {},
   "outputs": [
    {
     "name": "stdout",
     "output_type": "stream",
     "text": [
      "현재 작업 디렉토리: g:\\내 드라이브\\DIMA4\n",
      "01.Python\\\n"
     ]
    }
   ],
   "source": [
    "import os\n",
    "import glob\n",
    "\n",
    "os.chdir('..')\n",
    "print('현재 작업 디렉토리:',os.getcwd())\n",
    "# 현재 디렉토리 내 모든 디렉토리 출력: **/, */\n",
    "for f in glob.glob('**/'):\n",
    "    print(f)"
   ]
  },
  {
   "cell_type": "code",
   "execution_count": 115,
   "id": "dcd543d7-2975-4f00-ab00-5bf8c0a2c67f",
   "metadata": {},
   "outputs": [
    {
     "name": "stdout",
     "output_type": "stream",
     "text": [
      "Python_basic.ipynb\n",
      "python.jpg\n",
      "Cording_test.ipynb\n",
      "practice.ipynb\n",
      "sysargv.py\n",
      "myfile.txt\n",
      "song .txt\n",
      "poem.txt\n",
      "copy_python.jpg\n",
      "score.txt\n",
      "result.txt\n"
     ]
    }
   ],
   "source": [
    "# 현재 디렉티로 내 디렉토리와 파일 출력: **, *\n",
    "os.chdir('./01.Python/')\n",
    "for f in glob.glob('**'):\n",
    "    print(f)"
   ]
  },
  {
   "cell_type": "code",
   "execution_count": 116,
   "id": "aaa0ae5d-dc64-4fd4-a96c-166f185dd2e9",
   "metadata": {},
   "outputs": [
    {
     "name": "stdout",
     "output_type": "stream",
     "text": [
      "Python_basic.ipynb\n",
      "Cording_test.ipynb\n",
      "practice.ipynb\n"
     ]
    }
   ],
   "source": [
    "os.chdir(r'G:\\내 드라이브\\DIMA4\\01.Python')\n",
    "for f in glob.glob('*.ipynb'):\n",
    "    print(f)"
   ]
  },
  {
   "cell_type": "markdown",
   "id": "c52c2d9f-a6dd-40a5-8f57-9430858659dd",
   "metadata": {},
   "source": [
    "# 예외"
   ]
  },
  {
   "cell_type": "markdown",
   "id": "85edf40a-f822-4d9b-a3a2-4a2d6f4715b2",
   "metadata": {},
   "source": [
    "## 예외 발생 상황"
   ]
  },
  {
   "cell_type": "code",
   "execution_count": 120,
   "id": "e5f22c43-fc9e-4d98-9580-f5745c514d2d",
   "metadata": {},
   "outputs": [],
   "source": [
    "# indexError\n",
    "a = [1, 2, 3, 4, 5]\n",
    "# print(a[5])\n",
    "\n",
    "# ValueError\n",
    "b = '1234b'\n",
    "# c = int(b)\n",
    "\n",
    "# ZeroDivisionError\n",
    "# print(10/0)\n",
    "\n",
    "# FileNotFoundError\n",
    "# f = open('not_exists.txt', 'r')"
   ]
  },
  {
   "cell_type": "markdown",
   "id": "b7882adc-c436-4e13-b709-2193d23e9216",
   "metadata": {},
   "source": [
    "## 예외 처리 (try ~ except)"
   ]
  },
  {
   "cell_type": "code",
   "execution_count": 122,
   "id": "50dae931-9f27-441c-832b-0b353759473d",
   "metadata": {},
   "outputs": [
    {
     "name": "stdout",
     "output_type": "stream",
     "text": [
      "0으로 나눌 수 없습니다.\n",
      "end\n"
     ]
    }
   ],
   "source": [
    "try:\n",
    "    data = 10 / 0\n",
    "except:\n",
    "    print('0으로 나눌 수 없습니다.')\n",
    "\n",
    "print('end')"
   ]
  },
  {
   "cell_type": "markdown",
   "id": "58c4cc61-aca5-4f48-bc19-ed76d882c72c",
   "metadata": {},
   "source": [
    "## 예외 처리 (try ~ except ~ except)"
   ]
  },
  {
   "cell_type": "code",
   "execution_count": 125,
   "id": "09b68d48-cd9c-4cbf-b945-0e135ba2f9dc",
   "metadata": {},
   "outputs": [
    {
     "name": "stdout",
     "output_type": "stream",
     "text": [
      "리스트의 범위를 벗어났습니다.\n",
      "list index out of range\n",
      "End\n"
     ]
    }
   ],
   "source": [
    "try:\n",
    "    a = [1, 2, 3]\n",
    "   # print(10/0)\n",
    "    print(a[3])\n",
    "except ZeroDivisionError as ze:\n",
    "    print('0으로 나눌 수 없습니다.')\n",
    "    print(ze)\n",
    "except IndexError as ie:\n",
    "    print('리스트의 범위를 벗어났습니다.')\n",
    "    print(ie)\n",
    "print('End')"
   ]
  },
  {
   "cell_type": "code",
   "execution_count": 126,
   "id": "8eafe629-d803-4679-ada8-603df8ba7118",
   "metadata": {},
   "outputs": [
    {
     "name": "stdout",
     "output_type": "stream",
     "text": [
      "division by zero\n"
     ]
    }
   ],
   "source": [
    "try:\n",
    "    a = [1, 2, 3]\n",
    "    print(10/0)\n",
    "    print(a[3])\n",
    "except (ZeroDivisionError, IndentationError) as e:\n",
    "    print(e)"
   ]
  },
  {
   "cell_type": "markdown",
   "id": "6f65bec9-45a1-4c1e-8018-c816befe3793",
   "metadata": {},
   "source": [
    "## 예외 처리 (try ~ except ~ finally)"
   ]
  },
  {
   "cell_type": "code",
   "execution_count": 128,
   "id": "ee1de341-e813-40fc-a436-962bdb5a263c",
   "metadata": {},
   "outputs": [
    {
     "name": "stdout",
     "output_type": "stream",
     "text": [
      "리스트의 범위를 벗어났습니다.\n",
      "항상 실행되는 코드\n",
      "End\n"
     ]
    }
   ],
   "source": [
    "try:\n",
    "    a = [1, 2, 3]\n",
    "    print(a[3])\n",
    "except IndexError:\n",
    "    print('리스트의 범위를 벗어났습니다.')\n",
    "finally:\n",
    "    print('항상 실행되는 코드')\n",
    "print('End')"
   ]
  },
  {
   "cell_type": "code",
   "execution_count": 129,
   "id": "42c187fa-123e-4074-8480-ea30e5b3a6f9",
   "metadata": {},
   "outputs": [
    {
     "name": "stdin",
     "output_type": "stream",
     "text": [
      "양수 입력: -3\n"
     ]
    },
    {
     "name": "stdout",
     "output_type": "stream",
     "text": [
      "양의 정수만 입력\n"
     ]
    }
   ],
   "source": [
    "def inputNum():\n",
    "    num = int(input('양수 입력:'))\n",
    "    if num < 0:\n",
    "        raise ValueError('양의 정수만 입력')\n",
    "    return num\n",
    "\n",
    "try:\n",
    "    num = inputNum()\n",
    "    print(num)\n",
    "except ValueError as e:\n",
    "    print(e)"
   ]
  },
  {
   "cell_type": "code",
   "execution_count": 130,
   "id": "08714c25-1b48-4862-be8f-d0bada7afcb9",
   "metadata": {},
   "outputs": [
    {
     "name": "stdout",
     "output_type": "stream",
     "text": [
      "<class 'int'>\n",
      "<class 'str'>\n"
     ]
    }
   ],
   "source": [
    "a = 10\n",
    "print(type(a))\n",
    "\n",
    "b = 'abc'\n",
    "print(type(b))"
   ]
  },
  {
   "cell_type": "markdown",
   "id": "9f090863-b700-4366-9585-d7f5308c2a54",
   "metadata": {},
   "source": [
    "# Class"
   ]
  },
  {
   "cell_type": "code",
   "execution_count": null,
   "id": "d2d19465-5de9-4864-8c30-3c56d83eaf51",
   "metadata": {},
   "outputs": [],
   "source": [
    " class FourCal:          # 클래스 이름 선언 시 일반적으로 대문자 (묵시적)\n",
    "     pass \n",
    "    # 생성자: 클래스의 객체를 생성할 때 멤버변수를 초기화하기 위한 함수 (속성 = 멤버변수)\n",
    "    # def __init__(self, first, second):\n",
    "    #   self.first = first     # FourCal 클래스의 멤버 변수\n",
    "    #    self.second = second   # FourCal 클래스의 멤버 변수\n",
    "\n",
    "a = FourCal()\n",
    "# a = FourCal(3, 4)\n",
    "# print(a.first)\n",
    "# print(a.second)"
   ]
  },
  {
   "cell_type": "code",
   "execution_count": 11,
   "id": "24bf6067-0b51-4b71-b2ba-ea68107a844f",
   "metadata": {},
   "outputs": [
    {
     "name": "stdout",
     "output_type": "stream",
     "text": [
      "계좌번호:11-11, 소유주:홍길동\n",
      "잔고:  500\n",
      "계좌번호:11-12, 소유주:손오공\n",
      "잔고:  600\n"
     ]
    }
   ],
   "source": [
    "class Account:\n",
    "    # Account 클래스의 속성(멤버변수)을 특정 값으로 초기화 하기 위한 생성자\n",
    "    def __init__(self, accNo, balance, owner):\n",
    "        self.accNo = accNo\n",
    "        self.balance = balance\n",
    "        self.owner = owner\n",
    "\n",
    "    # Account 객체가 가지고 있는 잔고 값을 조회하는 함수\n",
    "    def getBalance(self):               # 매개변수 갖지 않더라도 자기 자신을 갖는 참조변수는 선언 필수\n",
    "        return self.balance\n",
    "\n",
    "    def accountinfo(self):\n",
    "        print(f'계좌번호:{self.accNo}, 소유주:{self.owner}')\n",
    "\n",
    "# => 세 가지의 속성과 두 가지의 행동방식을 갖는 Account 생성   [붕어빵 틀]\n",
    "# => 사용 위해 객체 생성 필요  (= a1, a2)\n",
    "\n",
    "a1 = Account('11-11', 500, '홍길동')\n",
    "a2 = Account('11-12', 600, '손오공')\n",
    "\n",
    "a1.accountinfo()\n",
    "print('잔고: ', a1.getBalance())\n",
    "a2.accountinfo()\n",
    "print('잔고: ', a2.getBalance())"
   ]
  },
  {
   "cell_type": "markdown",
   "id": "a09bd5ca-6c41-4135-af56-5924a159c683",
   "metadata": {},
   "source": [
    "# 상속(Inheritance)"
   ]
  },
  {
   "cell_type": "code",
   "execution_count": 14,
   "id": "25856e5b-d4e4-41c4-b92f-dbe551244244",
   "metadata": {},
   "outputs": [
    {
     "name": "stdout",
     "output_type": "stream",
     "text": [
      "저는 29살 김철수입니다.\n",
      "저는 19살 이길동입니다.\n"
     ]
    }
   ],
   "source": [
    "class Human:\n",
    "    def __init__(self, name, age):\n",
    "        self.name = name\n",
    "        self.age = age\n",
    "        \n",
    "    def intro(self):\n",
    "        print(f'저는 {self.age}살 {self.name}입니다.')\n",
    "\n",
    "kim = Human('김철수', 29)\n",
    "kim.intro()\n",
    "\n",
    "lee = Human('이길동', 19)\n",
    "lee.intro()"
   ]
  },
  {
   "cell_type": "code",
   "execution_count": 17,
   "id": "738ae4cd-aab9-4ac8-932d-4fc4ac09b2fd",
   "metadata": {},
   "outputs": [
    {
     "name": "stdout",
     "output_type": "stream",
     "text": [
      "Study Hard-!!\n",
      "저는 21살 김한별입니다.\n",
      "학번은 2024입니다.\n"
     ]
    }
   ],
   "source": [
    "class Student(Human):\n",
    "    def __init__(self, name, age, stdNo):\n",
    "        super().__init__(name, age)        # 부모 클래스(Human)의 생성자 호출\n",
    "        self.stdNo = stdNo\n",
    "\n",
    "    def study(self):\n",
    "        print('Study Hard-!!')\n",
    "\n",
    "    # method overriding(매서드 재정의)\n",
    "    # 상속 관계에서 부모 클래스에 정의된 매서드[함수]를 자식 클래스의 상황에 맞게 재정의 하는 것\n",
    "    # => 부모에 정의된 것과 똑같이 정의해야 함, 다만 선언되어지는 실행 내용만 달라짐a\n",
    "    \n",
    "    def intro(self):\n",
    "        super().intro()    # 부모 클래스(Human)의 intro() 매서드 호출\n",
    "        print(f'학번은 {self.stdNo}입니다.')\n",
    "        \n",
    "\n",
    "kim = Student('김한별', 21, '2024')\n",
    "kim.study()\n",
    "kim.intro()"
   ]
  },
  {
   "cell_type": "markdown",
   "id": "af04c1e7-7876-46e4-ba1a-3e8b6794efc5",
   "metadata": {},
   "source": [
    "# 은닉 (Encapsulation)"
   ]
  },
  {
   "cell_type": "markdown",
   "id": "74ce1ddd-ce50-4560-92b0-741b90c84324",
   "metadata": {},
   "source": [
    "- property를 이용한 setter / getter\n",
    "    - 멤버 변수에 접근할 때 getter / setter 메서드를 이용하지 않고 직접 멤버 변수를 호출하여 사용 가능\n",
    "    - 하지만 내부적으로는 getter / setter 메서드를 통해 값을 읽고 쓰게 된다."
   ]
  },
  {
   "cell_type": "code",
   "execution_count": 24,
   "id": "c00f210c-74d8-4be7-bf5e-1adc532b47b7",
   "metadata": {},
   "outputs": [
    {
     "name": "stdout",
     "output_type": "stream",
     "text": [
      "{'_Date__inner_month': 3, '__inner_month': 10}\n"
     ]
    }
   ],
   "source": [
    "class Date:\n",
    "    def __init__(self, month):\n",
    "        # 가급적 멤버 변수의 이름을 어렵게 설정 \n",
    "        self.__inner_month = month\n",
    "\n",
    "    def getMonth(self):                             # 읽기\n",
    "        print('getMonth() call')\n",
    "        return self.__inner_month\n",
    "\n",
    "    def setMonth(self, month):                      # 값 변경, 쓰기\n",
    "        if 1 <= month <= 12:\n",
    "            self.__inner_month = month\n",
    "        print('setMonth() call')\n",
    "\n",
    "    month = property(getMonth, setMonth)            # 외부에 노출되는 것 = month \n",
    "\n",
    "today = Date(3)\n",
    "# print(today.month)        # 값을 읽는 행위\n",
    "# today.month = 12            # 값을 쓰는 행위\n",
    "# print(today.month)\n",
    "today.__inner_month = 10  # 은닉된 멤버 변수에 새로운 값을 쓴 것이 아니라 새로운 멤버 변수를 추가한 행위\n",
    "# print(today.month)\n",
    "print(today.__dict__)"
   ]
  },
  {
   "cell_type": "markdown",
   "id": "edfcf663-da73-46f3-88e0-1bfca037baca",
   "metadata": {},
   "source": [
    "- @property 데코레이터를 이용한 setter / getter\n",
    "    - getter 메서드 앞: @property\n",
    "    - setter 메서드 앞: @<프로퍼티 이름>.setter"
   ]
  },
  {
   "cell_type": "code",
   "execution_count": 27,
   "id": "820a3d3b-6793-4d71-bfe7-f1607f1dff40",
   "metadata": {},
   "outputs": [
    {
     "name": "stdout",
     "output_type": "stream",
     "text": [
      "getMonth() call\n",
      "3\n",
      "setMonth() call\n"
     ]
    }
   ],
   "source": [
    "class Date:\n",
    "    def __init__(self, month):\n",
    "        self.__inner_month = month\n",
    "\n",
    "    @property\n",
    "    def month(self):\n",
    "        print('getMonth() call')\n",
    "        return self.__inner_month\n",
    "\n",
    "    @month.setter\n",
    "    def month(self, month):\n",
    "        if 1 <= month <= 12:\n",
    "            self.__inner_month = month\n",
    "        print('setMonth() call')\n",
    "\n",
    "today = Date(3)\n",
    "print(today.month)\n",
    "today.month = 4"
   ]
  },
  {
   "cell_type": "markdown",
   "id": "7bc02818-34f5-4e4b-a5e0-b7ab4a8a33fc",
   "metadata": {},
   "source": [
    "# 사용자 정의 예외 클래스"
   ]
  },
  {
   "cell_type": "code",
   "execution_count": 28,
   "id": "9d1ef8e2-e9cb-4af8-8943-939915c69947",
   "metadata": {},
   "outputs": [
    {
     "ename": "MyException",
     "evalue": "test",
     "output_type": "error",
     "traceback": [
      "\u001b[1;31m---------------------------------------------------------------------------\u001b[0m",
      "\u001b[1;31mMyException\u001b[0m                               Traceback (most recent call last)",
      "Cell \u001b[1;32mIn[28], line 5\u001b[0m\n\u001b[0;32m      2\u001b[0m     \u001b[38;5;28;01mdef\u001b[39;00m \u001b[38;5;21m__init__\u001b[39m(\u001b[38;5;28mself\u001b[39m, message):\n\u001b[0;32m      3\u001b[0m         \u001b[38;5;28msuper\u001b[39m()\u001b[38;5;241m.\u001b[39m\u001b[38;5;21m__init__\u001b[39m(message)\n\u001b[1;32m----> 5\u001b[0m \u001b[38;5;28;01mraise\u001b[39;00m MyException(\u001b[38;5;124m\"\u001b[39m\u001b[38;5;124mtest\u001b[39m\u001b[38;5;124m\"\u001b[39m)\n",
      "\u001b[1;31mMyException\u001b[0m: test"
     ]
    }
   ],
   "source": [
    "class MyException(Exception):\n",
    "    def __init__(self, message):\n",
    "        super().__init__(message)\n",
    "\n",
    "raise MyException(\"test\")"
   ]
  },
  {
   "cell_type": "markdown",
   "id": "cd7798aa-00d7-43e7-a97a-7c06bf758cf9",
   "metadata": {},
   "source": [
    "# 다형성 (Polymorphism) - 오버라이딩"
   ]
  },
  {
   "cell_type": "code",
   "execution_count": 41,
   "id": "b29ced36-5021-4cbe-b5c9-0895ec4f784f",
   "metadata": {},
   "outputs": [
    {
     "name": "stdout",
     "output_type": "stream",
     "text": [
      "True\n"
     ]
    }
   ],
   "source": [
    "class MyDate:\n",
    "    def __init__(self, year, month, day):\n",
    "        self.year = year\n",
    "        self.month = month\n",
    "        self.day = day\n",
    "\n",
    "    # object 클래스에 있는 __str__ 메서드 재정의\n",
    "    def __str__(self):\n",
    "        return f'{self.year}-{self.month}-{self.day}'\n",
    "\n",
    "    def __eq__(self, other):\n",
    "        return self.year == other.year and self.month == other.month and self.day == other.day\n",
    "\n",
    "    def __gt__(self, other):\n",
    "        if self.year > other.year:\n",
    "            return True\n",
    "        elif self.year == other.year and self.month > other.month:\n",
    "            return True\n",
    "        elif self.year == other.year and self.month == other.month and self.day > other.day:\n",
    "            return True\n",
    "        else: return False\n",
    "\n",
    "d1 = MyDate(2024, 3, 26)\n",
    "d2 = MyDate(2024, 3, 25)\n",
    "# d2 = d1\n",
    "# print(d)\n",
    "# print(d1 == d2)\n",
    "print(d1 > d2)"
   ]
  },
  {
   "cell_type": "markdown",
   "id": "731867ab-bd6f-4b46-88de-2c749d8f1cde",
   "metadata": {},
   "source": [
    "# Banking System"
   ]
  },
  {
   "cell_type": "code",
   "execution_count": 12,
   "id": "76ae5d4e-f76f-4446-a1aa-ded7804f9a3d",
   "metadata": {},
   "outputs": [
    {
     "name": "stdout",
     "output_type": "stream",
     "text": [
      "소유주: 홍길동, 계좌번호: 11-11, 잔고: 500\n",
      "소유주: 김철수, 계좌번호: 11-12, 잔고: 1000\n",
      "홍길동->김철수 계좌이체\n",
      "이체 잔고가 부족합니다.\n",
      "소유주: 홍길동, 계좌번호: 11-11, 잔고: 500\n",
      "소유주: 김철수, 계좌번호: 11-12, 잔고: 1000\n",
      "11-11 계좌 검색\n",
      "소유주: 홍길동, 계좌번호: 11-11, 잔고: 500\n"
     ]
    }
   ],
   "source": [
    "from bank import Account, BankManager, InvalidTransactionException\n",
    "\n",
    "a1 = Account('홍길동', '11-11', 500)\n",
    "print(a1.showAccountInfo())\n",
    "\n",
    "a2 = Account('김철수', '11-12', 1000)\n",
    "print(a2.showAccountInfo())\n",
    "\n",
    "print('홍길동->김철수 계좌이체')\n",
    "try:\n",
    "    a1.transfer(600,a2)\n",
    "except InvalidTransactionException as e:\n",
    "    print(e)\n",
    "print(a1.showAccountInfo())\n",
    "print(a2.showAccountInfo())\n",
    "\n",
    "bm = BankManager()\n",
    "bm.addAccount(a1)\n",
    "bm.addAccount(a2)\n",
    "print('11-11 계좌 검색')\n",
    "for i in range(len(bm.getAllAccountList())):\n",
    "    print\n",
    "r = bm.searchAccount('11-11')\n",
    "if r == None:\n",
    "    print('검색 결과가 없습니다.')\n",
    "else:\n",
    "    print(r.showAccountInfo())"
   ]
  },
  {
   "cell_type": "code",
   "execution_count": null,
   "id": "436b0651-2f85-4784-bda3-01595540fb95",
   "metadata": {},
   "outputs": [],
   "source": [
    "from bank import Account, BankManager, InvalidTransactionException\n",
    "\n",
    "def print_main_menu():\n",
    "    print('---------------------')\n",
    "    print('Welcome to DIMA Bank')\n",
    "    print('---------------------')\n",
    "    print('1. 계좌 생성')\n",
    "    print('2. 입금')\n",
    "    print('3. 출금')\n",
    "    print('4. 이체')\n",
    "    print('5. 전체 계좌 정보 출력')\n",
    "    print('6. 종료')\n",
    "\n",
    "\n",
    "manager = BankManager()\n",
    "manager.loadData()\n",
    "while True:\n",
    "    print_main_menu()\n",
    "    num = input('메뉴 선택:')\n",
    "    if num == '1':\n",
    "        name = input('이름: ')\n",
    "        accNo = input('계좌 번호: ')\n",
    "        balance = int(input('잔고: '))\n",
    "        a = Account(name, accNo, balance)\n",
    "        manager.addAccount(a)\n",
    "        print('생성 완료되었습니다.')\n",
    "    elif num == '2':\n",
    "        accNo = input('입금할 계좌 번호: ')\n",
    "        amount = int(input('입금 금액: '))\n",
    "        a = manager.searchAccount(accNo)\n",
    "        if a == None:\n",
    "            print(f'{accNo} 계좌가 존재하지 않습니다.')\n",
    "        else:\n",
    "            a.deposit(amount)\n",
    "            print('입금 완료되었습니다. ', a.showAccountInfo())\n",
    "    elif num == '3':\n",
    "        accNo = input('계좌 번호를 입력하세요: ')\n",
    "        amount = int(input('출금 금액: '))\n",
    "        a = manager.searchAccount(accNo)\n",
    "        if a == None:\n",
    "            print(f'{accNo} 계좌가 존재하지 않습니다.')\n",
    "        else:\n",
    "            try:\n",
    "            a.withdraw(amount)\n",
    "            print('출금 완료되었습니다. ', a.showAccountInfo())\n",
    "            except InvalidTransactionException as e:\n",
    "                print(e)\n",
    "    elif num == '4':\n",
    "        from_accNo = input('출금 계좌 입력: ')\n",
    "        to_accNo = input('이체 계좌 입력: ')\n",
    "        amount = int(input('이체 금액: '))\n",
    "        from_a = manager.searchAccount(from_accNo)\n",
    "        to_a = manager.searchAccount(to_accNo)\n",
    "        if from_a != None and to_a != None:\n",
    "            try:\n",
    "                from_a.transfer(amount, to_a)\n",
    "                print('이체 완료', from_a.showAccountInfo())\n",
    "            except InvalidTransactionException as e:\n",
    "                print(e)\n",
    "        else:\n",
    "            print('출금 또는 입금 계좌가 존재하지 않습니다.')\n",
    "    elif num == '5':\n",
    "        all_account = manager.getAllAccountList()\n",
    "        for a in all_account:\n",
    "            print(a.showAccountInfo())\n",
    "    elif num == '6':\n",
    "        manager.saveData()\n",
    "        print('뱅킹 시스템 종료')\n",
    "        break\n",
    "    else: \n",
    "        print('메뉴 선택 오류')\n",
    "\n",
    "\n",
    "\n",
    "\n",
    "# 자동 계좌 번호 생성 , 잔고 입력 예외 처리"
   ]
  }
 ],
 "metadata": {
  "kernelspec": {
   "display_name": "Python 3 (ipykernel)",
   "language": "python",
   "name": "python3"
  },
  "language_info": {
   "codemirror_mode": {
    "name": "ipython",
    "version": 3
   },
   "file_extension": ".py",
   "mimetype": "text/x-python",
   "name": "python",
   "nbconvert_exporter": "python",
   "pygments_lexer": "ipython3",
   "version": "3.11.7"
  }
 },
 "nbformat": 4,
 "nbformat_minor": 5
}
