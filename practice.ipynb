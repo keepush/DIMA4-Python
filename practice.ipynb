{
 "cells": [
  {
   "cell_type": "markdown",
   "id": "e7372d69-9338-4849-a230-60777d7e44cd",
   "metadata": {},
   "source": [
    "# [문제] 1-100 사이의 값 중 짝수에 해당하는 값의 총 합을 구하는 프로그램을 작성하시오"
   ]
  },
  {
   "cell_type": "code",
   "execution_count": 3,
   "id": "29f5c5ab-6134-4d6b-b3e5-56983b6e69c7",
   "metadata": {},
   "outputs": [
    {
     "name": "stdout",
     "output_type": "stream",
     "text": [
      "2550\n"
     ]
    }
   ],
   "source": [
    "# 1-100 사이의 값 중 짝수 값 찾기 -> for에 if문 사용\n",
    "# 해당 값 꺼내서 계속 합치기  -> 반복 = for 문\n",
    "\n",
    "sum = 0\n",
    "for i in range(1,101):\n",
    "    if not i%2:\n",
    "        sum += i      # 값을 저장해야 하니까 위에 변수 선언\n",
    "print(sum)"
   ]
  },
  {
   "cell_type": "markdown",
   "id": "7e3d8fc0-ce0b-4170-9e8f-375daac203dd",
   "metadata": {},
   "source": [
    "# [문제] for문과 문자열 반복을 이용하여 다음 문자열을 출력하세요.\n",
    "---------+---------+---------+---------+---------+"
   ]
  },
  {
   "cell_type": "code",
   "execution_count": 8,
   "id": "cf1ee2bf-1210-417d-9bcc-cdb59064e94d",
   "metadata": {},
   "outputs": [
    {
     "name": "stdout",
     "output_type": "stream",
     "text": [
      "---------+---------+---------+---------+---------+---------+---------+---------+---------+---------+---------+---------+---------+---------+---------+"
     ]
    }
   ],
   "source": [
    "# 같은 문자의 5번 반복  => for i in range(5) \n",
    "for i in range(5):\n",
    "    print('---------+', end='')   # 옆으로 써야 되니까 end =''\n",
    "for i in range(5):\n",
    "    print('-'*9, end='+')\n",
    "for i in range(5):\n",
    "    for j in range(9):\n",
    "        print('-', end='')\n",
    "    print('+', end='')"
   ]
  },
  {
   "cell_type": "markdown",
   "id": "f6c2a21a-6e1e-4565-a609-2e352d6253f0",
   "metadata": {},
   "source": [
    "# [문제] 사용자로부터 입력받은 단의 구구단을 출력하는 프로그램을 작성하세요.\n",
    "[실행예시]\n",
    "단을 입력하세요: 3\n",
    "3 x 1 = 3\n",
    "3 x 2 = 6\n",
    "...\n",
    "3 x 9 = 27"
   ]
  },
  {
   "cell_type": "code",
   "execution_count": 10,
   "id": "e73bd7ae-6bd9-4139-906f-d17e5bce73fe",
   "metadata": {},
   "outputs": [
    {
     "name": "stdin",
     "output_type": "stream",
     "text": [
      "단을 입력하세요:  3\n"
     ]
    },
    {
     "name": "stdout",
     "output_type": "stream",
     "text": [
      "3 X 1 = 3\n",
      "3 X 2 = 6\n",
      "3 X 3 = 9\n",
      "3 X 4 = 12\n",
      "3 X 5 = 15\n",
      "3 X 6 = 18\n",
      "3 X 7 = 21\n",
      "3 X 8 = 24\n",
      "3 X 9 = 27\n"
     ]
    }
   ],
   "source": [
    "# 단 입력 input\n",
    "# 입력 받은 단 x i 숫자의 반복 = for문 사용\n",
    "# 총합 값까지 f' 출력\n",
    "\n",
    "dan = int(input('단을 입력하세요: '))\n",
    "for i in range(1,10):\n",
    "    sum = dan * i\n",
    "    print(f'{dan} X {i} = {sum}')"
   ]
  },
  {
   "cell_type": "markdown",
   "id": "79336885-c3e8-4a1d-9f4a-ca5a14e22a6d",
   "metadata": {},
   "source": [
    "# [문제] 합계 구하기\n",
    "정수를 입력받아 1부터 입력받은 정수까지의 합을 구하여 출력하는 프로그램을 작성하세요.\n",
    "단, 반복문은 while을 이용할 것"
   ]
  },
  {
   "cell_type": "code",
   "execution_count": 13,
   "id": "5289e07f-0131-46f2-b77a-7a491235c2c9",
   "metadata": {},
   "outputs": [
    {
     "name": "stdin",
     "output_type": "stream",
     "text": [
      "정수 입력:  3\n"
     ]
    },
    {
     "name": "stdout",
     "output_type": "stream",
     "text": [
      "6\n"
     ]
    }
   ],
   "source": [
    "# 정수 입력\n",
    "# 1부터 입력받은 정수값의 합 => 반복 = while  -> while 종료는 어떤 숫자 <= 입력정수까지abs\n",
    "# 총합 출력 위한 총합 변수 선언 필요\n",
    "\n",
    "num = int(input('정수 입력: '))\n",
    "sum = 0\n",
    "cnt = 0   # 반복 횟수 저장\n",
    "while cnt < num:\n",
    "    cnt += 1\n",
    "    sum += cnt\n",
    "print(sum)"
   ]
  },
  {
   "cell_type": "markdown",
   "id": "f4bbec7b-a644-42fe-94f6-dac9cffe364c",
   "metadata": {},
   "source": [
    "# [문제] 년도를 입력받아 윤년인지 평년인지를 판단하는 프로그램을 작성하세요.\n",
    "프로그램은 반복적으로 수행되며 0을 입력 받으면 프로그램을 종료한다.\n",
    "윤년 조건: 4로 나누어 떨어지고 100으로 나누어 떨어지지 않는 해, 또는 400으로 나누어 떨어지는 해\n",
    "[실행 예시]\n",
    "연도를 입력하세요(종료: 0)  2023\n",
    "2023년은 평년입니다.\n",
    "\n",
    "연도를 입력하세요(종료: 0) 2024\n",
    "2024년은 윤년입니다."
   ]
  },
  {
   "cell_type": "code",
   "execution_count": 17,
   "id": "db18b9ff-14dd-4bcd-b790-4bedfc2bd152",
   "metadata": {},
   "outputs": [
    {
     "name": "stdin",
     "output_type": "stream",
     "text": [
      "연도를 입력하세요: (종료:0) 2024\n"
     ]
    },
    {
     "name": "stdout",
     "output_type": "stream",
     "text": [
      "2024년은 윤년입니다.\n"
     ]
    },
    {
     "name": "stdin",
     "output_type": "stream",
     "text": [
      "연도를 입력하세요: (종료:0) 0\n"
     ]
    },
    {
     "name": "stdout",
     "output_type": "stream",
     "text": [
      "end\n"
     ]
    }
   ],
   "source": [
    "# 연도 입력 int(input)\n",
    "# 반복  = while True  -> 종료 = input = 0 : break\n",
    "# 윤년 조건 결과 = 삼항abs\n",
    "# 출력 f' 연도 년은 결과값 입니다'\n",
    "\n",
    "\n",
    "while True:\n",
    "    year = int(input('연도를 입력하세요: (종료:0)'))\n",
    "    if year == 0: break\n",
    "    else:\n",
    "        result = '윤년' if (year%4 == 0 and year%100 !=0) or (year%400) else '평년'\n",
    "    print(f'{year}년은 {result}입니다.')\n",
    "print('end')"
   ]
  },
  {
   "cell_type": "markdown",
   "id": "eea1d966-c950-4603-82ba-0a64989c0379",
   "metadata": {},
   "source": [
    "# [문제]  BMI 측정 프로그램\n",
    "키와 몸무게를 입력받아 BMI 측정 결과를 출력하는 프로그램을 작성하세요.\n",
    "\n",
    "[BMI 계산식]\n",
    "BMI = 몸무게(kg) / 키(m)의 제곱\n",
    "** BMI 비만도 판단 결과 지표\n",
    "18.5 미만: 저체중\n",
    "18.5 ~ 22.9: 정상\n",
    "23 ~ 29.9: 비만 1단계\n",
    "29.9 초과: 비만 2단계\n",
    "\n",
    "[실행 예시]\n",
    "키를 입력하세요(cm): 170\n",
    "몸무게를 입력하세요(kg): 85\n",
    "당신의 BMI는 비만 1단계 입니다."
   ]
  },
  {
   "cell_type": "code",
   "execution_count": 19,
   "id": "3bfd80d3-9ad9-443a-a9bd-623cf3b51d85",
   "metadata": {},
   "outputs": [
    {
     "name": "stdin",
     "output_type": "stream",
     "text": [
      "키를 입력하세요:  170\n",
      "몸무게를 입력하세요:  85\n"
     ]
    },
    {
     "name": "stdout",
     "output_type": "stream",
     "text": [
      "당신의 BMI는 비만 1단계입니다.\n"
     ]
    }
   ],
   "source": [
    "# 키 , 몸무게 입력   = 변수에 저장\n",
    "# 계산 값 저장 변수 선언 \n",
    "\n",
    "height = int(input('키를 입력하세요: '))\n",
    "weight = int(input('몸무게를 입력하세요: '))\n",
    "BMI = weight / (height/100)**2\n",
    "result = ''\n",
    "if BMI < 18.5:\n",
    "    result = '저체중'\n",
    "elif 18.5 <= BMI < 22.9:\n",
    "    result = '정상'\n",
    "elif 23 < BMI < 29.9:\n",
    "    result = '비만 1단계'\n",
    "else:\n",
    "    result = '비만 2단계'\n",
    "print(f'당신의 BMI는 {result}입니다.')"
   ]
  },
  {
   "cell_type": "markdown",
   "id": "333d7d33-96de-4971-bd1e-ce7a956cb90a",
   "metadata": {},
   "source": [
    "# [문제] 주민등록번호 분석하기\n",
    "- 임의의 주민등록번호를 입력받아 다음과 같이 생년과 성별을 추출하는 프로그램을 작성하세요.\n",
    "- 성별 값은 1~4 사이의 값만 유효   성별오류\n",
    "[실행 예시]\n",
    "주민등록번호: 881231-1234567\n",
    "88년생 남자"
   ]
  },
  {
   "cell_type": "code",
   "execution_count": 23,
   "id": "dab86d8e-04f1-42bf-94d8-c2b1fec6ec8f",
   "metadata": {},
   "outputs": [
    {
     "name": "stdin",
     "output_type": "stream",
     "text": [
      "주민등록번호:  881234-1234567\n"
     ]
    },
    {
     "name": "stdout",
     "output_type": "stream",
     "text": [
      "88년생 남자\n"
     ]
    }
   ],
   "source": [
    "# 주민번호 입력 \n",
    "# if 사용해서 [7] in [1,3] = 남자   , [2,4] = 여자   /   결과 값 저장 . 변수 필요\n",
    "num = input('주민등록번호: ')\n",
    "year = num[:2]\n",
    "result = ''\n",
    "if num[7] in ['1','3']:\n",
    "    result = '남자'\n",
    "elif num[7] in ['2','4']:\n",
    "    result = '여자'\n",
    "else:\n",
    "    result = '성별 오류'\n",
    "print(f'{year}년생 {result}')"
   ]
  },
  {
   "cell_type": "markdown",
   "id": "ea478e68-583b-46a4-bbfb-cee6a35a5ab5",
   "metadata": {},
   "source": [
    "# [문제] 성적 총점과 평균 구하기\n",
    "학생 3명의 성적에 대해 각각 총점과 평균을 구하고, 전체 평균을 구하세요.\n",
    "[실행 결과]\n",
    "1번 학생: 총점: , 평균:\n",
    "2번 학생: 총점: , 평균:\n",
    "3번 학생: 총점: , 평균:\n",
    "전체 평균:\n",
    "\n",
    "score = [[88, 76, 92, 98],\n",
    "         [65, 70, 58, 82],\n",
    "         [82, 80, 78, 88]]"
   ]
  },
  {
   "cell_type": "code",
   "execution_count": 1,
   "id": "75320000-7444-47ba-87fe-8d1876c86342",
   "metadata": {},
   "outputs": [
    {
     "name": "stdout",
     "output_type": "stream",
     "text": [
      "1번 학생: 총점: 354, 평균: 88.5\n",
      "2번 학생: 총점: 275, 평균: 68.75\n",
      "3번 학생: 총점: 328, 평균: 82.0\n",
      "전체 평균:  79.75\n"
     ]
    }
   ],
   "source": [
    "score = [[88, 76, 92, 98],\n",
    "         [65, 70, 58, 82],\n",
    "         [82, 80, 78, 88]]\n",
    "\n",
    "stu = 0\n",
    "stu_all = 0\n",
    "for stu in score:\n",
    "    stu_sum = sum(stu)\n",
    "    stu_avg = sum(stu) / len(stu)\n",
    "    stu_all += stu_avg\n",
    "    print(f'{score.index(stu) + 1}번 학생: 총점: {stu_sum}, 평균: {stu_avg}')\n",
    "print('전체 평균: ', stu_all / len(score))"
   ]
  },
  {
   "cell_type": "markdown",
   "id": "e14ff89a-57d3-4ee5-987e-b243d60e41ed",
   "metadata": {},
   "source": [
    "# [문제] 일수 계산\n",
    "1-12월 중 입력 받은 월이 몇 일까지 있는지를 계산하는 프로그램을 작성하세요.\n",
    "\n",
    "[실행예시]\n",
    "년도를 입력하세요: 2024\n",
    "월을 입력하세요: 2\n",
    "2024년 2월은 29일까지 있습니다.\n",
    "\n",
    "[참고]\n",
    "윤년 조건: 4로 나눠지고, 100으로 나워지지 않는 해 또는 400으로 나눠지는 해"
   ]
  },
  {
   "cell_type": "code",
   "execution_count": null,
   "id": "9f24d191-2fa0-4a6c-8a14-16dd88f81e9c",
   "metadata": {},
   "outputs": [],
   "source": [
    "daysInMonth = [31, 28, 31, 30, 31, 30, 31, 31, 30, 31, 30, 31]\n",
    "\n",
    "year = int(input('년도를 입력하세요: '))\n",
    "month = int(input('월을 입력하세요: '))\n",
    "days = 0\n",
    "\n",
    "if month == 2:\n",
    "    days = 29 if (year%4 == 0 and year%100 != 0) or (year%400 == 0) else 28\n",
    "else:\n",
    "    days = daysInMonth[month-1]\n",
    "print(f'')"
   ]
  },
  {
   "cell_type": "markdown",
   "id": "df8548ac-e811-4d50-8555-5787addfc988",
   "metadata": {},
   "source": [
    "# [문제] 단어 빈도수 구하기\n",
    "text 문장 안에 포함된 각 단어의 빈도수를 구하여 dictionary 형태로 결과를 출력하세요.\n",
    "단어는 key가 되고, 빈도수는 value가 된다."
   ]
  },
  {
   "cell_type": "code",
   "execution_count": 43,
   "id": "c7153523-edf9-4d64-9686-4065ff7fd5d3",
   "metadata": {},
   "outputs": [
    {
     "name": "stdout",
     "output_type": "stream",
     "text": [
      "[('you', 15), ('to', 14), ('i', 12), ('that', 10), ('hello', 9), ('ive', 9), ('im', 8), ('it', 8), ('the', 8), ('but', 7), ('sorry', 7), ('anymore', 7), ('times', 6), ('from', 6), ('tell', 6), ('for', 6), ('a', 5), ('other', 5), ('side', 5), ('thousand', 5), ('outside', 5), ('tried', 5), ('everything', 4), ('say', 4), ('done', 4), ('can', 4), ('be', 4), ('when', 4), ('at', 4), ('of', 4), ('its', 3), ('me', 3), ('mustve', 3), ('called', 3), ('call', 3), ('never', 3), ('seem', 3), ('home', 3), ('least', 3), ('breaking', 3), ('your', 3), ('heart', 3), ('dont', 3), ('matter', 3), ('clearly', 3), ('doesnt', 3), ('tear', 3), ('apart', 3), ('about', 2), ('we', 2), ('and', 2), ('how', 2), ('us', 2), ('are', 2), ('so', 2), ('ever', 2), ('out', 2), ('oohooh', 2), ('was', 1), ('wondering', 1), ('if', 1), ('after', 1), ('all', 1), ('these', 1), ('years', 1), ('youd', 1), ('like', 1), ('meet', 1), ('go', 1), ('over', 1), ('they', 1), ('supposed', 1), ('heal', 1), ('ya', 1), ('aint', 1), ('much', 1), ('healing', 1), ('hear', 1), ('in', 1), ('california', 1), ('dreaming', 1), ('who', 1), ('used', 1), ('were', 1), ('younger', 1), ('free', 1), ('forgotten', 1), ('felt', 1), ('before', 1), ('world', 1), ('fell', 1), ('our', 1), ('feet', 1), ('theres', 1), ('such', 1), ('difference', 1), ('between', 1), ('million', 1), ('miles', 1), ('typical', 1), ('talk', 1), ('myself', 1), ('hope', 1), ('youre', 1), ('well', 1), ('did', 1), ('make', 1), ('town', 1), ('where', 1), ('nothing', 1), ('happened', 1), ('no', 1), ('secret', 1), ('both', 1), ('running', 1), ('time', 1), ('oohoohooh', 1)]\n"
     ]
    }
   ],
   "source": [
    "song = \"\"\"Hello, it's me \n",
    "I was wondering if after all these years you'd like to meet\n",
    "To go over everything\n",
    "They say that time's supposed to heal ya\n",
    "But I ain't done much healing\n",
    "Hello, can you hear me?\n",
    "I'm in California dreaming about who we used to be\n",
    "When we were younger and free\n",
    "I've forgotten how it felt before the world fell at our feet\n",
    "There's such a difference between us\n",
    "And a million miles\n",
    "Hello from the other side\n",
    "I must've called a thousand times\n",
    "To tell you I'm sorry for everything that I've done\n",
    "But when I call, you never seem to be home\n",
    "Hello from the outside\n",
    "At least I can say that I've tried\n",
    "To tell you I'm sorry for breaking your heart\n",
    "But it don't matter, it clearly doesn't tear you apart anymore\n",
    "Hello, how are you?\n",
    "It's so typical of me to talk about myself, I'm sorry\n",
    "I hope that you're well\n",
    "Did you ever make it out of that town where nothing ever happened?\n",
    "It's no secret that the both of us are running out of time\n",
    "So hello from the other side (Other side)\n",
    "I must've called a thousand times (Thousand times)\n",
    "To tell you I'm sorry for everything that I've done\n",
    "But when I call, you never seem to be home\n",
    "Hello from the outside (Outside)\n",
    "At least I can say that I've tried (I've tried)\n",
    "To tell you I'm sorry for breaking your heart\n",
    "But it don't matter, it clearly doesn't tear you apart anymore\n",
    "Ooh-ooh, anymore\n",
    "Ooh-ooh-ooh, anymore\n",
    "Ooh-ooh, anymore\n",
    "Anymore\n",
    "Hello from the other side (Other side)\n",
    "I must've called a thousand times (Thousand times)\n",
    "To tell you I'm sorry for everything that I've done\n",
    "But when I call, you never seem to be home\n",
    "Hello from the outside (Outside)\n",
    "At least I can say that I've tried (I've tried)\n",
    "To tell you I'm sorry for breaking your heart\n",
    "But it don't matter, it clearly doesn't tear you apart anymore\"\"\"\n",
    "\n",
    "song = song.lower().replace('\\n',' ')\n",
    "pro = \"!?`',.-()\"\n",
    "for p in pro:\n",
    "    song = song.replace(p,'')\n",
    "word = song.split()\n",
    "lyrics = {}\n",
    "for i in word:\n",
    "    if lyrics.get(i) == None:\n",
    "        lyrics[i] = 1\n",
    "    else:\n",
    "        lyrics[i] += 1\n",
    "    lyrics.get(i,[word.count(i)])\n",
    "print(sorted(lyrics.items(), key = lambda x:x[1], reverse = True))"
   ]
  },
  {
   "cell_type": "markdown",
   "id": "ffa19faa-20ae-47db-8b59-7922268340a0",
   "metadata": {},
   "source": [
    "# [문제] 문자열을 구성하는 문자의 개수 세기\n",
    "<pre>\n",
    "    사용자로부터 임의의 문자열을 입력 받아 해당 문자열을 구성하는 문자들 및 각 문자의 개수를 출력하는 코드를 작성하세요.\n",
    "    (실행 예시)\n",
    "    입력: 가가가bbbbccc#\n",
    "    출력: 가3b4c3#1\n",
    "</pre>"
   ]
  },
  {
   "cell_type": "code",
   "execution_count": 3,
   "id": "6abff9ce-2a4f-410c-9590-9c4c59702541",
   "metadata": {},
   "outputs": [
    {
     "name": "stdin",
     "output_type": "stream",
     "text": [
      "입력:  가가가bbbb\n"
     ]
    },
    {
     "name": "stdout",
     "output_type": "stream",
     "text": [
      "출력: 가3b4"
     ]
    }
   ],
   "source": [
    "A = input('입력: ')\n",
    "word = {}\n",
    "for i in A:\n",
    "    if word.get(i) == None:\n",
    "        word[i] = 1\n",
    "    else:\n",
    "        word[i] = word.get(i) + 1\n",
    "print('출력: ', end = '')\n",
    "keys = word.keys()\n",
    "for k in keys:\n",
    "    print(k, word[k], end ='', sep ='')"
   ]
  }
 ],
 "metadata": {
  "kernelspec": {
   "display_name": "Python 3 (ipykernel)",
   "language": "python",
   "name": "python3"
  },
  "language_info": {
   "codemirror_mode": {
    "name": "ipython",
    "version": 3
   },
   "file_extension": ".py",
   "mimetype": "text/x-python",
   "name": "python",
   "nbconvert_exporter": "python",
   "pygments_lexer": "ipython3",
   "version": "3.11.7"
  }
 },
 "nbformat": 4,
 "nbformat_minor": 5
}
