{
 "cells": [
  {
   "cell_type": "markdown",
   "id": "838733e5-6458-417b-b84b-fb4b30ab58e9",
   "metadata": {},
   "source": [
    "# [문제-4]"
   ]
  },
  {
   "cell_type": "code",
   "execution_count": null,
   "id": "0df0048d-afce-4427-8015-6c254e7e74e5",
   "metadata": {},
   "outputs": [],
   "source": [
    "withd = int(input('withd: '))\n",
    "height = int(input('height: '))\n",
    "print(f'폭 {withd}, 높이 {height}의 사각형 넓이는: {withd*height}')"
   ]
  },
  {
   "cell_type": "markdown",
   "id": "1f4d770b-1074-4c52-be55-9b622165793b",
   "metadata": {},
   "source": [
    "# [문제-5]"
   ]
  },
  {
   "cell_type": "code",
   "execution_count": null,
   "id": "e3a9633f-9e3d-4afe-bfbe-5f940b0100dc",
   "metadata": {},
   "outputs": [],
   "source": [
    "id = 'digitalmaster'\n",
    "pwd = '12345678'\n",
    "print('--DIMA4기 전자출결 시스템--')\n",
    "user_id = input('ID를 입력하세요: ')\n",
    "user_pw = input('PW를 입력하세요: ')\n",
    "if id == user_id and pwd == user_pw:\n",
    "    print('정상적으로 출결 되었습니다.')\n",
    "else:\n",
    "    print('ID, PW를 확인하세요.')"
   ]
  },
  {
   "cell_type": "markdown",
   "id": "55c7f955-bf15-4634-aa3c-6cb2fcfd962d",
   "metadata": {},
   "source": [
    "# [문제-6]"
   ]
  },
  {
   "cell_type": "code",
   "execution_count": null,
   "id": "e07aa17f-29af-48ce-98e4-a47e046ca815",
   "metadata": {},
   "outputs": [],
   "source": [
    "print('성적입력 (100점단위)')\n",
    "attendance = int(input('출석점수: '))\n",
    "homework = int(input('과제점수: '))\n",
    "midterm = int(input('중간고사: '))\n",
    "final_project = int(input('기말프로젝트: '))\n",
    "\n",
    "total = (attendance*0.1) + (homework*0.2) + (midterm*0.4) + (final_project*0.3)\n",
    "if attendance < 50:\n",
    "    grand = 'F'\n",
    "else:\n",
    "    if total >= 90:\n",
    "        grand = 'A'\n",
    "    elif total >= 80:\n",
    "        grand = 'B'\n",
    "    elif total >= 70:\n",
    "        grand = 'C'\n",
    "    elif total >= 60:\n",
    "        grand = 'D'\n",
    "    else:\n",
    "        grand = 'F'\n",
    "print(f'총점:{total:.2f}')\n",
    "print(f'{grand} 학점')"
   ]
  },
  {
   "cell_type": "markdown",
   "id": "a3c4a6d5-b53f-4bb5-8aec-119c7227f046",
   "metadata": {},
   "source": [
    "# [문제-7]"
   ]
  },
  {
   "cell_type": "code",
   "execution_count": null,
   "id": "6f90a4c2-2091-410f-af5c-a2cb45d0a3bd",
   "metadata": {},
   "outputs": [],
   "source": [
    "num = []\n",
    "for i in range(10):\n",
    "    num.append(int(input('숫자 입력:')))\n",
    "num.sort()\n",
    "print(num)\n",
    "for n in num:\n",
    "    if not n%3: print(n)"
   ]
  },
  {
   "cell_type": "markdown",
   "id": "ca7747c4-41db-4f7f-8bb1-3e7c8cb3841b",
   "metadata": {},
   "source": [
    "# [문제-8]"
   ]
  },
  {
   "cell_type": "code",
   "execution_count": 12,
   "id": "f384e847-0c5b-45a8-a547-a14efa1c6f98",
   "metadata": {},
   "outputs": [
    {
     "name": "stdout",
     "output_type": "stream",
     "text": [
      "{'서울': '02', '경기': '031', '강원': '033', '충남': '041', '충북': '043', '경북': '054', '경남': '055', '전남': '061', '전북': '063'}\n"
     ]
    }
   ],
   "source": [
    "phone = \"서울 02 ~경기 031 ~강원 033 ~충남 041 ~충북 043 ~경북 054 ~경남 055 ~전남 061 ~전북 063\"\n",
    "splited_phone = phone.split('~')\n",
    "# print(splited_phone)\n",
    "# mydic = [s.split()[0]:s.split()[1] for s in splited_phone]\n",
    "mydic = {}\n",
    "for s in splited_phone:\n",
    "    key = s.split()[0]\n",
    "    value = s.split()[1]\n",
    "    mydic[key] = value\n",
    "print(mydic)"
   ]
  },
  {
   "cell_type": "markdown",
   "id": "5ebbea12-ead5-4e67-b99a-cbf1edc82c70",
   "metadata": {},
   "source": [
    "# [문제-9]"
   ]
  },
  {
   "cell_type": "code",
   "execution_count": 2,
   "id": "a20a8988-e6c9-45b3-8bc8-9efb539fcfe6",
   "metadata": {},
   "outputs": [
    {
     "name": "stdin",
     "output_type": "stream",
     "text": [
      "웹 주소 입력:  www.naver.com\n"
     ]
    },
    {
     "name": "stdout",
     "output_type": "stream",
     "text": [
      "결과: kr 도메인이 아닙니다.\n"
     ]
    }
   ],
   "source": [
    "url = input('웹 주소 입력: ')\n",
    "if url[-2:] == 'kr':\n",
    "    print('결과: kr 도메인이 맞습니다.')\n",
    "else:\n",
    "    print('결과: kr 도메인이 아닙니다.')"
   ]
  },
  {
   "cell_type": "markdown",
   "id": "efe87e13-b961-4cd2-b991-b87e48f75eea",
   "metadata": {},
   "source": [
    "# [문제-10]"
   ]
  },
  {
   "cell_type": "code",
   "execution_count": 3,
   "id": "042137d4-cf87-4be2-813e-ac56ca113d3e",
   "metadata": {},
   "outputs": [
    {
     "name": "stdout",
     "output_type": "stream",
     "text": [
      "[2, 4, 6, 8, 10, 12, 14, 16, 18, 20, 22, 24, 26, 28, 30, 32, 34, 36, 38, 40, 42, 44, 46, 48, 50, 52, 54, 56, 58, 60, 62, 64, 66, 68, 70, 72, 74, 76, 78, 80, 82, 84, 86, 88, 90, 92, 94, 96, 98, 100]\n"
     ]
    }
   ],
   "source": [
    "value = [ i for i in range(1,101) if not i%2]\n",
    "print(value)"
   ]
  },
  {
   "cell_type": "markdown",
   "id": "0e1249b4-ca5a-4b17-b5cb-4565a509e9c8",
   "metadata": {},
   "source": [
    "# [문제-11]"
   ]
  },
  {
   "cell_type": "code",
   "execution_count": 7,
   "id": "55e67f08-7871-49c8-bdad-ef782798b2fb",
   "metadata": {},
   "outputs": [
    {
     "name": "stdout",
     "output_type": "stream",
     "text": [
      "348\n",
      "960\n",
      "712\n",
      "1080\n",
      "796\n"
     ]
    }
   ],
   "source": [
    "price = [435, 1200, 890, 1350, 995]\n",
    "for sale_price in map(lambda x:x*0.8, price):\n",
    "    print(f'{sale_price:.0f}')"
   ]
  },
  {
   "cell_type": "markdown",
   "id": "65df3847-facd-46ce-8fcb-a9cdc8488004",
   "metadata": {},
   "source": [
    "# [문제-12]"
   ]
  },
  {
   "cell_type": "code",
   "execution_count": 10,
   "id": "8c4be8c1-0fdd-4d5e-a204-a7b0126b5877",
   "metadata": {},
   "outputs": [
    {
     "name": "stdin",
     "output_type": "stream",
     "text": [
      "값[1]:  1\n",
      "값[2]:  5\n",
      "값[3]:  -45\n",
      "값[4]:  67\n",
      "값[5]:  23\n",
      "값[6]:  9\n",
      "값[7]:  -23\n",
      "값[8]:  89\n",
      "값[9]:  4\n",
      "값[10]:  -10\n"
     ]
    },
    {
     "name": "stdout",
     "output_type": "stream",
     "text": [
      "평균:12.00\n",
      "평균과 10 이상 차이나는 수: 1 -45 67 23 -23 89 -10 "
     ]
    }
   ],
   "source": [
    "nums = []\n",
    "for i in range(1,11):\n",
    "    nums.append(int(input(f'값[{i}]: ')))\n",
    "\n",
    "avg = sum(nums) / len(nums)\n",
    "print(f'평균:{avg:.2f}')\n",
    "print('평균과 10 이상 차이나는 수: ', end = '')\n",
    "for n in nums:\n",
    "    if n-avg <= -10 or n-avg >= 10:\n",
    "        print(n, end=' ')"
   ]
  },
  {
   "cell_type": "markdown",
   "id": "5861ae7f-ca05-4212-97ad-e1efcfd9a6b6",
   "metadata": {},
   "source": [
    "# [문제-13]"
   ]
  },
  {
   "cell_type": "code",
   "execution_count": 5,
   "id": "e3f64376-f198-4a90-9ee9-3229779a4973",
   "metadata": {},
   "outputs": [
    {
     "name": "stdout",
     "output_type": "stream",
     "text": [
      "정수를 입력하세요 (종료:0)\n"
     ]
    },
    {
     "name": "stdin",
     "output_type": "stream",
     "text": [
      " 6\n",
      " 4\n",
      " 12\n",
      " 98\n",
      " 33\n",
      " 0\n",
      "검색할 순위: 5\n"
     ]
    },
    {
     "name": "stdout",
     "output_type": "stream",
     "text": [
      "5번째로 큰 수는 4입니다.\n"
     ]
    }
   ],
   "source": [
    "nums = []\n",
    "print('정수를 입력하세요 (종료:0)')\n",
    "while True:\n",
    "    num = int(input())\n",
    "    if num == 0: break\n",
    "    nums.append(num)\n",
    "\n",
    "nums.sort(reverse=True)\n",
    "\n",
    "while True:\n",
    "    rank = int(input('검색할 순위:'))\n",
    "    if 0 < rank <= len(nums):\n",
    "        break\n",
    "    else:\n",
    "        print('리스트의 범위를 벗어났습니다. 다시 입력하세요.')\n",
    "print(f'{rank}번째로 큰 수는 {nums[rank-1]}입니다.')"
   ]
  },
  {
   "cell_type": "markdown",
   "id": "571c1eff-f312-49c3-b926-e5dd0b58cc25",
   "metadata": {},
   "source": [
    "# [문제-14]"
   ]
  },
  {
   "cell_type": "code",
   "execution_count": 7,
   "id": "ac746952-b9c8-442f-b3a4-9d29defbeaf1",
   "metadata": {},
   "outputs": [
    {
     "name": "stdin",
     "output_type": "stream",
     "text": [
      "연도:  2024\n",
      "월:  3\n",
      "일:  27\n"
     ]
    },
    {
     "name": "stdout",
     "output_type": "stream",
     "text": [
      "1년 1월 1일 - 2024년 3월 27일까지는 총 738,972일 입니다.\n"
     ]
    }
   ],
   "source": [
    "monthly_date = [31,28,31,30,31,30,31,31,30,31,30,31]\n",
    "\n",
    "year = int(input('연도: '))\n",
    "month = int(input('월: '))\n",
    "day = int(input('일: '))\n",
    "\n",
    "total = 0\n",
    "\n",
    "def isLeapYear(year):\n",
    "    return (not year%4 and year%100) or not year%400\n",
    "\n",
    "# 전년도까지의 총 일수\n",
    "for i in range(1, year):\n",
    "    if isLeapYear(i):\n",
    "        total += 366\n",
    "    else:\n",
    "        total += 365\n",
    "\n",
    "# 전월까지 총 일수\n",
    "for i in range(month-1):\n",
    "    total += monthly_date[i]\n",
    "\n",
    "# 해당 날짜 더하기\n",
    "total += day\n",
    "\n",
    "# 당해년도가 윤년이고, 확인하고자 하는 월이 3월 이후라면 1일 더하기\n",
    "if isLeapYear(year) and month > 2:\n",
    "    total += 1\n",
    "\n",
    "print(f'1년 1월 1일 - {year}년 {month}월 {day}일까지는 총 {total:,}일 입니다.')"
   ]
  },
  {
   "cell_type": "markdown",
   "id": "4eaf6a24-5fa4-450c-96d9-6011d46c1c71",
   "metadata": {},
   "source": [
    "# [문제-15]"
   ]
  },
  {
   "cell_type": "code",
   "execution_count": 16,
   "id": "8c3da4b6-417f-461e-a49a-fb87f4f2f38f",
   "metadata": {},
   "outputs": [
    {
     "name": "stdout",
     "output_type": "stream",
     "text": [
      "|x|x|x|x|x|"
     ]
    },
    {
     "name": "stdin",
     "output_type": "stream",
     "text": [
      "X 위치의 숫자를 맞혀보세요:  6\n"
     ]
    },
    {
     "name": "stdout",
     "output_type": "stream",
     "text": [
      "없는 숫자입니다.\n",
      "1회 만에 성공\n"
     ]
    }
   ],
   "source": [
    "import random\n",
    "nums = random.sample(range(1,21),5)\n",
    "\n",
    "mark = ['x']*5\n",
    "count = 0\n",
    "while True:\n",
    "    count += 1\n",
    "    print('|', end='')\n",
    "    for m in mark:\n",
    "        print(f'{m}|', end ='')\n",
    "\n",
    "    user_input = int(input('X 위치의 숫자를 맞혀보세요: '))\n",
    "    for i, n in enumerate(nums):     #enenumerate: 리스트의 원소와 인덱스를 튜플로 반환\n",
    "        if n == user_input:\n",
    "            print('정답입니다!')\n",
    "            mark[i] = str(n)\n",
    "            break\n",
    "    else: print('없는 숫자입니다.')\n",
    "\n",
    "    if mark.count('X') == 0: break\n",
    "print(f'{count}회 만에 성공')"
   ]
  }
 ],
 "metadata": {
  "kernelspec": {
   "display_name": "Python 3 (ipykernel)",
   "language": "python",
   "name": "python3"
  },
  "language_info": {
   "codemirror_mode": {
    "name": "ipython",
    "version": 3
   },
   "file_extension": ".py",
   "mimetype": "text/x-python",
   "name": "python",
   "nbconvert_exporter": "python",
   "pygments_lexer": "ipython3",
   "version": "3.11.7"
  }
 },
 "nbformat": 4,
 "nbformat_minor": 5
}
