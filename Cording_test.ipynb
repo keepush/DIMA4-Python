{
 "cells": [
  {
   "cell_type": "markdown",
   "id": "7ec5abfc-73d6-472a-b3fb-eea6446ce95a",
   "metadata": {},
   "source": [
    "# [문제] 문자열을 구성하는 문자의 개수 세기\n",
    "<pre>\n",
    "    사용자로부터 임의의 문자열을 입력 받아 해당 문자열을 구성하는 문자들 및 각 문자의 개수를 출력하는 코드를 작성하세요.\n",
    "    (실행 예시)\n",
    "    입력: 가가가bbbbccc#\n",
    "    출력: 가3b4c3#1\n",
    "</pre>"
   ]
  },
  {
   "cell_type": "code",
   "execution_count": 21,
   "id": "00623c24-710e-4af2-bf7b-ccad08f3cf1b",
   "metadata": {},
   "outputs": [
    {
     "name": "stdin",
     "output_type": "stream",
     "text": [
      "입력:  dddrrrr\n"
     ]
    },
    {
     "name": "stdout",
     "output_type": "stream",
     "text": [
      "d3r4"
     ]
    }
   ],
   "source": [
    "# 문자열 입력 -> 딕셔너리 만들어서 -> 각 문자 밸류 값 있으면 +1, 없으면 1 지정\n",
    "# 출력은 key 값과 value값\n",
    "\n",
    "data = input('입력: ')\n",
    "all = {}\n",
    "for i in data:\n",
    "    if all.get(i) != None:\n",
    "        all[i] = all.get(i) + 1\n",
    "    else:\n",
    "        all[i] = 1\n",
    "keys = all.keys()\n",
    "for k in keys:\n",
    "    print(k, all[k], end = '', sep = '')"
   ]
  },
  {
   "cell_type": "code",
   "execution_count": 7,
   "id": "b21349c2-812e-44e0-b7a2-170311fc9e90",
   "metadata": {},
   "outputs": [
    {
     "name": "stdin",
     "output_type": "stream",
     "text": [
      "입력:  가가가가bbbccc\n"
     ]
    },
    {
     "name": "stdout",
     "output_type": "stream",
     "text": [
      "출력: 가4b3c3"
     ]
    }
   ],
   "source": [
    "data = input('입력: ')\n",
    "chardic = {}\n",
    "for s in data:\n",
    "    if chardic.get(s) != None:\n",
    "        chardic[s] = chardic.get(s) + 1\n",
    "    else: \n",
    "        chardic[s] = 1\n",
    "print('출력: ', end = '')\n",
    "keys = chardic.keys()\n",
    "for k in keys:\n",
    "    print(k, chardic[k], end = '', sep = '')"
   ]
  },
  {
   "cell_type": "code",
   "execution_count": null,
   "id": "900b4489-77fe-4c5d-b9c1-97a35f27e7e8",
   "metadata": {},
   "outputs": [],
   "source": [
    "data = input('입력: ')\n",
    "charDic = { s:data.count[s] for s in data}\n",
    "print('출력: ', end='')\n",
    "for k, v in charDic.items():\n",
    "    print(k,v,sep='', end='')"
   ]
  },
  {
   "cell_type": "markdown",
   "id": "03b34b64-1c29-4936-a682-3905dec75cae",
   "metadata": {},
   "source": [
    "# [문제] 분리한 문자열의 첫 번째 문자 출력하기\n",
    "<pre>\n",
    "    사용자로부터 임의의 문자열을 입력받아 공백을 기준으로 분리한 후, 분리된 문자열의 첫 번째 글자만 모아서 출력하는 코드를 작성하세요.\n",
    "    [실행 예시]\n",
    "    입력: ABC DEF GHI\n",
    "    출력: A, B, G\n",
    "</pre>"
   ]
  },
  {
   "cell_type": "code",
   "execution_count": 43,
   "id": "79c6bb3c-327d-4735-9916-9a84edc764a8",
   "metadata": {},
   "outputs": [
    {
     "name": "stdin",
     "output_type": "stream",
     "text": [
      "입력:  ABC DEF GHI\n"
     ]
    },
    {
     "name": "stdout",
     "output_type": "stream",
     "text": [
      "출력 A,D,G\n"
     ]
    }
   ],
   "source": [
    "data = input('입력: ')\n",
    "print('출력 ', end = '')\n",
    "# for s in data.split():\n",
    "#    print(s[0], end = ',')\n",
    "# print('\\b')\n",
    "print(','.join([s[0] for s in data.split()]))"
   ]
  },
  {
   "cell_type": "code",
   "execution_count": 31,
   "id": "db38e88d-4f07-4ed1-ac2d-344ddd19a257",
   "metadata": {},
   "outputs": [
    {
     "name": "stdin",
     "output_type": "stream",
     "text": [
      "입력:  ABC DEF GHI\n"
     ]
    },
    {
     "name": "stdout",
     "output_type": "stream",
     "text": [
      "출력 A,D,G\n"
     ]
    }
   ],
   "source": [
    "#### 내 풀이 ####\n",
    "word = input('입력: ')\n",
    "print('출력 ', end='')\n",
    "word = word.split()\n",
    "for i in word:\n",
    "    print(i[0], end=',')\n",
    "print('\\b')"
   ]
  },
  {
   "cell_type": "markdown",
   "id": "b550ddc5-4c24-4924-8425-ab6a2c6b2fd9",
   "metadata": {},
   "source": [
    "# [문제] 순차적으로 문자열 변환하기\n",
    "<pre>\n",
    "    사용자로부터 임의의 문자열을 입력받아 가장 마지막 문자부터 \"#\"으로 하나씩 변환해가며 출력하는 코드를 작성하세요.\n",
    "    (실행 예시)\n",
    "    입력: ABCDEF\n",
    "    출력:\n",
    "    ABCDE#\n",
    "    ABCD##\n",
    "    ABC###\n",
    "    AB####\n",
    "    A#####\n",
    "    ######\n",
    "</pre>"
   ]
  },
  {
   "cell_type": "code",
   "execution_count": 57,
   "id": "97d4f916-4c62-4ca6-9fc1-b381072f5279",
   "metadata": {},
   "outputs": [
    {
     "name": "stdin",
     "output_type": "stream",
     "text": [
      "입력:  anjdf\n"
     ]
    },
    {
     "name": "stdout",
     "output_type": "stream",
     "text": [
      "anjd#\n",
      "anj##\n",
      "an###\n",
      "a####\n",
      "#####\n"
     ]
    }
   ],
   "source": [
    "data = input('입력: ')\n",
    "for i in range(len(data)):\n",
    "    print(data[:len(data)-(i+1)] +'#'*(i+1))"
   ]
  },
  {
   "cell_type": "code",
   "execution_count": 71,
   "id": "bca99e58-3e0f-499e-89dd-0afa9554c6b2",
   "metadata": {},
   "outputs": [
    {
     "name": "stdin",
     "output_type": "stream",
     "text": [
      "입력:  DKSJDUWW\n"
     ]
    },
    {
     "name": "stdout",
     "output_type": "stream",
     "text": [
      "DKSJDUW#\n",
      "DKSJDU##\n",
      "DKSJD###\n",
      "DKSJ####\n",
      "DKS#####\n",
      "DK######\n",
      "D#######\n",
      "########\n"
     ]
    }
   ],
   "source": [
    "data = input('입력: ')\n",
    "tail = len(data)\n",
    "new = \"\"\n",
    "for i in range(1,tail+1):\n",
    "    new = data[:tail-i]\n",
    "    print(new,'#'*i,sep='')               # 마지막 문자 삭제 -> 슬라이싱으로 문자 전까지만 뽑아서 + '#' * i 만큼 더하기"
   ]
  },
  {
   "cell_type": "markdown",
   "id": "f895d8a6-8eba-4774-859b-c51a03704d13",
   "metadata": {},
   "source": [
    "# [문제] 소문자 변환\n",
    "<pre>\n",
    "    사용자로부터 임의의 문자열을 입력받아 해당 문자열 내 모든 소문자를 '#'으로 변환하여 출력하는 코드를 작성하세요.\n",
    "    (실행 예시)\n",
    "    입력: abCDeFg\n",
    "    출력: ##CD#F#\n",
    "    Hint: 문자열의 소문자 여부 판단 함수 사용,  islower()\n",
    "</pre>"
   ]
  },
  {
   "cell_type": "code",
   "execution_count": 68,
   "id": "773612ac-fd14-41e1-bf78-7fa163b865de",
   "metadata": {},
   "outputs": [
    {
     "name": "stdin",
     "output_type": "stream",
     "text": [
      "입력:  akJgY\n"
     ]
    },
    {
     "name": "stdout",
     "output_type": "stream",
     "text": [
      "출력:  ##J#Y\n"
     ]
    }
   ],
   "source": [
    "data = input('입력: ')\n",
    "result = \"\"\n",
    "for i in data:\n",
    "    if i.islower():\n",
    "        result += '#'\n",
    "    else:\n",
    "        result += i\n",
    "print('출력: ',result)"
   ]
  },
  {
   "cell_type": "code",
   "execution_count": 70,
   "id": "b88b7aa5-8b9d-4d43-831f-1270e5ac1049",
   "metadata": {},
   "outputs": [
    {
     "name": "stdin",
     "output_type": "stream",
     "text": [
      "입력:  dQrEE\n"
     ]
    },
    {
     "name": "stdout",
     "output_type": "stream",
     "text": [
      "출력:  #Q#EE\n"
     ]
    }
   ],
   "source": [
    "data = input('입력: ')\n",
    "result = [ '#' if i.islower() else i for i in data]\n",
    "print('출력: ',''.join(result))"
   ]
  },
  {
   "cell_type": "markdown",
   "id": "d0870101-428a-4130-97af-b38c426216d6",
   "metadata": {},
   "source": [
    "# [문제] 문자열 검색\n",
    "사용자로부터 입력받을 문자열의 개수를 입력 받고, 검색할 단어를 입력받은 후, 앞서 입력받은 숫자만큼 문자열을 입력 받는다.\n",
    "이후 해당 문자열에서 검색어를 포함하는 문자열을 출력하되, 검색어가 존재하지 않을 경우 '검색결과 없음'을 출력하는 코드를 작성하세요.\n",
    "(실행 예시)\n",
    "입력할 단어 개수: 3\n",
    "검색할 단어: ab\n",
    "\n",
    "단어 입력 1: abba\n",
    "단어 입력 2: oppa\n",
    "단어 입력 3: BCabD\n",
    "검색 결과:\n",
    "BCabD"
   ]
  },
  {
   "cell_type": "code",
   "execution_count": 19,
   "id": "30ad7660-b5f0-46af-9cc2-756f496ca90c",
   "metadata": {},
   "outputs": [
    {
     "name": "stdin",
     "output_type": "stream",
     "text": [
      "입력할 단어 개수:  3\n",
      "검색할 단어:  바\n",
      "단어 입력 1: 바아\n",
      "단어 입력 2: 보오\n",
      "단어 입력 3: 바이\n"
     ]
    },
    {
     "name": "stdout",
     "output_type": "stream",
     "text": [
      "바아\n",
      "바이\n"
     ]
    }
   ],
   "source": [
    "# 개수 입력 , 검색 단어 입력, 숫자만큼 문자열 입력 (반복)\n",
    "# 입력한 문자열 리스트 정리\n",
    "# find 변수 사용해서 있으면 그대로 프린트, 없으면 검색 결과 없음\n",
    "# 플래그 변수 사용 !!\n",
    "\n",
    "num = int(input('입력할 단어 개수: '))\n",
    "word = input('검색할 단어: ')\n",
    "input_strings = [ input('단어 입력 %d:'%(i+1)) for i in range(num) ]\n",
    "find = False\n",
    "for s in input_strings:\n",
    "    if s.find(word) != -1:\n",
    "        print(s)\n",
    "        find = True\n",
    "if not find:\n",
    "    print('검색 결과 없음')"
   ]
  },
  {
   "cell_type": "code",
   "execution_count": 2,
   "id": "7cc7e48e-4d6b-473b-ade1-86e85e906307",
   "metadata": {},
   "outputs": [
    {
     "name": "stdin",
     "output_type": "stream",
     "text": [
      "입력할 단어 개수:  3\n",
      "검색할 문자열 ㅁㅁ\n",
      "단어입력 1: ㅏㅁㅁ\n",
      "단어입력 2: 아아아\n",
      "단어입력 3: ㅔㅁㅁ\n"
     ]
    },
    {
     "name": "stdout",
     "output_type": "stream",
     "text": [
      "검색 결과: \n",
      "ㅏㅁㅁ\n",
      "ㅔㅁㅁ\n"
     ]
    }
   ],
   "source": [
    "num = int(input('입력할 단어 개수: '))\n",
    "keyword = input('검색할 문자열')\n",
    "input_strings = [ input('단어입력 %d:'%(i+1)) for i in range(num) ]\n",
    "print('검색 결과: ')\n",
    "find = False                                  # 플래그 변수\n",
    "for s in input_strings:\n",
    "  #  if keyword in s:\n",
    "    if s.find(keyword) != -1:\n",
    "        print(s)\n",
    "        find = True\n",
    "if not find: print('검색 결과 없음')"
   ]
  },
  {
   "cell_type": "code",
   "execution_count": 4,
   "id": "69c0c3a2-29fc-4a8b-81ee-feedbd4c3074",
   "metadata": {},
   "outputs": [
    {
     "name": "stdin",
     "output_type": "stream",
     "text": [
      "입력할 단어 개수:  3\n",
      "검색할 문자열 ㅁㅁ\n",
      "단어 입력1:  아ㅁㅁ\n",
      "단어 입력2:  ㅇㅁㅁ\n",
      "단어 입력3:  아님\n"
     ]
    },
    {
     "name": "stdout",
     "output_type": "stream",
     "text": [
      "검색 결과: \n",
      "아ㅁㅁ\n",
      "ㅇㅁㅁ\n"
     ]
    }
   ],
   "source": [
    "num = int(input('입력할 단어 개수: '))\n",
    "keyword = input('검색할 문자열')\n",
    "input_strings = []\n",
    "for i in range(num):\n",
    "    s = input(f'단어 입력{i+1}: ')\n",
    "    if keyword in s:\n",
    "        input_strings.append(s)\n",
    "\n",
    "if input_strings:\n",
    "    print('검색 결과: ')\n",
    "    print('\\n'.join(input_strings))\n",
    "else: \n",
    "    print('검색 결과 없음')"
   ]
  },
  {
   "cell_type": "code",
   "execution_count": 33,
   "id": "7323da4e-48e6-4fed-a1d6-8ab473a4df3e",
   "metadata": {},
   "outputs": [
    {
     "name": "stdin",
     "output_type": "stream",
     "text": [
      "입력할 단어 개수:  2\n",
      "입력할 단어:  아\n",
      "단어 입력1:  바아\n",
      "단어 입력2:  보오\n"
     ]
    },
    {
     "name": "stdout",
     "output_type": "stream",
     "text": [
      "['바아']\n"
     ]
    }
   ],
   "source": [
    "### 내 거 ###\n",
    "data = int(input('입력할 단어 개수: '))\n",
    "word = input('입력할 단어: ')\n",
    "a = []\n",
    "for i in range(1, data+1):\n",
    "    b = input(f'단어 입력{i}: ')\n",
    "    if word in b:\n",
    "        a.append(b)\n",
    "if len(a) == 0:  \n",
    "    print('검색 결과 없음')\n",
    "else: print(a)"
   ]
  },
  {
   "cell_type": "markdown",
   "id": "a48272b8-cf8c-4fbe-93bd-b7cc74808bdc",
   "metadata": {},
   "source": [
    "# [문제] 규칙에 따라 문자 변환하기\n",
    "<pre>\n",
    "    사용자로부터 임의의 문자열을 입력받아 아래와 같은 규칙에 따라 변환한 후 출력하는 코드를 작성하세요.\n",
    "     (규칙)\n",
    "     A -> 4\n",
    "     E -> 3\n",
    "     G -> 6\n",
    "     I -> 1\n",
    "     O => 0\n",
    "     S -> 5\n",
    "     Z -> 2\n",
    "    \n",
    "    (실행 예시)\n",
    "    입력: Ag#IZkiS\n",
    "    출력: 4g#12ki5\n",
    "</pre>"
   ]
  },
  {
   "cell_type": "code",
   "execution_count": 22,
   "id": "9059e4fd-7f13-466c-bcb7-946973130f37",
   "metadata": {},
   "outputs": [
    {
     "name": "stdin",
     "output_type": "stream",
     "text": [
      "입력:  Ag#IZkiS\n"
     ]
    },
    {
     "name": "stdout",
     "output_type": "stream",
     "text": [
      "출력:  4g#12ki5\n"
     ]
    }
   ],
   "source": [
    "word = input('입력: ')\n",
    "code = {'A':'4', 'E':'3', 'G':'6', 'I':'1', 'O':'0', 'S':'5', 'Z':'2'}\n",
    "result = ''\n",
    "for i in word:\n",
    "    if i in code.keys():\n",
    "        result += code.get(i)\n",
    "    else:\n",
    "        result += i\n",
    "print('출력: ', result)"
   ]
  },
  {
   "cell_type": "code",
   "execution_count": 19,
   "id": "90ad89d9-da92-4061-81df-71435c23d380",
   "metadata": {},
   "outputs": [
    {
     "name": "stdin",
     "output_type": "stream",
     "text": [
      "입력:  Ag#IZkiS\n"
     ]
    },
    {
     "name": "stdout",
     "output_type": "stream",
     "text": [
      "출력:  4g#12ki5\n"
     ]
    }
   ],
   "source": [
    "code = {'A':'4', 'E':'3', 'G':'6', 'I':'1', 'O':'0', 'S':'5', 'Z':'2'}\n",
    "text = input('입력: ')\n",
    "# result = [ code[i] if code.get(i) != None else i for i in text ]            #value 숫자인 경우, str(code[s]), str(s)\n",
    "result = [ code.get(s,s) for s in text ]              # get(s,s) - 있으면 s에 해당하는 값, 없으면 s로\n",
    "print('출력: ',''.join(result))"
   ]
  },
  {
   "cell_type": "code",
   "execution_count": 20,
   "id": "a35ddafe-70f7-4a6f-add8-09005c3c11fe",
   "metadata": {},
   "outputs": [
    {
     "name": "stdin",
     "output_type": "stream",
     "text": [
      "입력:  Ag#IZkiS\n"
     ]
    },
    {
     "name": "stdout",
     "output_type": "stream",
     "text": [
      "출력:  4g#12ki5\n"
     ]
    }
   ],
   "source": [
    "word = input('입력: ')\n",
    "table = {'A':'4', 'E':'3', 'G':'6', 'I':'1', 'O':'0', 'S':'5', 'Z':'2'}\n",
    "result = \"\"\n",
    "for i in word:\n",
    "    if i in table.keys():\n",
    "        result += table.get(i)\n",
    "    else:\n",
    "        result += i\n",
    "print('출력: ', result)"
   ]
  },
  {
   "cell_type": "markdown",
   "id": "6de52e8b-8b29-461c-99b9-7bccbd8b53e6",
   "metadata": {},
   "source": [
    "# [문제] key 기준으로 합계 구하기\n",
    "<pre>\n",
    "    사용자로부터 key:value 형태로 반복해서 데이터를 입력받는다. 이때, key는 문자열, value는 정수의 형태이며, 중복되는 key를 입력받을 경우, 기존에 입력되어 있던 value에 새로 입력받은 value를 합한다. 그리고 사용자가 'exit'를 입력하면 이전까지 입력받았던 모든 key와 value를 key=value 형태로 출력하면서 종료하는 코드를 작성하세요.\n",
    "    (실행 예시)\n",
    "    입력:\n",
    "    a:1\n",
    "    b:2\n",
    "    c:3\n",
    "    a:4\n",
    "    c:1\n",
    "    exit\n",
    "    출력:\n",
    "    a=5\n",
    "    b=2\n",
    "    c=4\n",
    "</pre>"
   ]
  },
  {
   "cell_type": "code",
   "execution_count": 36,
   "id": "03cdf12d-50e9-417c-b37b-3d3ee21185e2",
   "metadata": {},
   "outputs": [
    {
     "name": "stdout",
     "output_type": "stream",
     "text": [
      "입력: \n"
     ]
    },
    {
     "name": "stdin",
     "output_type": "stream",
     "text": [
      " 1:3\n",
      " 4:5\n",
      " 4:9\n",
      " 2:3\n",
      " exit\n"
     ]
    },
    {
     "name": "stdout",
     "output_type": "stream",
     "text": [
      "출력: \n",
      "1 = 3\n",
      "4 = 14\n",
      "2 = 3\n"
     ]
    }
   ],
   "source": [
    "print('입력: ')\n",
    "data = dict()\n",
    "while True:\n",
    "    input_data = input()\n",
    "    if input_data == 'exit': break\n",
    "    split_data = input_data.split(':')\n",
    "    key = split_data[0]\n",
    "    value = int(split_data[1])\n",
    "    data[key] = data.get(key,0) + value\n",
    "   # if data.get(key) == None:\n",
    "   #     data[key] = value   #새로운 값을 사전에 추가\n",
    "   # else:\n",
    "   #     data[key] += value\n",
    "print('출력: ')\n",
    "for k,v in data.items():\n",
    "    print(k,'=',v)"
   ]
  },
  {
   "cell_type": "code",
   "execution_count": 35,
   "id": "4520ef97-cf96-43e6-a7b8-0d63826172df",
   "metadata": {},
   "outputs": [
    {
     "name": "stdin",
     "output_type": "stream",
     "text": [
      "입력:  1:3\n",
      "입력:  2:3\n",
      "입력:  1:5\n",
      "입력:  exit\n"
     ]
    },
    {
     "name": "stdout",
     "output_type": "stream",
     "text": [
      "출력: \n",
      "1 = 8\n",
      "2 = 3\n"
     ]
    }
   ],
   "source": [
    "##########################\n",
    "add = dict()\n",
    "while True:\n",
    "    word = input('입력: ')\n",
    "    if word == 'exit': break\n",
    "    else:\n",
    "        data = word.split(':')\n",
    "        add[data[0]] = add.get(data[0],0) + int(data[1])\n",
    "print('출력: ')\n",
    "for i in add:\n",
    "    print(f\"{i} = {add[i]}\")"
   ]
  },
  {
   "cell_type": "markdown",
   "id": "9880aa4f-b2b8-46e8-af0c-8db7b25f02c2",
   "metadata": {},
   "source": [
    "# [문제] 성적 처리 프로그램\n",
    "<pre>\n",
    "    사용자로부터 총 학생의 수와 합격 기준 점수를 입력 받는다.\n",
    "    그리고 각 학생의 성적과 결석 일수를 공백으로 구분하여 순차적으로 입력받는다.\n",
    "    결석 일수 1일당 5점씩 감점하여 최종 성적을 계산한다.\n",
    "    점수와 결석 일수, 최종 성적과 합격 여부를 출력한다.\n",
    "    \n",
    "    (실행 예시)\n",
    "    입력:\n",
    "    학생 수: 3\n",
    "    합격 기준 점수: 60\n",
    "\n",
    "    1번 학생 점수와 결석 일수 (\"100 0\" 형식): 100 0\n",
    "    2번 학생 점수와 결석 일수 (\"100 0\" 형식): 60 0\n",
    "    3번 학생 점수와 결석 일수 (\"100 0\" 형식): 80 5\n",
    "\n",
    "    출력:\n",
    "    점수    결석    성적    합격여부\n",
    "    100     0       100     합격\n",
    "    60      0       60      합격\n",
    "    80      5       50      불합격\n",
    "</pre>"
   ]
  },
  {
   "cell_type": "code",
   "execution_count": 66,
   "id": "6f10effd-9909-4331-8279-22e0c98a17a4",
   "metadata": {},
   "outputs": [
    {
     "name": "stdout",
     "output_type": "stream",
     "text": [
      "입력: \n"
     ]
    },
    {
     "name": "stdin",
     "output_type": "stream",
     "text": [
      "학생 수:  3\n",
      "합격 기준 점수:  60\n",
      "1번 학생 점수와 결석 일수 (100 0 형식):  100 0\n",
      "2번 학생 점수와 결석 일수 (100 0 형식):  60 0\n",
      "3번 학생 점수와 결석 일수 (100 0 형식):  80 5\n"
     ]
    },
    {
     "name": "stdout",
     "output_type": "stream",
     "text": [
      "출력: \n",
      "점수,결석,성적,합격여부\n",
      "100\t  0\t100\t 합격\n",
      " 60\t  0\t 60\t 합격\n",
      " 80\t  5\t 55\t불합격\n"
     ]
    }
   ],
   "source": [
    "print('입력: ')\n",
    "num_of_student = int(input('학생 수: '))\n",
    "cut_line = int(input('합격 기준 점수: '))\n",
    "\n",
    "score_date = []   # 전체 학생 성적 저장\n",
    "for i in range(1, num_of_student + 1):\n",
    "    input_data = input(f'{i}번 학생 점수와 결석 일수 (100 0 형식): ')\n",
    "    score = int(input_data.split()[0])\n",
    "    abscent = int(input_data.split()[1])\n",
    "    final_score = score - (abscent * 5)\n",
    "    pass_fail = '합격' if final_score >= cut_line else '불합격'\n",
    "    score_date.append([score, abscent, final_score, pass_fail])    # 이중 리스트 형태 띄게 됨\n",
    "print('출력: ')\n",
    "print('점수', '결석', '성적', '합격여부', sep = ',')\n",
    "for student in score_date:\n",
    "    print('%3d\\t%3d\\t%3d\\t%3s'%(student[0], student[1], student[2], student[3]))"
   ]
  },
  {
   "cell_type": "code",
   "execution_count": 12,
   "id": "cc55fb41-4c0c-41a4-876a-8c9b11c4f20a",
   "metadata": {
    "scrolled": true
   },
   "outputs": [
    {
     "name": "stdout",
     "output_type": "stream",
     "text": [
      "입력: \n"
     ]
    },
    {
     "name": "stdin",
     "output_type": "stream",
     "text": [
      "학생 수:  2\n",
      "합격 기준 점수:  60\n",
      "1번 학생 점수와 결석 일수 (100 0 형식):  100 0\n",
      "2번 학생 점수와 결석 일수 (100 0 형식):  100 0\n"
     ]
    },
    {
     "name": "stdout",
     "output_type": "stream",
     "text": [
      "출력: \n",
      "점수\t결석\t성적\t합격여부\n",
      "100\t0\t100\t합격\n"
     ]
    }
   ],
   "source": [
    "#### 내 풀이 -> 같은 점수(key) 입력 시 하나 사라짐 ####\n",
    "# i를 key로 넣고 [] , value값을 다시..........\n",
    "\n",
    "print('입력: ')\n",
    "num = int(input('학생 수: '))\n",
    "score = int(input('합격 기준 점수: '))\n",
    "\n",
    "split_student = []\n",
    "table = {}\n",
    "key = []\n",
    "\n",
    "for i in range(num):\n",
    "    student = input(f'{i+1}번 학생 점수와 결석 일수 (100 0 형식): ')\n",
    "    split_student = student.split(' ')\n",
    "    key = int(split_student[0])\n",
    "    value = int(split_student[1])\n",
    "    table[key] = table.get(key,0) + value\n",
    "\n",
    "print('출력: ')\n",
    "print('점수\\t결석\\t성적\\t합격여부')\n",
    "for i in table:\n",
    "    result = '합격' if i - (table[i] * 5) >= score else '불합격'\n",
    "    print(f'{i}\\t{table[i]}\\t{(i) - (table[i] * 5)}\\t{result}')"
   ]
  },
  {
   "cell_type": "markdown",
   "id": "d4d7af16-1805-42ad-81ee-916838bf3a97",
   "metadata": {},
   "source": [
    "# [문제] 팩토리얼 값 구하기\n",
    "<pre>\n",
    "     n!(n 팩토리얼)은 1부터 n까지 존재하는 모든 자연수의 곱을 의미한다.\n",
    "    사용자로부터 어떤 자연수 n을 입력받아 n!의 값을 출력하는 코드를 작성하세요.\n",
    "    (실행 예시)\n",
    "    양의 정수 값 입력: 10\n",
    "    10! = 3,628,800\n",
    "</pre>"
   ]
  },
  {
   "cell_type": "code",
   "execution_count": 76,
   "id": "f49ed45d-88e9-4a1b-ac1b-b1ff5429a414",
   "metadata": {},
   "outputs": [
    {
     "name": "stdin",
     "output_type": "stream",
     "text": [
      "양의 정수 값 입력:  10\n"
     ]
    },
    {
     "name": "stdout",
     "output_type": "stream",
     "text": [
      "10! = 3,628,800\n"
     ]
    }
   ],
   "source": [
    "num = int(input('양의 정수 값 입력: '))\n",
    "result = num\n",
    "for i in range(num-1,0,-1):             # 시작 - 끝까지 1씩 감소하며 추출 => end는 자신 포함 X => 그래서 END 값은 0 [10,9,...,1]\n",
    "    result *= i                 # result = result * i\n",
    "print(f'{num}! = {result:,}')   # 1000단위 ,"
   ]
  },
  {
   "cell_type": "code",
   "execution_count": 77,
   "id": "3e857742-6e40-4ad9-851b-449c4c3a74e8",
   "metadata": {},
   "outputs": [
    {
     "name": "stdin",
     "output_type": "stream",
     "text": [
      "양의 정수 값 입력:  10\n"
     ]
    },
    {
     "name": "stdout",
     "output_type": "stream",
     "text": [
      "10! = 3,628,800\n"
     ]
    }
   ],
   "source": [
    "num = int(input('양의 정수 값 입력: '))\n",
    "result = 1\n",
    "for i in range(num,0,-1):\n",
    "    result *= i                 # result = result * i\n",
    "print(f'{num}! = {result:,}') "
   ]
  },
  {
   "cell_type": "markdown",
   "id": "69336685-c826-4d5e-877f-901bd7c8f714",
   "metadata": {},
   "source": [
    "# [문제] 피보나치 수열 구현하기\n",
    "<pre>\n",
    "    피보나치 수열은 첫째 및 둘째 항이 1이며, 그 이후의 항은 바로 앞 두 항의 합으로 이루어진 수열을 말한다.\n",
    "    사용자로부터 어떤 정수를 입력받아 입력받은 수보다 작거나 같은 수로만 이루어진 피보나치 수열을 출력하는 코드를 작성하세요.\n",
    "    (실행 예시)\n",
    "    입력: 10\n",
    "    출력: 1 1 2 3 5 8\n",
    "</pre>"
   ]
  },
  {
   "cell_type": "code",
   "execution_count": 98,
   "id": "f7e78f04-0d72-40d4-8914-cd26aee37279",
   "metadata": {},
   "outputs": [
    {
     "name": "stdin",
     "output_type": "stream",
     "text": [
      "입력:  10\n"
     ]
    },
    {
     "name": "stdout",
     "output_type": "stream",
     "text": [
      "1 1 2 3 5 8 "
     ]
    }
   ],
   "source": [
    "num = int(input('입력: '))\n",
    "first = 1\n",
    "second = 1\n",
    "sum = 0\n",
    "print(1, 1, end=' ')\n",
    "while True:\n",
    "    sum = first + second\n",
    "    if sum >= num: break\n",
    "    print(sum, end=' ')\n",
    "    first = second\n",
    "    second = sum        "
   ]
  },
  {
   "cell_type": "code",
   "execution_count": 99,
   "id": "2297e35a-0a5c-4978-a10e-1f6264e42298",
   "metadata": {},
   "outputs": [
    {
     "name": "stdin",
     "output_type": "stream",
     "text": [
      "입력:  10\n"
     ]
    },
    {
     "name": "stdout",
     "output_type": "stream",
     "text": [
      "1 1 2 3 5 8 "
     ]
    }
   ],
   "source": [
    "num = int(input('입력: '))\n",
    "first = 0\n",
    "second = 1\n",
    "temp = 0\n",
    "while second <= num:\n",
    "    print(second, end=' ')\n",
    "    temp = second     # 다음 항을 구할 때 first 값이 되어야 하기 때문에 저장\n",
    "    second = first + second\n",
    "    first = temp"
   ]
  },
  {
   "cell_type": "code",
   "execution_count": 4,
   "id": "3dacff29-a5e8-4d73-b578-3c3e81fbca29",
   "metadata": {},
   "outputs": [
    {
     "name": "stdin",
     "output_type": "stream",
     "text": [
      "입력:  10\n"
     ]
    },
    {
     "name": "stdout",
     "output_type": "stream",
     "text": [
      "[1, 1, 2, 3, 5, 8, 13]\n"
     ]
    }
   ],
   "source": [
    "################\n",
    "num = int(input('입력: '))\n",
    "result = [1,1]\n",
    "sum = 0\n",
    "\n",
    "for i in range(2,num):\n",
    "    if sum <= num:\n",
    "        sum = result[i-1] + result[i-2]\n",
    "        result.append(sum)\n",
    "print(result)"
   ]
  },
  {
   "cell_type": "code",
   "execution_count": 8,
   "id": "d2a6cccb-9719-4457-b876-d87558daeeaf",
   "metadata": {},
   "outputs": [
    {
     "name": "stdin",
     "output_type": "stream",
     "text": [
      "입력:  10\n"
     ]
    },
    {
     "name": "stdout",
     "output_type": "stream",
     "text": [
      "[1, 1, 2, 3, 5, 8]\n"
     ]
    }
   ],
   "source": [
    "n = int(input('입력: '))\n",
    "result = [1,1]\n",
    "while sum(result[-2:]) <= n: #전체 원소 중 끝 2개\n",
    "    result.append(sum(result[-2:]))\n",
    "print(result)"
   ]
  },
  {
   "cell_type": "markdown",
   "id": "103df94d-d306-493e-a92b-f52bd31d7dc1",
   "metadata": {},
   "source": [
    "# [문제] 삽입 정렬 알고리즘\n",
    "<pre>\n",
    "    삽입 정렬은 리스트의 모든 요소를 앞에서부터 차례로 이미 정렬된 부분과 비교하여, 자신의 위치를 찾아 삽입함으로써 정렬을 완성하는 알고리즘이다.\n",
    "    [31, 25, 12, 22, 11]\n",
    "    위와 같은 요소로 이루어진 리스트를 선언하고, 삽입 정렬 알고리즘을 통해 오름차순으로 정렬한 후, 결과를 출력하는 코드를 작성하세요.\n",
    "</pre>"
   ]
  },
  {
   "cell_type": "code",
   "execution_count": 4,
   "id": "a1336469-7aef-4b19-8f2c-ff3249155593",
   "metadata": {},
   "outputs": [
    {
     "name": "stdout",
     "output_type": "stream",
     "text": [
      "정렬 전:  [31, 25, 12, 22, 11]\n",
      "정렬 후:  [11, 12, 22, 25, 31]\n"
     ]
    }
   ],
   "source": [
    "values = [31, 25, 12, 22, 11]\n",
    "print('정렬 전: ', values)\n",
    "for i in range(1, len(values)):\n",
    "    key = values[i]  # 비교 기준이 되는 값\n",
    "    j = i -1  # 비교 기준 값 왼쪽에 있는 값의 인덱스 (하나씩 감소해 가며 해당 위치 값과 비교)\n",
    "    while j >= 0 and values[j] > key:   # 기준값보다 왼쪽 값이 크면    # for문으로 바꿔 보기 ^^\n",
    "        values[j+1] = values[j]  # 오른쪽으로 값 이동\n",
    "        j -= 1\n",
    "        values[j+1] = key  # 기준값 삽입\n",
    "print('정렬 후: ', values)"
   ]
  },
  {
   "cell_type": "markdown",
   "id": "18ea8328-0685-4ae8-902e-402eb3cf3dd6",
   "metadata": {},
   "source": [
    "# [문제] 버블 정렬 알고리즘\n",
    "<pre>\n",
    "    버블 정렬은 리스트에서 인접한 두 원소의 크기를 비교하여 순서에 맞게 정렬하는 알고리즘을 말한다.\n",
    "    일반적으로 첫 번째 요소부터 시작해서, 첫 번째 요소의 크기와 두 번째 요소의 크기를 비교하여 미리 정한 오름차순 또는 내림차순에 따라 두 요소가 순서에 맞지 않지 않게 위치한 경우 서로 교환한다.\n",
    "    이후 두 번째 요소와 세 번째 요소 또한 같은 방식의 작업을 거치며 이와 같은 작업을 마지막 요소까지 반복해서 수행한다.\n",
    "\n",
    "    [5, 3, 7, 2, 11]\n",
    "    이와 같은 요소로 이루어진 리스트를 선언하고 버블 정렬 알고리즘을 통해 오름차순으로 정렬한 후, 결과를 출력하는 코드를 작성하\n",
    "</pre>"
   ]
  },
  {
   "cell_type": "code",
   "execution_count": 1,
   "id": "48896a1a-0819-48b9-aefd-8a170e6473a6",
   "metadata": {},
   "outputs": [
    {
     "name": "stdout",
     "output_type": "stream",
     "text": [
      "정렬 전:  [5, 3, 7, 2, 11]\n",
      "정렬 후:  [2, 3, 5, 7, 11]\n"
     ]
    }
   ],
   "source": [
    "values = [5, 3, 7, 2, 11]\n",
    "print('정렬 전: ', values)\n",
    "for n in range(len(values)):\n",
    "    for i in range(len(values)-1):\n",
    "        left = i   # 왼쪽 요소\n",
    "        right = i+1  # 오른쪽 요소\n",
    "        if values[left] > values[right]:              # 부등호만 바꾸면 오름차순\n",
    "            temp = values[left]\n",
    "            values[left] = values[right]\n",
    "            values[right] = temp\n",
    "print('정렬 후: ', values)"
   ]
  },
  {
   "cell_type": "code",
   "execution_count": 3,
   "id": "59d83cd5-1343-46ee-92b0-dc98ffe25837",
   "metadata": {},
   "outputs": [
    {
     "name": "stdout",
     "output_type": "stream",
     "text": [
      "정렬 전:  [1, 2, 3, 4, 5]\n",
      "0\n",
      "정렬 후:  [1, 2, 3, 4, 5]\n"
     ]
    }
   ],
   "source": [
    "# values = [5, 3, 7, 2, 11]\n",
    "values = [1, 2, 3, 4, 5]\n",
    "print('정렬 전: ', values)\n",
    "for n in range(len(values)):\n",
    "    print(n)\n",
    "    swapped = False                      # = 자리 바꿈 발생 안 함\n",
    "    for i in range(len(values)-1):\n",
    "        left = i   # 왼쪽 요소\n",
    "        right = i+1  # 오른쪽 요소\n",
    "        if values[left] > values[right]:              # 부등호만 바꾸면 오름차순\n",
    "            temp = values[left]\n",
    "            values[left] = values[right]\n",
    "            values[right] = temp\n",
    "            swapped = True               # = 자리 바꿈 일어남\n",
    "    if not swapped: break                     # = 이미 정렬돼 있음\n",
    "print('정렬 후: ', values)"
   ]
  },
  {
   "cell_type": "markdown",
   "id": "1495ab30-4dac-421d-86ac-fd462970c2c1",
   "metadata": {},
   "source": [
    "[문제] 야구게임\n",
    "<pre>\n",
    "    다음과 같은 규칙에 따라 컴퓨터가 0-9 사이의 임의의 정수 3개를 생성한 숫자를 숫자와 순서까지 맞히는 프로그램을 작성하세요.\n",
    "    * 숫자는 맞혔으나 위치가 다른 경우, 숫자 개수만큼 볼(Ball)로 표현하고, 숫자와 위치까지 맞힌 경우에는 스트라이크(Strike)로 표현한다.\n",
    "    * 게임은 3Strike가 되면 종료되며 시도 횟수를 보여 준다.\n",
    "    * 다음 두 가지 함수를 정의하여 구현한다.\n",
    "        - randomNumber(): 0-9 사이의 중복되지 않은 정수 3개를 반환하는 함수\n",
    "        - inputNumber(): 키보드로 0-9 사이의 정수 하나를 입력받아 반환하는 함수 (ValueError 예외처리)\n",
    "    ************** Baseball Game ************** \n",
    "    각각의 입력 범위는 0-9입니다.\n",
    "    지금부터 게임을 시작합니다.\n",
    "    *******************************************\n",
    "    첫 번째 값:   #inputnumber사용, 첫번쨰-세번째까지 중복된 값 입력되면 안 됨 . 오류 처리\n",
    "    두 번째 값:\n",
    "    세 번째 값:\n",
    "    count: 1 -> 현재 입력한 내용에 대한 결과는 1Strike, 0Ball 입니다.\n",
    "    첫 번째 값: 10   #inputnumber사용\n",
    "    0-9 사이의 정수만 입력하세요.\n",
    "    첫 번째 값: a\n",
    "    0-9 사이의 정수만 입력하세요.\n",
    "    \n",
    "</pre>"
   ]
  },
  {
   "cell_type": "code",
   "execution_count": null,
   "id": "16a9044a-f6da-47e5-a866-a0ae10b5935d",
   "metadata": {},
   "outputs": [],
   "source": [
    "import random\n",
    "\n",
    "# def randomNumber():\n",
    "#    n = set()\n",
    "#    while True:\n",
    "#        i = random.randint(0,9)\n",
    "#        n.add(i)\n",
    "#        if len(n) == 3: break\n",
    "#    return n\n",
    "\n",
    "def randomNumber():\n",
    "    n = list(range(10))\n",
    "    return random.sample(n,3)\n",
    "\n",
    "\n",
    "def inputNumber():\n",
    "    n = 0\n",
    "    while True:\n",
    "        try:\n",
    "            n = int(input())\n",
    "            if 0 <= n <= 9:\n",
    "                break\n",
    "            else:\n",
    "                print('0-9 사이의 정수만 입력하세요.')\n",
    "        except ValueError as e:\n",
    "            print('0-9 사이의 정수만 입력하세요.')\n",
    "    return n \n",
    "\n",
    "randomNums = randomNumber()\n",
    "count = 0\n",
    "print(''' ************** Baseball Game ************** \n",
    "    각각의 입력 범위는 0-9입니다.\n",
    "    지금부터 게임을 시작합니다.\n",
    "    *******************************************''')\n",
    "while True:\n",
    "    strike = 0\n",
    "    ball = 0\n",
    "    count += 1\n",
    "    inputNums = []  # 사용자가 입력한 정수 3개를 저장\n",
    "    order = ['첫', '두', '세']\n",
    "    i = 0\n",
    "    while i <= 2:\n",
    "        print(f'{order[i]}번째 값:', end = '')\n",
    "        n = inputNumber()\n",
    "        if n not in inputNums:\n",
    "            inputNums.append(n)\n",
    "            i += 1\n",
    "\n",
    "    for i in range(3):\n",
    "        for j in range(3):\n",
    "            if randomNums[i] == inputNums[j] and i == j:\n",
    "                strike += 1\n",
    "            elif randomNums[i] == inputNums[j]:\n",
    "                ball += 1\n",
    "\n",
    "    print(f'count:{count} -> 현재 입력한 내용에 대한 결과는 {strike}Strike, {ball}Ball 입니다.')\n",
    "\n",
    "    if strike == 3:\n",
    "        print(f'축하합니다. 총 {count}번 만에 성공하셨습니다.')\n",
    "        break"
   ]
  }
 ],
 "metadata": {
  "kernelspec": {
   "display_name": "Python 3 (ipykernel)",
   "language": "python",
   "name": "python3"
  },
  "language_info": {
   "codemirror_mode": {
    "name": "ipython",
    "version": 3
   },
   "file_extension": ".py",
   "mimetype": "text/x-python",
   "name": "python",
   "nbconvert_exporter": "python",
   "pygments_lexer": "ipython3",
   "version": "3.11.7"
  }
 },
 "nbformat": 4,
 "nbformat_minor": 5
}
